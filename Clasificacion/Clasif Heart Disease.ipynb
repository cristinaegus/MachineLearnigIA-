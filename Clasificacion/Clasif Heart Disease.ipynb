{
 "cells": [
  {
   "cell_type": "markdown",
   "metadata": {
    "id": "cKWnhpmUqpRv"
   },
   "source": [
    "# Ejercicio de **Clasificación Binaria**"
   ]
  },
  {
   "cell_type": "markdown",
   "metadata": {
    "id": "2vOkOZWxjxYQ"
   },
   "source": [
    "Los modelos de clasificacion son modelos que buscan predecir si una observacion pertenece a un determinado grupo o a otro en funcion de sus características."
   ]
  },
  {
   "cell_type": "markdown",
   "metadata": {
    "id": "AGJjAXJpkMSg"
   },
   "source": [
    "# Importamos las librerí­as"
   ]
  },
  {
   "cell_type": "code",
   "execution_count": 1,
   "metadata": {
    "executionInfo": {
     "elapsed": 2,
     "status": "ok",
     "timestamp": 1751105638922,
     "user": {
      "displayName": "Aitor Donado",
      "userId": "08246046509718212083"
     },
     "user_tz": -120
    },
    "id": "WsebUXi1kQsU"
   },
   "outputs": [],
   "source": [
    "import numpy as np\n",
    "import pandas as pd\n",
    "import os"
   ]
  },
  {
   "cell_type": "markdown",
   "metadata": {
    "id": "Lu3fZ8JtkW7E"
   },
   "source": [
    "## Para regresión logística"
   ]
  },
  {
   "cell_type": "code",
   "execution_count": 2,
   "metadata": {
    "executionInfo": {
     "elapsed": 5,
     "status": "ok",
     "timestamp": 1751105638928,
     "user": {
      "displayName": "Aitor Donado",
      "userId": "08246046509718212083"
     },
     "user_tz": -120
    },
    "id": "c9IBv2O-kgQL"
   },
   "outputs": [],
   "source": [
    "from sklearn.linear_model import LogisticRegression\n",
    "from sklearn.metrics import confusion_matrix"
   ]
  },
  {
   "cell_type": "markdown",
   "metadata": {
    "id": "ii3u4gfdklCS"
   },
   "source": [
    "## Para normalizar los datos"
   ]
  },
  {
   "cell_type": "markdown",
   "metadata": {
    "id": "eTqm8no9rQZa"
   },
   "source": [
    "Documentación: https://scikit-learn.org/stable/modules/preprocessing.html"
   ]
  },
  {
   "cell_type": "code",
   "execution_count": 3,
   "metadata": {
    "executionInfo": {
     "elapsed": 4,
     "status": "ok",
     "timestamp": 1751105638931,
     "user": {
      "displayName": "Aitor Donado",
      "userId": "08246046509718212083"
     },
     "user_tz": -120
    },
    "id": "iLdRUKe3krjS"
   },
   "outputs": [],
   "source": [
    "from sklearn import preprocessing"
   ]
  },
  {
   "cell_type": "markdown",
   "metadata": {
    "id": "Hu87vquektT5"
   },
   "source": [
    "## Clasificador KNN"
   ]
  },
  {
   "cell_type": "code",
   "execution_count": 4,
   "metadata": {
    "executionInfo": {
     "elapsed": 13,
     "status": "ok",
     "timestamp": 1751105638954,
     "user": {
      "displayName": "Aitor Donado",
      "userId": "08246046509718212083"
     },
     "user_tz": -120
    },
    "id": "OL_2ICXMkx3d"
   },
   "outputs": [],
   "source": [
    "from sklearn.model_selection import train_test_split\n",
    "from sklearn.neighbors import KNeighborsClassifier\n",
    "from sklearn.metrics import accuracy_score\n",
    "from sklearn import metrics"
   ]
  },
  {
   "cell_type": "markdown",
   "metadata": {
    "id": "Ie7Y_2eTk0oG"
   },
   "source": [
    "## Naive Bayes (con cross-validation)"
   ]
  },
  {
   "cell_type": "code",
   "execution_count": 5,
   "metadata": {
    "executionInfo": {
     "elapsed": 20,
     "status": "ok",
     "timestamp": 1751105638975,
     "user": {
      "displayName": "Aitor Donado",
      "userId": "08246046509718212083"
     },
     "user_tz": -120
    },
    "id": "rTbac5Yfk7Re"
   },
   "outputs": [],
   "source": [
    "from sklearn.naive_bayes import GaussianNB\n",
    "from sklearn.model_selection import cross_val_score"
   ]
  },
  {
   "cell_type": "markdown",
   "metadata": {
    "id": "aFiphPAclJ4a"
   },
   "source": [
    "## Árboles de decisión"
   ]
  },
  {
   "cell_type": "code",
   "execution_count": 1,
   "metadata": {
    "executionInfo": {
     "elapsed": 1,
     "status": "ok",
     "timestamp": 1751105638977,
     "user": {
      "displayName": "Aitor Donado",
      "userId": "08246046509718212083"
     },
     "user_tz": -120
    },
    "id": "0nhuVrWDjkKz"
   },
   "outputs": [
    {
     "name": "stdout",
     "output_type": "stream",
     "text": [
      "✅ pydotplus disponible - Se pueden generar visualizaciones avanzadas\n"
     ]
    }
   ],
   "source": [
    "# Importaciones para árboles de decisión\n",
    "from sklearn import tree\n",
    "from sklearn.tree import export_graphviz, export_text\n",
    "from six import StringIO\n",
    "\n",
    "# Opción 1: Con pydotplus (para visualización avanzada)\n",
    "try:\n",
    "    import pydotplus\n",
    "    PYDOTPLUS_AVAILABLE = True\n",
    "    print(\"✅ pydotplus disponible - Se pueden generar visualizaciones avanzadas\")\n",
    "except ImportError:\n",
    "    PYDOTPLUS_AVAILABLE = False\n",
    "    print(\"⚠️ pydotplus no disponible - Se usará visualización básica\")\n",
    "\n",
    "# Opción 2: Alternativa simple con matplotlib\n",
    "import matplotlib.pyplot as plt"
   ]
  },
  {
   "cell_type": "markdown",
   "metadata": {
    "id": "7vc2HSiXlKtz"
   },
   "source": [
    "## Random Forest"
   ]
  },
  {
   "cell_type": "code",
   "execution_count": 2,
   "metadata": {
    "executionInfo": {
     "elapsed": 1,
     "status": "ok",
     "timestamp": 1751105638978,
     "user": {
      "displayName": "Aitor Donado",
      "userId": "08246046509718212083"
     },
     "user_tz": -120
    },
    "id": "B-eh7ndRlLel"
   },
   "outputs": [],
   "source": [
    "from sklearn.ensemble import RandomForestClassifier"
   ]
  },
  {
   "cell_type": "markdown",
   "metadata": {
    "id": "ANAGyq3plMFs"
   },
   "source": [
    "## XGBoost"
   ]
  },
  {
   "cell_type": "code",
   "execution_count": 3,
   "metadata": {
    "executionInfo": {
     "elapsed": 1,
     "status": "ok",
     "timestamp": 1751105638979,
     "user": {
      "displayName": "Aitor Donado",
      "userId": "08246046509718212083"
     },
     "user_tz": -120
    },
    "id": "v1d1i6gqlMi0"
   },
   "outputs": [],
   "source": [
    "import xgboost as xgb"
   ]
  },
  {
   "cell_type": "markdown",
   "metadata": {
    "id": "Sh79WgJ8XQyH"
   },
   "source": [
    "## Gráficas personalizadas"
   ]
  },
  {
   "cell_type": "code",
   "execution_count": 4,
   "metadata": {
    "executionInfo": {
     "elapsed": 6,
     "status": "ok",
     "timestamp": 1751105639013,
     "user": {
      "displayName": "Aitor Donado",
      "userId": "08246046509718212083"
     },
     "user_tz": -120
    },
    "id": "RgqFVzYKUSpO"
   },
   "outputs": [],
   "source": [
    "import matplotlib.pyplot as plt\n",
    "import seaborn as sns\n",
    "\n",
    "def cuadro_matriz_confusion(confusion):\n",
    "    fig, ax = plt.subplots()\n",
    "\n",
    "    labels = ['Verdadero Neg', 'Falso Pos', 'Falso Neg', 'Verdadero Pos']\n",
    "    categories = ['0', '1']\n",
    "    counts = ['{0:,}'.format(value) for value in confusion.flatten()]\n",
    "    percentages = ['{0:.2%}'.format(value) for value in confusion.flatten() / np.sum(confusion)]\n",
    "    labels = [f'{label}\\n{count}\\n{percentage}' for label, count, percentage in zip(labels, counts, percentages)]\n",
    "    labels = np.asarray(labels).reshape(2, 2)\n",
    "\n",
    "    sns.heatmap(confusion, annot=labels, fmt='', cmap='Blues', xticklabels=categories, yticklabels=categories, ax=ax)\n",
    "    plt.xlabel('Valores predichos')\n",
    "    plt.ylabel('Valores reales')\n",
    "    plt.title('Matriz de confusión')\n",
    "    plt.show()"
   ]
  },
  {
   "cell_type": "markdown",
   "metadata": {
    "id": "xPazFyjrXXiI"
   },
   "source": [
    "## Métricas personalizadas"
   ]
  },
  {
   "cell_type": "code",
   "execution_count": 5,
   "metadata": {
    "executionInfo": {
     "elapsed": 6,
     "status": "ok",
     "timestamp": 1751105639014,
     "user": {
      "displayName": "Aitor Donado",
      "userId": "08246046509718212083"
     },
     "user_tz": -120
    },
    "id": "EO9lMI_PVGeJ"
   },
   "outputs": [],
   "source": [
    "def resumen_metricas(confusion, y_test):\n",
    "    # Calcular las tasas de precisión, sensibilidad, especificidad y valor predictivo positivo\n",
    "    accuracy = (confusion[0, 0] + confusion[1, 1]) / len(y_test)\n",
    "    recall = confusion[1, 1] / (confusion[1, 1] + confusion[1, 0])\n",
    "    specificity = confusion[0, 0] / (confusion[0, 0] + confusion[0, 1])\n",
    "    ppv = confusion[1, 1] / (confusion[1, 1] + confusion[0, 1])\n",
    "\n",
    "    # Mostrar las tasas de precisión, sensibilidad, especificidad y valor predictivo positivo\n",
    "    print(\"Precisión (Accuracy):\", accuracy)\n",
    "    print(\"Sensibilidad (Recall):\", recall)\n",
    "    print(\"Especificidad:\", specificity)\n",
    "    print(\"Valor Predictivo Positivo (PPV):\", ppv)"
   ]
  },
  {
   "cell_type": "markdown",
   "metadata": {
    "id": "d7PbRPhclgen"
   },
   "source": [
    "# Carga de los datos:"
   ]
  },
  {
   "cell_type": "code",
   "execution_count": 8,
   "metadata": {
    "executionInfo": {
     "elapsed": 67,
     "status": "ok",
     "timestamp": 1751105639079,
     "user": {
      "displayName": "Aitor Donado",
      "userId": "08246046509718212083"
     },
     "user_tz": -120
    },
    "id": "wxe6OWdPlfp_"
   },
   "outputs": [],
   "source": [
    "import pandas as pd\n",
    "\n",
    "data = pd.read_csv(r\"C:\\Users\\Dell\\PyhtonIA\\Machine Learning\\Clasificacion\\heart_data.csv\")"
   ]
  },
  {
   "cell_type": "markdown",
   "metadata": {
    "id": "rGQDnC5Xmm2D"
   },
   "source": [
    "Para aplicar los modelos es necesario que todos los valores tengan un formato numérico\n",
    "Para ello hacemos las siguientes transformaciones.\n",
    "\n",
    "El primer paso es conocer nuestros datos.\n",
    "Realizamos una primera visualizacion."
   ]
  },
  {
   "cell_type": "markdown",
   "metadata": {
    "id": "FoGuOzGz23zF"
   },
   "source": [
    "## Exploración y Análisis de los datos"
   ]
  },
  {
   "cell_type": "code",
   "execution_count": 76,
   "metadata": {
    "colab": {
     "base_uri": "https://localhost:8080/",
     "height": 363
    },
    "executionInfo": {
     "elapsed": 61,
     "status": "ok",
     "timestamp": 1751105639166,
     "user": {
      "displayName": "Aitor Donado",
      "userId": "08246046509718212083"
     },
     "user_tz": -120
    },
    "id": "_6ZjBqvHmQp9",
    "outputId": "0c74ae38-416a-46c7-a762-4af36068ae7b"
   },
   "outputs": [
    {
     "data": {
      "application/vnd.google.colaboratory.intrinsic+json": {
       "summary": "{\n  \"name\": \"data\",\n  \"rows\": 70000,\n  \"fields\": [\n    {\n      \"column\": \"index\",\n      \"properties\": {\n        \"dtype\": \"number\",\n        \"std\": 20207,\n        \"min\": 0,\n        \"max\": 69999,\n        \"num_unique_values\": 70000,\n        \"samples\": [\n          46730,\n          48393,\n          41416\n        ],\n        \"semantic_type\": \"\",\n        \"description\": \"\"\n      }\n    },\n    {\n      \"column\": \"id\",\n      \"properties\": {\n        \"dtype\": \"number\",\n        \"std\": 28851,\n        \"min\": 0,\n        \"max\": 99999,\n        \"num_unique_values\": 70000,\n        \"samples\": [\n          66728,\n          69098,\n          59185\n        ],\n        \"semantic_type\": \"\",\n        \"description\": \"\"\n      }\n    },\n    {\n      \"column\": \"age\",\n      \"properties\": {\n        \"dtype\": \"number\",\n        \"std\": 2467,\n        \"min\": 10798,\n        \"max\": 23713,\n        \"num_unique_values\": 8076,\n        \"samples\": [\n          17317,\n          21437,\n          17627\n        ],\n        \"semantic_type\": \"\",\n        \"description\": \"\"\n      }\n    },\n    {\n      \"column\": \"gender\",\n      \"properties\": {\n        \"dtype\": \"number\",\n        \"std\": 0,\n        \"min\": 1,\n        \"max\": 2,\n        \"num_unique_values\": 2,\n        \"samples\": [\n          1,\n          2\n        ],\n        \"semantic_type\": \"\",\n        \"description\": \"\"\n      }\n    },\n    {\n      \"column\": \"height\",\n      \"properties\": {\n        \"dtype\": \"number\",\n        \"std\": 8,\n        \"min\": 55,\n        \"max\": 250,\n        \"num_unique_values\": 109,\n        \"samples\": [\n          125,\n          181\n        ],\n        \"semantic_type\": \"\",\n        \"description\": \"\"\n      }\n    },\n    {\n      \"column\": \"weight\",\n      \"properties\": {\n        \"dtype\": \"number\",\n        \"std\": 14.39575667851056,\n        \"min\": 10.0,\n        \"max\": 200.0,\n        \"num_unique_values\": 287,\n        \"samples\": [\n          68.0,\n          88.5\n        ],\n        \"semantic_type\": \"\",\n        \"description\": \"\"\n      }\n    },\n    {\n      \"column\": \"ap_hi\",\n      \"properties\": {\n        \"dtype\": \"number\",\n        \"std\": 154,\n        \"min\": -150,\n        \"max\": 16020,\n        \"num_unique_values\": 153,\n        \"samples\": [\n          11500,\n          17\n        ],\n        \"semantic_type\": \"\",\n        \"description\": \"\"\n      }\n    },\n    {\n      \"column\": \"ap_lo\",\n      \"properties\": {\n        \"dtype\": \"number\",\n        \"std\": 188,\n        \"min\": -70,\n        \"max\": 11000,\n        \"num_unique_values\": 157,\n        \"samples\": [\n          810,\n          8044\n        ],\n        \"semantic_type\": \"\",\n        \"description\": \"\"\n      }\n    },\n    {\n      \"column\": \"cholesterol\",\n      \"properties\": {\n        \"dtype\": \"number\",\n        \"std\": 0,\n        \"min\": 1,\n        \"max\": 3,\n        \"num_unique_values\": 3,\n        \"samples\": [\n          1,\n          3\n        ],\n        \"semantic_type\": \"\",\n        \"description\": \"\"\n      }\n    },\n    {\n      \"column\": \"gluc\",\n      \"properties\": {\n        \"dtype\": \"number\",\n        \"std\": 0,\n        \"min\": 1,\n        \"max\": 3,\n        \"num_unique_values\": 3,\n        \"samples\": [\n          1,\n          2\n        ],\n        \"semantic_type\": \"\",\n        \"description\": \"\"\n      }\n    },\n    {\n      \"column\": \"smoke\",\n      \"properties\": {\n        \"dtype\": \"number\",\n        \"std\": 0,\n        \"min\": 0,\n        \"max\": 1,\n        \"num_unique_values\": 2,\n        \"samples\": [\n          1,\n          0\n        ],\n        \"semantic_type\": \"\",\n        \"description\": \"\"\n      }\n    },\n    {\n      \"column\": \"alco\",\n      \"properties\": {\n        \"dtype\": \"number\",\n        \"std\": 0,\n        \"min\": 0,\n        \"max\": 1,\n        \"num_unique_values\": 2,\n        \"samples\": [\n          1,\n          0\n        ],\n        \"semantic_type\": \"\",\n        \"description\": \"\"\n      }\n    },\n    {\n      \"column\": \"active\",\n      \"properties\": {\n        \"dtype\": \"number\",\n        \"std\": 0,\n        \"min\": 0,\n        \"max\": 1,\n        \"num_unique_values\": 2,\n        \"samples\": [\n          0,\n          1\n        ],\n        \"semantic_type\": \"\",\n        \"description\": \"\"\n      }\n    },\n    {\n      \"column\": \"cardio\",\n      \"properties\": {\n        \"dtype\": \"number\",\n        \"std\": 0,\n        \"min\": 0,\n        \"max\": 1,\n        \"num_unique_values\": 2,\n        \"samples\": [\n          1,\n          0\n        ],\n        \"semantic_type\": \"\",\n        \"description\": \"\"\n      }\n    }\n  ]\n}",
       "type": "dataframe",
       "variable_name": "data"
      },
      "text/html": [
       "\n",
       "  <div id=\"df-21b061e7-3426-419f-93c1-eb84d5462087\" class=\"colab-df-container\">\n",
       "    <div>\n",
       "<style scoped>\n",
       "    .dataframe tbody tr th:only-of-type {\n",
       "        vertical-align: middle;\n",
       "    }\n",
       "\n",
       "    .dataframe tbody tr th {\n",
       "        vertical-align: top;\n",
       "    }\n",
       "\n",
       "    .dataframe thead th {\n",
       "        text-align: right;\n",
       "    }\n",
       "</style>\n",
       "<table border=\"1\" class=\"dataframe\">\n",
       "  <thead>\n",
       "    <tr style=\"text-align: right;\">\n",
       "      <th></th>\n",
       "      <th>index</th>\n",
       "      <th>id</th>\n",
       "      <th>age</th>\n",
       "      <th>gender</th>\n",
       "      <th>height</th>\n",
       "      <th>weight</th>\n",
       "      <th>ap_hi</th>\n",
       "      <th>ap_lo</th>\n",
       "      <th>cholesterol</th>\n",
       "      <th>gluc</th>\n",
       "      <th>smoke</th>\n",
       "      <th>alco</th>\n",
       "      <th>active</th>\n",
       "      <th>cardio</th>\n",
       "    </tr>\n",
       "  </thead>\n",
       "  <tbody>\n",
       "    <tr>\n",
       "      <th>0</th>\n",
       "      <td>0</td>\n",
       "      <td>0</td>\n",
       "      <td>18393</td>\n",
       "      <td>2</td>\n",
       "      <td>168</td>\n",
       "      <td>62.0</td>\n",
       "      <td>110</td>\n",
       "      <td>80</td>\n",
       "      <td>1</td>\n",
       "      <td>1</td>\n",
       "      <td>0</td>\n",
       "      <td>0</td>\n",
       "      <td>1</td>\n",
       "      <td>0</td>\n",
       "    </tr>\n",
       "    <tr>\n",
       "      <th>1</th>\n",
       "      <td>1</td>\n",
       "      <td>1</td>\n",
       "      <td>20228</td>\n",
       "      <td>1</td>\n",
       "      <td>156</td>\n",
       "      <td>85.0</td>\n",
       "      <td>140</td>\n",
       "      <td>90</td>\n",
       "      <td>3</td>\n",
       "      <td>1</td>\n",
       "      <td>0</td>\n",
       "      <td>0</td>\n",
       "      <td>1</td>\n",
       "      <td>1</td>\n",
       "    </tr>\n",
       "    <tr>\n",
       "      <th>2</th>\n",
       "      <td>2</td>\n",
       "      <td>2</td>\n",
       "      <td>18857</td>\n",
       "      <td>1</td>\n",
       "      <td>165</td>\n",
       "      <td>64.0</td>\n",
       "      <td>130</td>\n",
       "      <td>70</td>\n",
       "      <td>3</td>\n",
       "      <td>1</td>\n",
       "      <td>0</td>\n",
       "      <td>0</td>\n",
       "      <td>0</td>\n",
       "      <td>1</td>\n",
       "    </tr>\n",
       "    <tr>\n",
       "      <th>3</th>\n",
       "      <td>3</td>\n",
       "      <td>3</td>\n",
       "      <td>17623</td>\n",
       "      <td>2</td>\n",
       "      <td>169</td>\n",
       "      <td>82.0</td>\n",
       "      <td>150</td>\n",
       "      <td>100</td>\n",
       "      <td>1</td>\n",
       "      <td>1</td>\n",
       "      <td>0</td>\n",
       "      <td>0</td>\n",
       "      <td>1</td>\n",
       "      <td>1</td>\n",
       "    </tr>\n",
       "    <tr>\n",
       "      <th>4</th>\n",
       "      <td>4</td>\n",
       "      <td>4</td>\n",
       "      <td>17474</td>\n",
       "      <td>1</td>\n",
       "      <td>156</td>\n",
       "      <td>56.0</td>\n",
       "      <td>100</td>\n",
       "      <td>60</td>\n",
       "      <td>1</td>\n",
       "      <td>1</td>\n",
       "      <td>0</td>\n",
       "      <td>0</td>\n",
       "      <td>0</td>\n",
       "      <td>0</td>\n",
       "    </tr>\n",
       "    <tr>\n",
       "      <th>5</th>\n",
       "      <td>5</td>\n",
       "      <td>8</td>\n",
       "      <td>21914</td>\n",
       "      <td>1</td>\n",
       "      <td>151</td>\n",
       "      <td>67.0</td>\n",
       "      <td>120</td>\n",
       "      <td>80</td>\n",
       "      <td>2</td>\n",
       "      <td>2</td>\n",
       "      <td>0</td>\n",
       "      <td>0</td>\n",
       "      <td>0</td>\n",
       "      <td>0</td>\n",
       "    </tr>\n",
       "    <tr>\n",
       "      <th>6</th>\n",
       "      <td>6</td>\n",
       "      <td>9</td>\n",
       "      <td>22113</td>\n",
       "      <td>1</td>\n",
       "      <td>157</td>\n",
       "      <td>93.0</td>\n",
       "      <td>130</td>\n",
       "      <td>80</td>\n",
       "      <td>3</td>\n",
       "      <td>1</td>\n",
       "      <td>0</td>\n",
       "      <td>0</td>\n",
       "      <td>1</td>\n",
       "      <td>0</td>\n",
       "    </tr>\n",
       "    <tr>\n",
       "      <th>7</th>\n",
       "      <td>7</td>\n",
       "      <td>12</td>\n",
       "      <td>22584</td>\n",
       "      <td>2</td>\n",
       "      <td>178</td>\n",
       "      <td>95.0</td>\n",
       "      <td>130</td>\n",
       "      <td>90</td>\n",
       "      <td>3</td>\n",
       "      <td>3</td>\n",
       "      <td>0</td>\n",
       "      <td>0</td>\n",
       "      <td>1</td>\n",
       "      <td>1</td>\n",
       "    </tr>\n",
       "    <tr>\n",
       "      <th>8</th>\n",
       "      <td>8</td>\n",
       "      <td>13</td>\n",
       "      <td>17668</td>\n",
       "      <td>1</td>\n",
       "      <td>158</td>\n",
       "      <td>71.0</td>\n",
       "      <td>110</td>\n",
       "      <td>70</td>\n",
       "      <td>1</td>\n",
       "      <td>1</td>\n",
       "      <td>0</td>\n",
       "      <td>0</td>\n",
       "      <td>1</td>\n",
       "      <td>0</td>\n",
       "    </tr>\n",
       "    <tr>\n",
       "      <th>9</th>\n",
       "      <td>9</td>\n",
       "      <td>14</td>\n",
       "      <td>19834</td>\n",
       "      <td>1</td>\n",
       "      <td>164</td>\n",
       "      <td>68.0</td>\n",
       "      <td>110</td>\n",
       "      <td>60</td>\n",
       "      <td>1</td>\n",
       "      <td>1</td>\n",
       "      <td>0</td>\n",
       "      <td>0</td>\n",
       "      <td>0</td>\n",
       "      <td>0</td>\n",
       "    </tr>\n",
       "  </tbody>\n",
       "</table>\n",
       "</div>\n",
       "    <div class=\"colab-df-buttons\">\n",
       "\n",
       "  <div class=\"colab-df-container\">\n",
       "    <button class=\"colab-df-convert\" onclick=\"convertToInteractive('df-21b061e7-3426-419f-93c1-eb84d5462087')\"\n",
       "            title=\"Convert this dataframe to an interactive table.\"\n",
       "            style=\"display:none;\">\n",
       "\n",
       "  <svg xmlns=\"http://www.w3.org/2000/svg\" height=\"24px\" viewBox=\"0 -960 960 960\">\n",
       "    <path d=\"M120-120v-720h720v720H120Zm60-500h600v-160H180v160Zm220 220h160v-160H400v160Zm0 220h160v-160H400v160ZM180-400h160v-160H180v160Zm440 0h160v-160H620v160ZM180-180h160v-160H180v160Zm440 0h160v-160H620v160Z\"/>\n",
       "  </svg>\n",
       "    </button>\n",
       "\n",
       "  <style>\n",
       "    .colab-df-container {\n",
       "      display:flex;\n",
       "      gap: 12px;\n",
       "    }\n",
       "\n",
       "    .colab-df-convert {\n",
       "      background-color: #E8F0FE;\n",
       "      border: none;\n",
       "      border-radius: 50%;\n",
       "      cursor: pointer;\n",
       "      display: none;\n",
       "      fill: #1967D2;\n",
       "      height: 32px;\n",
       "      padding: 0 0 0 0;\n",
       "      width: 32px;\n",
       "    }\n",
       "\n",
       "    .colab-df-convert:hover {\n",
       "      background-color: #E2EBFA;\n",
       "      box-shadow: 0px 1px 2px rgba(60, 64, 67, 0.3), 0px 1px 3px 1px rgba(60, 64, 67, 0.15);\n",
       "      fill: #174EA6;\n",
       "    }\n",
       "\n",
       "    .colab-df-buttons div {\n",
       "      margin-bottom: 4px;\n",
       "    }\n",
       "\n",
       "    [theme=dark] .colab-df-convert {\n",
       "      background-color: #3B4455;\n",
       "      fill: #D2E3FC;\n",
       "    }\n",
       "\n",
       "    [theme=dark] .colab-df-convert:hover {\n",
       "      background-color: #434B5C;\n",
       "      box-shadow: 0px 1px 3px 1px rgba(0, 0, 0, 0.15);\n",
       "      filter: drop-shadow(0px 1px 2px rgba(0, 0, 0, 0.3));\n",
       "      fill: #FFFFFF;\n",
       "    }\n",
       "  </style>\n",
       "\n",
       "    <script>\n",
       "      const buttonEl =\n",
       "        document.querySelector('#df-21b061e7-3426-419f-93c1-eb84d5462087 button.colab-df-convert');\n",
       "      buttonEl.style.display =\n",
       "        google.colab.kernel.accessAllowed ? 'block' : 'none';\n",
       "\n",
       "      async function convertToInteractive(key) {\n",
       "        const element = document.querySelector('#df-21b061e7-3426-419f-93c1-eb84d5462087');\n",
       "        const dataTable =\n",
       "          await google.colab.kernel.invokeFunction('convertToInteractive',\n",
       "                                                    [key], {});\n",
       "        if (!dataTable) return;\n",
       "\n",
       "        const docLinkHtml = 'Like what you see? Visit the ' +\n",
       "          '<a target=\"_blank\" href=https://colab.research.google.com/notebooks/data_table.ipynb>data table notebook</a>'\n",
       "          + ' to learn more about interactive tables.';\n",
       "        element.innerHTML = '';\n",
       "        dataTable['output_type'] = 'display_data';\n",
       "        await google.colab.output.renderOutput(dataTable, element);\n",
       "        const docLink = document.createElement('div');\n",
       "        docLink.innerHTML = docLinkHtml;\n",
       "        element.appendChild(docLink);\n",
       "      }\n",
       "    </script>\n",
       "  </div>\n",
       "\n",
       "\n",
       "    <div id=\"df-bdcdd8b3-dae4-46c1-8078-b7bf10973ade\">\n",
       "      <button class=\"colab-df-quickchart\" onclick=\"quickchart('df-bdcdd8b3-dae4-46c1-8078-b7bf10973ade')\"\n",
       "                title=\"Suggest charts\"\n",
       "                style=\"display:none;\">\n",
       "\n",
       "<svg xmlns=\"http://www.w3.org/2000/svg\" height=\"24px\"viewBox=\"0 0 24 24\"\n",
       "     width=\"24px\">\n",
       "    <g>\n",
       "        <path d=\"M19 3H5c-1.1 0-2 .9-2 2v14c0 1.1.9 2 2 2h14c1.1 0 2-.9 2-2V5c0-1.1-.9-2-2-2zM9 17H7v-7h2v7zm4 0h-2V7h2v10zm4 0h-2v-4h2v4z\"/>\n",
       "    </g>\n",
       "</svg>\n",
       "      </button>\n",
       "\n",
       "<style>\n",
       "  .colab-df-quickchart {\n",
       "      --bg-color: #E8F0FE;\n",
       "      --fill-color: #1967D2;\n",
       "      --hover-bg-color: #E2EBFA;\n",
       "      --hover-fill-color: #174EA6;\n",
       "      --disabled-fill-color: #AAA;\n",
       "      --disabled-bg-color: #DDD;\n",
       "  }\n",
       "\n",
       "  [theme=dark] .colab-df-quickchart {\n",
       "      --bg-color: #3B4455;\n",
       "      --fill-color: #D2E3FC;\n",
       "      --hover-bg-color: #434B5C;\n",
       "      --hover-fill-color: #FFFFFF;\n",
       "      --disabled-bg-color: #3B4455;\n",
       "      --disabled-fill-color: #666;\n",
       "  }\n",
       "\n",
       "  .colab-df-quickchart {\n",
       "    background-color: var(--bg-color);\n",
       "    border: none;\n",
       "    border-radius: 50%;\n",
       "    cursor: pointer;\n",
       "    display: none;\n",
       "    fill: var(--fill-color);\n",
       "    height: 32px;\n",
       "    padding: 0;\n",
       "    width: 32px;\n",
       "  }\n",
       "\n",
       "  .colab-df-quickchart:hover {\n",
       "    background-color: var(--hover-bg-color);\n",
       "    box-shadow: 0 1px 2px rgba(60, 64, 67, 0.3), 0 1px 3px 1px rgba(60, 64, 67, 0.15);\n",
       "    fill: var(--button-hover-fill-color);\n",
       "  }\n",
       "\n",
       "  .colab-df-quickchart-complete:disabled,\n",
       "  .colab-df-quickchart-complete:disabled:hover {\n",
       "    background-color: var(--disabled-bg-color);\n",
       "    fill: var(--disabled-fill-color);\n",
       "    box-shadow: none;\n",
       "  }\n",
       "\n",
       "  .colab-df-spinner {\n",
       "    border: 2px solid var(--fill-color);\n",
       "    border-color: transparent;\n",
       "    border-bottom-color: var(--fill-color);\n",
       "    animation:\n",
       "      spin 1s steps(1) infinite;\n",
       "  }\n",
       "\n",
       "  @keyframes spin {\n",
       "    0% {\n",
       "      border-color: transparent;\n",
       "      border-bottom-color: var(--fill-color);\n",
       "      border-left-color: var(--fill-color);\n",
       "    }\n",
       "    20% {\n",
       "      border-color: transparent;\n",
       "      border-left-color: var(--fill-color);\n",
       "      border-top-color: var(--fill-color);\n",
       "    }\n",
       "    30% {\n",
       "      border-color: transparent;\n",
       "      border-left-color: var(--fill-color);\n",
       "      border-top-color: var(--fill-color);\n",
       "      border-right-color: var(--fill-color);\n",
       "    }\n",
       "    40% {\n",
       "      border-color: transparent;\n",
       "      border-right-color: var(--fill-color);\n",
       "      border-top-color: var(--fill-color);\n",
       "    }\n",
       "    60% {\n",
       "      border-color: transparent;\n",
       "      border-right-color: var(--fill-color);\n",
       "    }\n",
       "    80% {\n",
       "      border-color: transparent;\n",
       "      border-right-color: var(--fill-color);\n",
       "      border-bottom-color: var(--fill-color);\n",
       "    }\n",
       "    90% {\n",
       "      border-color: transparent;\n",
       "      border-bottom-color: var(--fill-color);\n",
       "    }\n",
       "  }\n",
       "</style>\n",
       "\n",
       "      <script>\n",
       "        async function quickchart(key) {\n",
       "          const quickchartButtonEl =\n",
       "            document.querySelector('#' + key + ' button');\n",
       "          quickchartButtonEl.disabled = true;  // To prevent multiple clicks.\n",
       "          quickchartButtonEl.classList.add('colab-df-spinner');\n",
       "          try {\n",
       "            const charts = await google.colab.kernel.invokeFunction(\n",
       "                'suggestCharts', [key], {});\n",
       "          } catch (error) {\n",
       "            console.error('Error during call to suggestCharts:', error);\n",
       "          }\n",
       "          quickchartButtonEl.classList.remove('colab-df-spinner');\n",
       "          quickchartButtonEl.classList.add('colab-df-quickchart-complete');\n",
       "        }\n",
       "        (() => {\n",
       "          let quickchartButtonEl =\n",
       "            document.querySelector('#df-bdcdd8b3-dae4-46c1-8078-b7bf10973ade button');\n",
       "          quickchartButtonEl.style.display =\n",
       "            google.colab.kernel.accessAllowed ? 'block' : 'none';\n",
       "        })();\n",
       "      </script>\n",
       "    </div>\n",
       "\n",
       "    </div>\n",
       "  </div>\n"
      ],
      "text/plain": [
       "   index  id    age  gender  height  weight  ap_hi  ap_lo  cholesterol  gluc  \\\n",
       "0      0   0  18393       2     168    62.0    110     80            1     1   \n",
       "1      1   1  20228       1     156    85.0    140     90            3     1   \n",
       "2      2   2  18857       1     165    64.0    130     70            3     1   \n",
       "3      3   3  17623       2     169    82.0    150    100            1     1   \n",
       "4      4   4  17474       1     156    56.0    100     60            1     1   \n",
       "5      5   8  21914       1     151    67.0    120     80            2     2   \n",
       "6      6   9  22113       1     157    93.0    130     80            3     1   \n",
       "7      7  12  22584       2     178    95.0    130     90            3     3   \n",
       "8      8  13  17668       1     158    71.0    110     70            1     1   \n",
       "9      9  14  19834       1     164    68.0    110     60            1     1   \n",
       "\n",
       "   smoke  alco  active  cardio  \n",
       "0      0     0       1       0  \n",
       "1      0     0       1       1  \n",
       "2      0     0       0       1  \n",
       "3      0     0       1       1  \n",
       "4      0     0       0       0  \n",
       "5      0     0       0       0  \n",
       "6      0     0       1       0  \n",
       "7      0     0       1       1  \n",
       "8      0     0       1       0  \n",
       "9      0     0       0       0  "
      ]
     },
     "execution_count": 76,
     "metadata": {},
     "output_type": "execute_result"
    }
   ],
   "source": [
    "data.head(n=10)"
   ]
  },
  {
   "cell_type": "code",
   "execution_count": 9,
   "metadata": {
    "colab": {
     "base_uri": "https://localhost:8080/",
     "height": 488
    },
    "executionInfo": {
     "elapsed": 77,
     "status": "ok",
     "timestamp": 1751105639242,
     "user": {
      "displayName": "Aitor Donado",
      "userId": "08246046509718212083"
     },
     "user_tz": -120
    },
    "id": "tuVjsVdZm_Zg",
    "outputId": "38319708-14d5-4af1-ade7-72621fbdb02d"
   },
   "outputs": [
    {
     "data": {
      "text/html": [
       "<div>\n",
       "<style scoped>\n",
       "    .dataframe tbody tr th:only-of-type {\n",
       "        vertical-align: middle;\n",
       "    }\n",
       "\n",
       "    .dataframe tbody tr th {\n",
       "        vertical-align: top;\n",
       "    }\n",
       "\n",
       "    .dataframe thead th {\n",
       "        text-align: right;\n",
       "    }\n",
       "</style>\n",
       "<table border=\"1\" class=\"dataframe\">\n",
       "  <thead>\n",
       "    <tr style=\"text-align: right;\">\n",
       "      <th></th>\n",
       "      <th>count</th>\n",
       "      <th>mean</th>\n",
       "      <th>std</th>\n",
       "      <th>min</th>\n",
       "      <th>25%</th>\n",
       "      <th>50%</th>\n",
       "      <th>75%</th>\n",
       "      <th>max</th>\n",
       "    </tr>\n",
       "  </thead>\n",
       "  <tbody>\n",
       "    <tr>\n",
       "      <th>index</th>\n",
       "      <td>70000.0</td>\n",
       "      <td>34999.500000</td>\n",
       "      <td>20207.403759</td>\n",
       "      <td>0.0</td>\n",
       "      <td>17499.75</td>\n",
       "      <td>34999.5</td>\n",
       "      <td>52499.25</td>\n",
       "      <td>69999.0</td>\n",
       "    </tr>\n",
       "    <tr>\n",
       "      <th>id</th>\n",
       "      <td>70000.0</td>\n",
       "      <td>49972.419900</td>\n",
       "      <td>28851.302323</td>\n",
       "      <td>0.0</td>\n",
       "      <td>25006.75</td>\n",
       "      <td>50001.5</td>\n",
       "      <td>74889.25</td>\n",
       "      <td>99999.0</td>\n",
       "    </tr>\n",
       "    <tr>\n",
       "      <th>age</th>\n",
       "      <td>70000.0</td>\n",
       "      <td>19468.865814</td>\n",
       "      <td>2467.251667</td>\n",
       "      <td>10798.0</td>\n",
       "      <td>17664.00</td>\n",
       "      <td>19703.0</td>\n",
       "      <td>21327.00</td>\n",
       "      <td>23713.0</td>\n",
       "    </tr>\n",
       "    <tr>\n",
       "      <th>gender</th>\n",
       "      <td>70000.0</td>\n",
       "      <td>1.349571</td>\n",
       "      <td>0.476838</td>\n",
       "      <td>1.0</td>\n",
       "      <td>1.00</td>\n",
       "      <td>1.0</td>\n",
       "      <td>2.00</td>\n",
       "      <td>2.0</td>\n",
       "    </tr>\n",
       "    <tr>\n",
       "      <th>height</th>\n",
       "      <td>70000.0</td>\n",
       "      <td>164.359229</td>\n",
       "      <td>8.210126</td>\n",
       "      <td>55.0</td>\n",
       "      <td>159.00</td>\n",
       "      <td>165.0</td>\n",
       "      <td>170.00</td>\n",
       "      <td>250.0</td>\n",
       "    </tr>\n",
       "    <tr>\n",
       "      <th>weight</th>\n",
       "      <td>70000.0</td>\n",
       "      <td>74.205690</td>\n",
       "      <td>14.395757</td>\n",
       "      <td>10.0</td>\n",
       "      <td>65.00</td>\n",
       "      <td>72.0</td>\n",
       "      <td>82.00</td>\n",
       "      <td>200.0</td>\n",
       "    </tr>\n",
       "    <tr>\n",
       "      <th>ap_hi</th>\n",
       "      <td>70000.0</td>\n",
       "      <td>128.817286</td>\n",
       "      <td>154.011419</td>\n",
       "      <td>-150.0</td>\n",
       "      <td>120.00</td>\n",
       "      <td>120.0</td>\n",
       "      <td>140.00</td>\n",
       "      <td>16020.0</td>\n",
       "    </tr>\n",
       "    <tr>\n",
       "      <th>ap_lo</th>\n",
       "      <td>70000.0</td>\n",
       "      <td>96.630414</td>\n",
       "      <td>188.472530</td>\n",
       "      <td>-70.0</td>\n",
       "      <td>80.00</td>\n",
       "      <td>80.0</td>\n",
       "      <td>90.00</td>\n",
       "      <td>11000.0</td>\n",
       "    </tr>\n",
       "    <tr>\n",
       "      <th>cholesterol</th>\n",
       "      <td>70000.0</td>\n",
       "      <td>1.366871</td>\n",
       "      <td>0.680250</td>\n",
       "      <td>1.0</td>\n",
       "      <td>1.00</td>\n",
       "      <td>1.0</td>\n",
       "      <td>2.00</td>\n",
       "      <td>3.0</td>\n",
       "    </tr>\n",
       "    <tr>\n",
       "      <th>gluc</th>\n",
       "      <td>70000.0</td>\n",
       "      <td>1.226457</td>\n",
       "      <td>0.572270</td>\n",
       "      <td>1.0</td>\n",
       "      <td>1.00</td>\n",
       "      <td>1.0</td>\n",
       "      <td>1.00</td>\n",
       "      <td>3.0</td>\n",
       "    </tr>\n",
       "    <tr>\n",
       "      <th>smoke</th>\n",
       "      <td>70000.0</td>\n",
       "      <td>0.088129</td>\n",
       "      <td>0.283484</td>\n",
       "      <td>0.0</td>\n",
       "      <td>0.00</td>\n",
       "      <td>0.0</td>\n",
       "      <td>0.00</td>\n",
       "      <td>1.0</td>\n",
       "    </tr>\n",
       "    <tr>\n",
       "      <th>alco</th>\n",
       "      <td>70000.0</td>\n",
       "      <td>0.053771</td>\n",
       "      <td>0.225568</td>\n",
       "      <td>0.0</td>\n",
       "      <td>0.00</td>\n",
       "      <td>0.0</td>\n",
       "      <td>0.00</td>\n",
       "      <td>1.0</td>\n",
       "    </tr>\n",
       "    <tr>\n",
       "      <th>active</th>\n",
       "      <td>70000.0</td>\n",
       "      <td>0.803729</td>\n",
       "      <td>0.397179</td>\n",
       "      <td>0.0</td>\n",
       "      <td>1.00</td>\n",
       "      <td>1.0</td>\n",
       "      <td>1.00</td>\n",
       "      <td>1.0</td>\n",
       "    </tr>\n",
       "    <tr>\n",
       "      <th>cardio</th>\n",
       "      <td>70000.0</td>\n",
       "      <td>0.499700</td>\n",
       "      <td>0.500003</td>\n",
       "      <td>0.0</td>\n",
       "      <td>0.00</td>\n",
       "      <td>0.0</td>\n",
       "      <td>1.00</td>\n",
       "      <td>1.0</td>\n",
       "    </tr>\n",
       "  </tbody>\n",
       "</table>\n",
       "</div>"
      ],
      "text/plain": [
       "               count          mean           std      min       25%      50%  \\\n",
       "index        70000.0  34999.500000  20207.403759      0.0  17499.75  34999.5   \n",
       "id           70000.0  49972.419900  28851.302323      0.0  25006.75  50001.5   \n",
       "age          70000.0  19468.865814   2467.251667  10798.0  17664.00  19703.0   \n",
       "gender       70000.0      1.349571      0.476838      1.0      1.00      1.0   \n",
       "height       70000.0    164.359229      8.210126     55.0    159.00    165.0   \n",
       "weight       70000.0     74.205690     14.395757     10.0     65.00     72.0   \n",
       "ap_hi        70000.0    128.817286    154.011419   -150.0    120.00    120.0   \n",
       "ap_lo        70000.0     96.630414    188.472530    -70.0     80.00     80.0   \n",
       "cholesterol  70000.0      1.366871      0.680250      1.0      1.00      1.0   \n",
       "gluc         70000.0      1.226457      0.572270      1.0      1.00      1.0   \n",
       "smoke        70000.0      0.088129      0.283484      0.0      0.00      0.0   \n",
       "alco         70000.0      0.053771      0.225568      0.0      0.00      0.0   \n",
       "active       70000.0      0.803729      0.397179      0.0      1.00      1.0   \n",
       "cardio       70000.0      0.499700      0.500003      0.0      0.00      0.0   \n",
       "\n",
       "                  75%      max  \n",
       "index        52499.25  69999.0  \n",
       "id           74889.25  99999.0  \n",
       "age          21327.00  23713.0  \n",
       "gender           2.00      2.0  \n",
       "height         170.00    250.0  \n",
       "weight          82.00    200.0  \n",
       "ap_hi          140.00  16020.0  \n",
       "ap_lo           90.00  11000.0  \n",
       "cholesterol      2.00      3.0  \n",
       "gluc             1.00      3.0  \n",
       "smoke            0.00      1.0  \n",
       "alco             0.00      1.0  \n",
       "active           1.00      1.0  \n",
       "cardio           1.00      1.0  "
      ]
     },
     "execution_count": 9,
     "metadata": {},
     "output_type": "execute_result"
    }
   ],
   "source": [
    "# Realizamos un resumen estadistico de las variables.\n",
    "descripcion_data = data.describe(include=\"all\").T\n",
    "descripcion_data"
   ]
  },
  {
   "cell_type": "code",
   "execution_count": 10,
   "metadata": {
    "colab": {
     "base_uri": "https://localhost:8080/",
     "height": 523
    },
    "executionInfo": {
     "elapsed": 42,
     "status": "ok",
     "timestamp": 1751105639283,
     "user": {
      "displayName": "Aitor Donado",
      "userId": "08246046509718212083"
     },
     "user_tz": -120
    },
    "id": "CmVZykuhnDv6",
    "outputId": "7466af4e-7a9a-409b-8142-62263e09a168"
   },
   "outputs": [
    {
     "data": {
      "text/plain": [
       "index          0\n",
       "id             0\n",
       "age            0\n",
       "gender         0\n",
       "height         0\n",
       "weight         0\n",
       "ap_hi          0\n",
       "ap_lo          0\n",
       "cholesterol    0\n",
       "gluc           0\n",
       "smoke          0\n",
       "alco           0\n",
       "active         0\n",
       "cardio         0\n",
       "dtype: int64"
      ]
     },
     "execution_count": 10,
     "metadata": {},
     "output_type": "execute_result"
    }
   ],
   "source": [
    "# Comprobamos que no hay valores perdidos.\n",
    "data.isnull().sum()"
   ]
  },
  {
   "cell_type": "code",
   "execution_count": 11,
   "metadata": {
    "colab": {
     "base_uri": "https://localhost:8080/"
    },
    "executionInfo": {
     "elapsed": 7,
     "status": "ok",
     "timestamp": 1751105639283,
     "user": {
      "displayName": "Aitor Donado",
      "userId": "08246046509718212083"
     },
     "user_tz": -120
    },
    "id": "WMzkkOl_nclN",
    "outputId": "bfd31ae1-c3bc-41f3-c5f4-f45a677a545c"
   },
   "outputs": [
    {
     "data": {
      "text/plain": [
       "np.False_"
      ]
     },
     "execution_count": 11,
     "metadata": {},
     "output_type": "execute_result"
    }
   ],
   "source": [
    "# Con esta funcion vemos si existen (TRUE) o no (FALSE) datos perdidos\n",
    "data.isnull().any().any()"
   ]
  },
  {
   "cell_type": "markdown",
   "metadata": {
    "id": "YV3hQEudWPuF"
   },
   "source": [
    "## Balanceo de la columna objetivo"
   ]
  },
  {
   "cell_type": "code",
   "execution_count": 12,
   "metadata": {
    "colab": {
     "base_uri": "https://localhost:8080/",
     "height": 444
    },
    "executionInfo": {
     "elapsed": 98,
     "status": "ok",
     "timestamp": 1751105639380,
     "user": {
      "displayName": "Aitor Donado",
      "userId": "08246046509718212083"
     },
     "user_tz": -120
    },
    "id": "7KnULXNHWXK8",
    "outputId": "38f68d31-40dc-4cf3-e709-3af7781cc443"
   },
   "outputs": [
    {
     "data": {
      "image/png": "[encoded data removed]",
      "text/plain": [
       "<Figure size 640x480 with 1 Axes>"
      ]
     },
     "metadata": {},
     "output_type": "display_data"
    }
   ],
   "source": [
    "data[\"cardio\"].value_counts().plot(kind = \"bar\");"
   ]
  },
  {
   "cell_type": "code",
   "execution_count": 13,
   "metadata": {
    "executionInfo": {
     "elapsed": 1,
     "status": "ok",
     "timestamp": 1751105639381,
     "user": {
      "displayName": "Aitor Donado",
      "userId": "08246046509718212083"
     },
     "user_tz": -120
    },
    "id": "QXhaFAaBne28"
   },
   "outputs": [],
   "source": [
    "# Tras comprobar que no existen valores perdidos analizamos las variables.\n",
    "# El objetivo es determinar si todas las variables son utiles para la modelizacion.\n",
    "# Hay una serie de variables que no nos proporcionan informacion.\n",
    "# Eliminamos esas variables\n",
    "del data['index']\n",
    "del data['id']"
   ]
  },
  {
   "cell_type": "code",
   "execution_count": 14,
   "metadata": {
    "executionInfo": {
     "elapsed": 1,
     "status": "ok",
     "timestamp": 1751105639383,
     "user": {
      "displayName": "Aitor Donado",
      "userId": "08246046509718212083"
     },
     "user_tz": -120
    },
    "id": "UMRz05o6nhRH"
   },
   "outputs": [],
   "source": [
    "# La variable \"gender\" toma valores 1 y 2. La reducimos en una unidad para que tome 0 y 1\n",
    "data[\"gender\"] = data[\"gender\"] - 1"
   ]
  },
  {
   "cell_type": "code",
   "execution_count": 15,
   "metadata": {
    "colab": {
     "base_uri": "https://localhost:8080/",
     "height": 363
    },
    "executionInfo": {
     "elapsed": 114,
     "status": "ok",
     "timestamp": 1751105639498,
     "user": {
      "displayName": "Aitor Donado",
      "userId": "08246046509718212083"
     },
     "user_tz": -120
    },
    "id": "-n7fY9_tnixM",
    "outputId": "6264dc03-e6bd-46c4-aacf-e866101d8ed8"
   },
   "outputs": [
    {
     "data": {
      "text/html": [
       "<div>\n",
       "<style scoped>\n",
       "    .dataframe tbody tr th:only-of-type {\n",
       "        vertical-align: middle;\n",
       "    }\n",
       "\n",
       "    .dataframe tbody tr th {\n",
       "        vertical-align: top;\n",
       "    }\n",
       "\n",
       "    .dataframe thead th {\n",
       "        text-align: right;\n",
       "    }\n",
       "</style>\n",
       "<table border=\"1\" class=\"dataframe\">\n",
       "  <thead>\n",
       "    <tr style=\"text-align: right;\">\n",
       "      <th></th>\n",
       "      <th>age</th>\n",
       "      <th>gender</th>\n",
       "      <th>height</th>\n",
       "      <th>weight</th>\n",
       "      <th>ap_hi</th>\n",
       "      <th>ap_lo</th>\n",
       "      <th>cholesterol</th>\n",
       "      <th>gluc</th>\n",
       "      <th>smoke</th>\n",
       "      <th>alco</th>\n",
       "      <th>active</th>\n",
       "      <th>cardio</th>\n",
       "    </tr>\n",
       "  </thead>\n",
       "  <tbody>\n",
       "    <tr>\n",
       "      <th>0</th>\n",
       "      <td>18393</td>\n",
       "      <td>1</td>\n",
       "      <td>168</td>\n",
       "      <td>62.0</td>\n",
       "      <td>110</td>\n",
       "      <td>80</td>\n",
       "      <td>1</td>\n",
       "      <td>1</td>\n",
       "      <td>0</td>\n",
       "      <td>0</td>\n",
       "      <td>1</td>\n",
       "      <td>0</td>\n",
       "    </tr>\n",
       "    <tr>\n",
       "      <th>1</th>\n",
       "      <td>20228</td>\n",
       "      <td>0</td>\n",
       "      <td>156</td>\n",
       "      <td>85.0</td>\n",
       "      <td>140</td>\n",
       "      <td>90</td>\n",
       "      <td>3</td>\n",
       "      <td>1</td>\n",
       "      <td>0</td>\n",
       "      <td>0</td>\n",
       "      <td>1</td>\n",
       "      <td>1</td>\n",
       "    </tr>\n",
       "    <tr>\n",
       "      <th>2</th>\n",
       "      <td>18857</td>\n",
       "      <td>0</td>\n",
       "      <td>165</td>\n",
       "      <td>64.0</td>\n",
       "      <td>130</td>\n",
       "      <td>70</td>\n",
       "      <td>3</td>\n",
       "      <td>1</td>\n",
       "      <td>0</td>\n",
       "      <td>0</td>\n",
       "      <td>0</td>\n",
       "      <td>1</td>\n",
       "    </tr>\n",
       "    <tr>\n",
       "      <th>3</th>\n",
       "      <td>17623</td>\n",
       "      <td>1</td>\n",
       "      <td>169</td>\n",
       "      <td>82.0</td>\n",
       "      <td>150</td>\n",
       "      <td>100</td>\n",
       "      <td>1</td>\n",
       "      <td>1</td>\n",
       "      <td>0</td>\n",
       "      <td>0</td>\n",
       "      <td>1</td>\n",
       "      <td>1</td>\n",
       "    </tr>\n",
       "    <tr>\n",
       "      <th>4</th>\n",
       "      <td>17474</td>\n",
       "      <td>0</td>\n",
       "      <td>156</td>\n",
       "      <td>56.0</td>\n",
       "      <td>100</td>\n",
       "      <td>60</td>\n",
       "      <td>1</td>\n",
       "      <td>1</td>\n",
       "      <td>0</td>\n",
       "      <td>0</td>\n",
       "      <td>0</td>\n",
       "      <td>0</td>\n",
       "    </tr>\n",
       "    <tr>\n",
       "      <th>5</th>\n",
       "      <td>21914</td>\n",
       "      <td>0</td>\n",
       "      <td>151</td>\n",
       "      <td>67.0</td>\n",
       "      <td>120</td>\n",
       "      <td>80</td>\n",
       "      <td>2</td>\n",
       "      <td>2</td>\n",
       "      <td>0</td>\n",
       "      <td>0</td>\n",
       "      <td>0</td>\n",
       "      <td>0</td>\n",
       "    </tr>\n",
       "    <tr>\n",
       "      <th>6</th>\n",
       "      <td>22113</td>\n",
       "      <td>0</td>\n",
       "      <td>157</td>\n",
       "      <td>93.0</td>\n",
       "      <td>130</td>\n",
       "      <td>80</td>\n",
       "      <td>3</td>\n",
       "      <td>1</td>\n",
       "      <td>0</td>\n",
       "      <td>0</td>\n",
       "      <td>1</td>\n",
       "      <td>0</td>\n",
       "    </tr>\n",
       "    <tr>\n",
       "      <th>7</th>\n",
       "      <td>22584</td>\n",
       "      <td>1</td>\n",
       "      <td>178</td>\n",
       "      <td>95.0</td>\n",
       "      <td>130</td>\n",
       "      <td>90</td>\n",
       "      <td>3</td>\n",
       "      <td>3</td>\n",
       "      <td>0</td>\n",
       "      <td>0</td>\n",
       "      <td>1</td>\n",
       "      <td>1</td>\n",
       "    </tr>\n",
       "    <tr>\n",
       "      <th>8</th>\n",
       "      <td>17668</td>\n",
       "      <td>0</td>\n",
       "      <td>158</td>\n",
       "      <td>71.0</td>\n",
       "      <td>110</td>\n",
       "      <td>70</td>\n",
       "      <td>1</td>\n",
       "      <td>1</td>\n",
       "      <td>0</td>\n",
       "      <td>0</td>\n",
       "      <td>1</td>\n",
       "      <td>0</td>\n",
       "    </tr>\n",
       "    <tr>\n",
       "      <th>9</th>\n",
       "      <td>19834</td>\n",
       "      <td>0</td>\n",
       "      <td>164</td>\n",
       "      <td>68.0</td>\n",
       "      <td>110</td>\n",
       "      <td>60</td>\n",
       "      <td>1</td>\n",
       "      <td>1</td>\n",
       "      <td>0</td>\n",
       "      <td>0</td>\n",
       "      <td>0</td>\n",
       "      <td>0</td>\n",
       "    </tr>\n",
       "  </tbody>\n",
       "</table>\n",
       "</div>"
      ],
      "text/plain": [
       "     age  gender  height  weight  ap_hi  ap_lo  cholesterol  gluc  smoke  \\\n",
       "0  18393       1     168    62.0    110     80            1     1      0   \n",
       "1  20228       0     156    85.0    140     90            3     1      0   \n",
       "2  18857       0     165    64.0    130     70            3     1      0   \n",
       "3  17623       1     169    82.0    150    100            1     1      0   \n",
       "4  17474       0     156    56.0    100     60            1     1      0   \n",
       "5  21914       0     151    67.0    120     80            2     2      0   \n",
       "6  22113       0     157    93.0    130     80            3     1      0   \n",
       "7  22584       1     178    95.0    130     90            3     3      0   \n",
       "8  17668       0     158    71.0    110     70            1     1      0   \n",
       "9  19834       0     164    68.0    110     60            1     1      0   \n",
       "\n",
       "   alco  active  cardio  \n",
       "0     0       1       0  \n",
       "1     0       1       1  \n",
       "2     0       0       1  \n",
       "3     0       1       1  \n",
       "4     0       0       0  \n",
       "5     0       0       0  \n",
       "6     0       1       0  \n",
       "7     0       1       1  \n",
       "8     0       1       0  \n",
       "9     0       0       0  "
      ]
     },
     "execution_count": 15,
     "metadata": {},
     "output_type": "execute_result"
    }
   ],
   "source": [
    "# Volvemos a visualizar los datos.\n",
    "data.head(n=10)"
   ]
  },
  {
   "cell_type": "markdown",
   "metadata": {
    "id": "_X-VgGOi0j69"
   },
   "source": [
    "Vemos los valores únicos de las columnas categóricas (Las que tienen menos de, por ejemplo, 15 valores únicos)"
   ]
  },
  {
   "cell_type": "code",
   "execution_count": 16,
   "metadata": {
    "colab": {
     "base_uri": "https://localhost:8080/"
    },
    "executionInfo": {
     "elapsed": 5,
     "status": "ok",
     "timestamp": 1751105639498,
     "user": {
      "displayName": "Aitor Donado",
      "userId": "08246046509718212083"
     },
     "user_tz": -120
    },
    "id": "urO5nzARzS5w",
    "outputId": "929d67ee-18f1-47f8-8955-217e21b8da5b"
   },
   "outputs": [
    {
     "name": "stdout",
     "output_type": "stream",
     "text": [
      "Columna gender -> Valores únicos [1 0]\n",
      "Columna cholesterol -> Valores únicos [1 3 2]\n",
      "Columna gluc -> Valores únicos [1 2 3]\n",
      "Columna smoke -> Valores únicos [0 1]\n",
      "Columna alco -> Valores únicos [0 1]\n",
      "Columna active -> Valores únicos [1 0]\n",
      "Columna cardio -> Valores únicos [0 1]\n"
     ]
    }
   ],
   "source": [
    "for columna in data.columns:\n",
    "    if len(data[columna].unique()) < 15:\n",
    "        print(f\"Columna {columna} -> Valores únicos {data[columna].unique()}\")"
   ]
  },
  {
   "cell_type": "code",
   "execution_count": 17,
   "metadata": {
    "colab": {
     "base_uri": "https://localhost:8080/",
     "height": 444
    },
    "executionInfo": {
     "elapsed": 92,
     "status": "ok",
     "timestamp": 1751105639589,
     "user": {
      "displayName": "Aitor Donado",
      "userId": "08246046509718212083"
     },
     "user_tz": -120
    },
    "id": "uvdN-id95IMi",
    "outputId": "2c259506-1308-4325-9296-b0c6bf7032ad"
   },
   "outputs": [
    {
     "data": {
      "image/png": "[encoded data removed]",
      "text/plain": [
       "<Figure size 640x480 with 1 Axes>"
      ]
     },
     "metadata": {},
     "output_type": "display_data"
    }
   ],
   "source": [
    "data['cholesterol'].value_counts().plot(kind = \"bar\");\n",
    "# Cambio posible\n",
    "# data['cholesterol'] = data['cholesterol'] != 1"
   ]
  },
  {
   "cell_type": "code",
   "execution_count": 18,
   "metadata": {
    "colab": {
     "base_uri": "https://localhost:8080/",
     "height": 444
    },
    "executionInfo": {
     "elapsed": 123,
     "status": "ok",
     "timestamp": 1751105639715,
     "user": {
      "displayName": "Aitor Donado",
      "userId": "08246046509718212083"
     },
     "user_tz": -120
    },
    "id": "d71VXKlj5ZGs",
    "outputId": "12c1c2a7-64a5-4a9e-e5f8-3691c1fc56b2"
   },
   "outputs": [
    {
     "data": {
      "image/png": "[encoded data removed]",
      "text/plain": [
       "<Figure size 640x480 with 1 Axes>"
      ]
     },
     "metadata": {},
     "output_type": "display_data"
    }
   ],
   "source": [
    "data['gluc'].value_counts().plot(kind = \"bar\");\n",
    "# Cambio posible\n",
    "# data['gluc'] = data['gluc'] != 1"
   ]
  },
  {
   "cell_type": "markdown",
   "metadata": {
    "id": "8EQrsEde2W22"
   },
   "source": [
    "Posteriormente podemos considerar la opción de dumificar o no las columnas `cholesterol`y `gluc`"
   ]
  },
  {
   "cell_type": "markdown",
   "metadata": {
    "id": "GiALVqEm1D-D"
   },
   "source": [
    "Ya no hacemos más limpieza en este caso. En este punto lo consideramos \"datosfinal\""
   ]
  },
  {
   "cell_type": "code",
   "execution_count": 19,
   "metadata": {
    "executionInfo": {
     "elapsed": 4,
     "status": "ok",
     "timestamp": 1751105639716,
     "user": {
      "displayName": "Aitor Donado",
      "userId": "08246046509718212083"
     },
     "user_tz": -120
    },
    "id": "Fkv-RYf81I-Q"
   },
   "outputs": [],
   "source": [
    "datos_final = data"
   ]
  },
  {
   "cell_type": "markdown",
   "metadata": {
    "id": "_qR2g9eA3WuA"
   },
   "source": [
    "## Outliers"
   ]
  },
  {
   "cell_type": "markdown",
   "metadata": {
    "id": "x0nZnrweLbXM"
   },
   "source": [
    "### Presión alta"
   ]
  },
  {
   "cell_type": "code",
   "execution_count": 20,
   "metadata": {
    "colab": {
     "base_uri": "https://localhost:8080/",
     "height": 473
    },
    "executionInfo": {
     "elapsed": 247,
     "status": "ok",
     "timestamp": 1751105639964,
     "user": {
      "displayName": "Aitor Donado",
      "userId": "08246046509718212083"
     },
     "user_tz": -120
    },
    "id": "-1LLSK429V6i",
    "outputId": "acdec876-3d0a-4124-e494-fffe0a5bc7ff"
   },
   "outputs": [
    {
     "data": {
      "image/png": "[encoded data removed]",
      "text/plain": [
       "<Figure size 640x480 with 1 Axes>"
      ]
     },
     "metadata": {},
     "output_type": "display_data"
    }
   ],
   "source": [
    "data = data[(data[\"ap_hi\"]<300) & (data[\"ap_hi\"]>50)]\n",
    "data.boxplot(column=\"ap_hi\", by=\"cardio\", ax=None, fontsize=None, rot=90, grid=True);\n"
   ]
  },
  {
   "cell_type": "markdown",
   "metadata": {
    "id": "bsOU83vNLjTl"
   },
   "source": [
    "### Presión baja"
   ]
  },
  {
   "cell_type": "code",
   "execution_count": 21,
   "metadata": {
    "colab": {
     "base_uri": "https://localhost:8080/",
     "height": 473
    },
    "executionInfo": {
     "elapsed": 234,
     "status": "ok",
     "timestamp": 1751105640197,
     "user": {
      "displayName": "Aitor Donado",
      "userId": "08246046509718212083"
     },
     "user_tz": -120
    },
    "id": "ZYSrz4y5BwL1",
    "outputId": "07328267-a4c6-495f-9b67-587ad964274b"
   },
   "outputs": [
    {
     "data": {
      "image/png": "[encoded data removed]",
      "text/plain": [
       "<Figure size 640x480 with 1 Axes>"
      ]
     },
     "metadata": {},
     "output_type": "display_data"
    }
   ],
   "source": [
    "data = data[(data[\"ap_lo\"]<250) & (data[\"ap_lo\"]>25)]\n",
    "data.boxplot(column=\"ap_lo\", by=\"cardio\", ax=None, fontsize=None, rot=90, grid=True);"
   ]
  },
  {
   "cell_type": "code",
   "execution_count": 22,
   "metadata": {
    "colab": {
     "base_uri": "https://localhost:8080/",
     "height": 742
    },
    "executionInfo": {
     "elapsed": 20,
     "status": "ok",
     "timestamp": 1751105640218,
     "user": {
      "displayName": "Aitor Donado",
      "userId": "08246046509718212083"
     },
     "user_tz": -120
    },
    "id": "ZzVC_NuLSzDC",
    "outputId": "9a00f35a-52c7-497b-9c6c-267a70c62ff0"
   },
   "outputs": [
    {
     "data": {
      "text/plain": [
       "ap_lo\n",
       "80     34736\n",
       "90     14269\n",
       "70     10218\n",
       "100     4077\n",
       "60      2716\n",
       "110      398\n",
       "79       357\n",
       "85       290\n",
       "75       210\n",
       "120      204\n",
       "95       161\n",
       "89       122\n",
       "69       100\n",
       "65        78\n",
       "50        56\n",
       "130       35\n",
       "82        33\n",
       "84        32\n",
       "83        30\n",
       "140       30\n",
       "Name: count, dtype: int64"
      ]
     },
     "execution_count": 22,
     "metadata": {},
     "output_type": "execute_result"
    }
   ],
   "source": [
    "data['ap_lo'].value_counts().head(20)"
   ]
  },
  {
   "cell_type": "code",
   "execution_count": 24,
   "metadata": {
    "colab": {
     "base_uri": "https://localhost:8080/",
     "height": 469
    },
    "executionInfo": {
     "elapsed": 287,
     "status": "ok",
     "timestamp": 1751105640506,
     "user": {
      "displayName": "Aitor Donado",
      "userId": "08246046509718212083"
     },
     "user_tz": -120
    },
    "id": "Gml2jlW8SelU",
    "outputId": "176416e7-7915-4c2f-807b-defb91f955fc"
   },
   "outputs": [
    {
     "data": {
      "text/plain": [
       "<Axes: title={'center': 'Distribucion de la Tensión arterial'}, ylabel='Density'>"
      ]
     },
     "execution_count": 24,
     "metadata": {},
     "output_type": "execute_result"
    },
    {
     "data": {
      "image/png": "[encoded data removed]",
      "text/plain": [
       "<Figure size 640x480 with 1 Axes>"
      ]
     },
     "metadata": {},
     "output_type": "display_data"
    }
   ],
   "source": [
    "data['ap_lo'].value_counts().sort_index().plot(x='Presión arterial baja',y='frecuencia',\n",
    "                                           kind='kde', legend=True,title='Distribucion de la Tensión arterial')\n",
    "data['ap_hi'].value_counts().sort_index().plot(x='Presión arterial alta',y='frecuencia',\n",
    "                                           kind='kde')"
   ]
  },
  {
   "cell_type": "markdown",
   "metadata": {
    "id": "BTj35PKtLCz3"
   },
   "source": [
    "### Alturas Anómalas"
   ]
  },
  {
   "cell_type": "markdown",
   "metadata": {
    "id": "NpW-qlryHyAh"
   },
   "source": [
    "Vemos que las personas con altura menor de 125cm tienen pesos exagerados para esa altura. Probablemente se trate de errores en los datos."
   ]
  },
  {
   "cell_type": "code",
   "execution_count": 25,
   "metadata": {
    "colab": {
     "base_uri": "https://localhost:8080/",
     "height": 423
    },
    "executionInfo": {
     "elapsed": 7,
     "status": "ok",
     "timestamp": 1751105640513,
     "user": {
      "displayName": "Aitor Donado",
      "userId": "08246046509718212083"
     },
     "user_tz": -120
    },
    "id": "kHDs7yRaFePM",
    "outputId": "b023b40b-a012-4a3a-ad11-df82dd434fb8"
   },
   "outputs": [
    {
     "data": {
      "text/html": [
       "<div>\n",
       "<style scoped>\n",
       "    .dataframe tbody tr th:only-of-type {\n",
       "        vertical-align: middle;\n",
       "    }\n",
       "\n",
       "    .dataframe tbody tr th {\n",
       "        vertical-align: top;\n",
       "    }\n",
       "\n",
       "    .dataframe thead th {\n",
       "        text-align: right;\n",
       "    }\n",
       "</style>\n",
       "<table border=\"1\" class=\"dataframe\">\n",
       "  <thead>\n",
       "    <tr style=\"text-align: right;\">\n",
       "      <th></th>\n",
       "      <th>height</th>\n",
       "      <th>weight</th>\n",
       "    </tr>\n",
       "  </thead>\n",
       "  <tbody>\n",
       "    <tr>\n",
       "      <th>224</th>\n",
       "      <td>76</td>\n",
       "      <td>55.0</td>\n",
       "    </tr>\n",
       "    <tr>\n",
       "      <th>3420</th>\n",
       "      <td>100</td>\n",
       "      <td>70.0</td>\n",
       "    </tr>\n",
       "    <tr>\n",
       "      <th>3735</th>\n",
       "      <td>120</td>\n",
       "      <td>70.0</td>\n",
       "    </tr>\n",
       "    <tr>\n",
       "      <th>3752</th>\n",
       "      <td>120</td>\n",
       "      <td>30.0</td>\n",
       "    </tr>\n",
       "    <tr>\n",
       "      <th>4212</th>\n",
       "      <td>120</td>\n",
       "      <td>80.0</td>\n",
       "    </tr>\n",
       "    <tr>\n",
       "      <th>...</th>\n",
       "      <td>...</td>\n",
       "      <td>...</td>\n",
       "    </tr>\n",
       "    <tr>\n",
       "      <th>65302</th>\n",
       "      <td>99</td>\n",
       "      <td>60.0</td>\n",
       "    </tr>\n",
       "    <tr>\n",
       "      <th>66023</th>\n",
       "      <td>120</td>\n",
       "      <td>80.0</td>\n",
       "    </tr>\n",
       "    <tr>\n",
       "      <th>66479</th>\n",
       "      <td>110</td>\n",
       "      <td>90.0</td>\n",
       "    </tr>\n",
       "    <tr>\n",
       "      <th>66643</th>\n",
       "      <td>57</td>\n",
       "      <td>61.0</td>\n",
       "    </tr>\n",
       "    <tr>\n",
       "      <th>69052</th>\n",
       "      <td>120</td>\n",
       "      <td>80.0</td>\n",
       "    </tr>\n",
       "  </tbody>\n",
       "</table>\n",
       "<p>83 rows × 2 columns</p>\n",
       "</div>"
      ],
      "text/plain": [
       "       height  weight\n",
       "224        76    55.0\n",
       "3420      100    70.0\n",
       "3735      120    70.0\n",
       "3752      120    30.0\n",
       "4212      120    80.0\n",
       "...       ...     ...\n",
       "65302      99    60.0\n",
       "66023     120    80.0\n",
       "66479     110    90.0\n",
       "66643      57    61.0\n",
       "69052     120    80.0\n",
       "\n",
       "[83 rows x 2 columns]"
      ]
     },
     "execution_count": 25,
     "metadata": {},
     "output_type": "execute_result"
    }
   ],
   "source": [
    "data.loc[data[\"height\"]<125, [\"height\", \"weight\"]]"
   ]
  },
  {
   "cell_type": "code",
   "execution_count": 26,
   "metadata": {
    "colab": {
     "base_uri": "https://localhost:8080/",
     "height": 473
    },
    "executionInfo": {
     "elapsed": 212,
     "status": "ok",
     "timestamp": 1751105640725,
     "user": {
      "displayName": "Aitor Donado",
      "userId": "08246046509718212083"
     },
     "user_tz": -120
    },
    "id": "Bf-Y8nnAExWu",
    "outputId": "800d2026-9aca-490d-efad-7f5d6d0a3de6"
   },
   "outputs": [
    {
     "data": {
      "image/png": "[encoded data removed]",
      "text/plain": [
       "<Figure size 640x480 with 1 Axes>"
      ]
     },
     "metadata": {},
     "output_type": "display_data"
    }
   ],
   "source": [
    "data = data[(data[\"height\"]<220) & (data[\"height\"]>125)]\n",
    "data.boxplot(column=\"height\", by=\"cardio\", ax=None, fontsize=None, rot=90, grid=True);"
   ]
  },
  {
   "cell_type": "markdown",
   "metadata": {
    "id": "aUiqNED4JoC-"
   },
   "source": [
    "### Body Mass Index anómalos"
   ]
  },
  {
   "cell_type": "code",
   "execution_count": 27,
   "metadata": {
    "executionInfo": {
     "elapsed": 1,
     "status": "ok",
     "timestamp": 1751105640727,
     "user": {
      "displayName": "Aitor Donado",
      "userId": "08246046509718212083"
     },
     "user_tz": -120
    },
    "id": "sQqw6NMcJ0PZ"
   },
   "outputs": [],
   "source": [
    "data[\"BMI\"] = (10000 * data[\"weight\"]) / (data[\"height\"] **2)"
   ]
  },
  {
   "cell_type": "code",
   "execution_count": 95,
   "metadata": {
    "colab": {
     "base_uri": "https://localhost:8080/",
     "height": 473
    },
    "executionInfo": {
     "elapsed": 219,
     "status": "ok",
     "timestamp": 1751105640947,
     "user": {
      "displayName": "Aitor Donado",
      "userId": "08246046509718212083"
     },
     "user_tz": -120
    },
    "id": "mo6aCl7rKWmJ",
    "outputId": "90df7b4d-d3a4-4b4b-bf5e-e9a4b9445a4a"
   },
   "outputs": [
    {
     "data": {
      "image/png": "[encoded data removed]",
      "text/plain": [
       "<Figure size 640x480 with 1 Axes>"
      ]
     },
     "metadata": {},
     "output_type": "display_data"
    }
   ],
   "source": [
    "#data = data[data[\"BMI\"]<90]\n",
    "data = data[data[\"BMI\"]>14]\n",
    "data.boxplot(column=\"BMI\", by=\"cardio\", ax=None, fontsize=None, rot=90, grid=True);"
   ]
  },
  {
   "cell_type": "code",
   "execution_count": 28,
   "metadata": {
    "colab": {
     "base_uri": "https://localhost:8080/"
    },
    "executionInfo": {
     "elapsed": 6,
     "status": "ok",
     "timestamp": 1751105640954,
     "user": {
      "displayName": "Aitor Donado",
      "userId": "08246046509718212083"
     },
     "user_tz": -120
    },
    "id": "HMyDpD1gWL-f",
    "outputId": "aa8752a2-1feb-42e6-f4a7-d72b1b717b5a"
   },
   "outputs": [
    {
     "data": {
      "text/plain": [
       "85.77974319356386"
      ]
     },
     "execution_count": 28,
     "metadata": {},
     "output_type": "execute_result"
    }
   ],
   "source": [
    "max(data['BMI'])"
   ]
  },
  {
   "cell_type": "code",
   "execution_count": 97,
   "metadata": {
    "colab": {
     "base_uri": "https://localhost:8080/",
     "height": 493
    },
    "executionInfo": {
     "elapsed": 244,
     "status": "ok",
     "timestamp": 1751105641199,
     "user": {
      "displayName": "Aitor Donado",
      "userId": "08246046509718212083"
     },
     "user_tz": -120
    },
    "id": "m5_m1-saV7qc",
    "outputId": "c063f4b4-f930-4d5f-b0a6-60ae752fde8a"
   },
   "outputs": [
    {
     "data": {
      "text/plain": [
       "Text(0, 0.5, 'Frecuencia')"
      ]
     },
     "execution_count": 97,
     "metadata": {},
     "output_type": "execute_result"
    },
    {
     "data": {
      "image/png": "[encoded data removed]",
      "text/plain": [
       "<Figure size 640x480 with 1 Axes>"
      ]
     },
     "metadata": {},
     "output_type": "display_data"
    }
   ],
   "source": [
    "data['BMI'].plot(kind='hist', legend=True, title='Índice de Masa Corporal')\n",
    "\n",
    "# Ajusta los límites del eje X\n",
    "plt.xlim(10, 86)\n",
    "\n",
    "# Configura etiquetas y muestra el gráfico\n",
    "plt.xlabel('Índice de Masa Corporal')\n",
    "plt.ylabel('Frecuencia')"
   ]
  },
  {
   "cell_type": "code",
   "execution_count": 29,
   "metadata": {
    "colab": {
     "base_uri": "https://localhost:8080/",
     "height": 1000
    },
    "executionInfo": {
     "elapsed": 20,
     "status": "ok",
     "timestamp": 1751105641219,
     "user": {
      "displayName": "Aitor Donado",
      "userId": "08246046509718212083"
     },
     "user_tz": -120
    },
    "id": "g5WXsD7SIWpJ",
    "outputId": "72284ad2-9408-4c7c-965e-55b2f9519f4b"
   },
   "outputs": [
    {
     "data": {
      "text/html": [
       "<div>\n",
       "<style scoped>\n",
       "    .dataframe tbody tr th:only-of-type {\n",
       "        vertical-align: middle;\n",
       "    }\n",
       "\n",
       "    .dataframe tbody tr th {\n",
       "        vertical-align: top;\n",
       "    }\n",
       "\n",
       "    .dataframe thead th {\n",
       "        text-align: right;\n",
       "    }\n",
       "</style>\n",
       "<table border=\"1\" class=\"dataframe\">\n",
       "  <thead>\n",
       "    <tr style=\"text-align: right;\">\n",
       "      <th></th>\n",
       "      <th>height</th>\n",
       "      <th>weight</th>\n",
       "      <th>age</th>\n",
       "      <th>BMI</th>\n",
       "    </tr>\n",
       "  </thead>\n",
       "  <tbody>\n",
       "    <tr>\n",
       "      <th>5794</th>\n",
       "      <td>151</td>\n",
       "      <td>37.00</td>\n",
       "      <td>17663</td>\n",
       "      <td>16.227358</td>\n",
       "    </tr>\n",
       "    <tr>\n",
       "      <th>10447</th>\n",
       "      <td>162</td>\n",
       "      <td>38.00</td>\n",
       "      <td>22007</td>\n",
       "      <td>14.479500</td>\n",
       "    </tr>\n",
       "    <tr>\n",
       "      <th>10627</th>\n",
       "      <td>153</td>\n",
       "      <td>37.00</td>\n",
       "      <td>21669</td>\n",
       "      <td>15.805887</td>\n",
       "    </tr>\n",
       "    <tr>\n",
       "      <th>11876</th>\n",
       "      <td>157</td>\n",
       "      <td>39.00</td>\n",
       "      <td>17512</td>\n",
       "      <td>15.822143</td>\n",
       "    </tr>\n",
       "    <tr>\n",
       "      <th>14722</th>\n",
       "      <td>143</td>\n",
       "      <td>34.00</td>\n",
       "      <td>22663</td>\n",
       "      <td>16.626730</td>\n",
       "    </tr>\n",
       "    <tr>\n",
       "      <th>16322</th>\n",
       "      <td>165</td>\n",
       "      <td>35.00</td>\n",
       "      <td>21872</td>\n",
       "      <td>12.855831</td>\n",
       "    </tr>\n",
       "    <tr>\n",
       "      <th>16906</th>\n",
       "      <td>170</td>\n",
       "      <td>31.00</td>\n",
       "      <td>17272</td>\n",
       "      <td>10.726644</td>\n",
       "    </tr>\n",
       "    <tr>\n",
       "      <th>18559</th>\n",
       "      <td>160</td>\n",
       "      <td>30.00</td>\n",
       "      <td>18140</td>\n",
       "      <td>11.718750</td>\n",
       "    </tr>\n",
       "    <tr>\n",
       "      <th>19582</th>\n",
       "      <td>152</td>\n",
       "      <td>38.00</td>\n",
       "      <td>21334</td>\n",
       "      <td>16.447368</td>\n",
       "    </tr>\n",
       "    <tr>\n",
       "      <th>22016</th>\n",
       "      <td>146</td>\n",
       "      <td>32.00</td>\n",
       "      <td>15359</td>\n",
       "      <td>15.012197</td>\n",
       "    </tr>\n",
       "    <tr>\n",
       "      <th>25198</th>\n",
       "      <td>149</td>\n",
       "      <td>35.45</td>\n",
       "      <td>18768</td>\n",
       "      <td>15.967749</td>\n",
       "    </tr>\n",
       "    <tr>\n",
       "      <th>26806</th>\n",
       "      <td>157</td>\n",
       "      <td>23.00</td>\n",
       "      <td>23284</td>\n",
       "      <td>9.331007</td>\n",
       "    </tr>\n",
       "    <tr>\n",
       "      <th>29333</th>\n",
       "      <td>153</td>\n",
       "      <td>37.00</td>\n",
       "      <td>21728</td>\n",
       "      <td>15.805887</td>\n",
       "    </tr>\n",
       "    <tr>\n",
       "      <th>29488</th>\n",
       "      <td>177</td>\n",
       "      <td>22.00</td>\n",
       "      <td>20408</td>\n",
       "      <td>7.022248</td>\n",
       "    </tr>\n",
       "    <tr>\n",
       "      <th>31420</th>\n",
       "      <td>140</td>\n",
       "      <td>39.00</td>\n",
       "      <td>20575</td>\n",
       "      <td>19.897959</td>\n",
       "    </tr>\n",
       "    <tr>\n",
       "      <th>32087</th>\n",
       "      <td>143</td>\n",
       "      <td>36.00</td>\n",
       "      <td>15747</td>\n",
       "      <td>17.604773</td>\n",
       "    </tr>\n",
       "    <tr>\n",
       "      <th>33478</th>\n",
       "      <td>152</td>\n",
       "      <td>39.00</td>\n",
       "      <td>15493</td>\n",
       "      <td>16.880194</td>\n",
       "    </tr>\n",
       "    <tr>\n",
       "      <th>33511</th>\n",
       "      <td>153</td>\n",
       "      <td>34.00</td>\n",
       "      <td>21081</td>\n",
       "      <td>14.524328</td>\n",
       "    </tr>\n",
       "    <tr>\n",
       "      <th>33817</th>\n",
       "      <td>178</td>\n",
       "      <td>11.00</td>\n",
       "      <td>21582</td>\n",
       "      <td>3.471784</td>\n",
       "    </tr>\n",
       "    <tr>\n",
       "      <th>33820</th>\n",
       "      <td>145</td>\n",
       "      <td>36.00</td>\n",
       "      <td>22571</td>\n",
       "      <td>17.122473</td>\n",
       "    </tr>\n",
       "    <tr>\n",
       "      <th>34276</th>\n",
       "      <td>128</td>\n",
       "      <td>28.00</td>\n",
       "      <td>14664</td>\n",
       "      <td>17.089844</td>\n",
       "    </tr>\n",
       "    <tr>\n",
       "      <th>34282</th>\n",
       "      <td>148</td>\n",
       "      <td>36.00</td>\n",
       "      <td>20406</td>\n",
       "      <td>16.435354</td>\n",
       "    </tr>\n",
       "    <tr>\n",
       "      <th>34328</th>\n",
       "      <td>152</td>\n",
       "      <td>39.00</td>\n",
       "      <td>14670</td>\n",
       "      <td>16.880194</td>\n",
       "    </tr>\n",
       "    <tr>\n",
       "      <th>35314</th>\n",
       "      <td>146</td>\n",
       "      <td>32.00</td>\n",
       "      <td>19802</td>\n",
       "      <td>15.012197</td>\n",
       "    </tr>\n",
       "    <tr>\n",
       "      <th>38417</th>\n",
       "      <td>154</td>\n",
       "      <td>32.00</td>\n",
       "      <td>21809</td>\n",
       "      <td>13.493001</td>\n",
       "    </tr>\n",
       "    <tr>\n",
       "      <th>40612</th>\n",
       "      <td>154</td>\n",
       "      <td>38.00</td>\n",
       "      <td>23202</td>\n",
       "      <td>16.022938</td>\n",
       "    </tr>\n",
       "    <tr>\n",
       "      <th>41353</th>\n",
       "      <td>157</td>\n",
       "      <td>38.00</td>\n",
       "      <td>20892</td>\n",
       "      <td>15.416447</td>\n",
       "    </tr>\n",
       "    <tr>\n",
       "      <th>41905</th>\n",
       "      <td>143</td>\n",
       "      <td>30.00</td>\n",
       "      <td>21334</td>\n",
       "      <td>14.670644</td>\n",
       "    </tr>\n",
       "    <tr>\n",
       "      <th>43759</th>\n",
       "      <td>135</td>\n",
       "      <td>37.00</td>\n",
       "      <td>18050</td>\n",
       "      <td>20.301783</td>\n",
       "    </tr>\n",
       "    <tr>\n",
       "      <th>44138</th>\n",
       "      <td>151</td>\n",
       "      <td>38.00</td>\n",
       "      <td>21828</td>\n",
       "      <td>16.665936</td>\n",
       "    </tr>\n",
       "    <tr>\n",
       "      <th>44622</th>\n",
       "      <td>150</td>\n",
       "      <td>39.00</td>\n",
       "      <td>18240</td>\n",
       "      <td>17.333333</td>\n",
       "    </tr>\n",
       "    <tr>\n",
       "      <th>48080</th>\n",
       "      <td>143</td>\n",
       "      <td>33.00</td>\n",
       "      <td>19255</td>\n",
       "      <td>16.137708</td>\n",
       "    </tr>\n",
       "    <tr>\n",
       "      <th>48613</th>\n",
       "      <td>144</td>\n",
       "      <td>36.00</td>\n",
       "      <td>20452</td>\n",
       "      <td>17.361111</td>\n",
       "    </tr>\n",
       "    <tr>\n",
       "      <th>51411</th>\n",
       "      <td>155</td>\n",
       "      <td>37.00</td>\n",
       "      <td>21115</td>\n",
       "      <td>15.400624</td>\n",
       "    </tr>\n",
       "    <tr>\n",
       "      <th>51544</th>\n",
       "      <td>151</td>\n",
       "      <td>38.00</td>\n",
       "      <td>21989</td>\n",
       "      <td>16.665936</td>\n",
       "    </tr>\n",
       "    <tr>\n",
       "      <th>51837</th>\n",
       "      <td>139</td>\n",
       "      <td>34.00</td>\n",
       "      <td>19817</td>\n",
       "      <td>17.597433</td>\n",
       "    </tr>\n",
       "    <tr>\n",
       "      <th>53224</th>\n",
       "      <td>133</td>\n",
       "      <td>36.00</td>\n",
       "      <td>20396</td>\n",
       "      <td>20.351631</td>\n",
       "    </tr>\n",
       "    <tr>\n",
       "      <th>53945</th>\n",
       "      <td>156</td>\n",
       "      <td>39.00</td>\n",
       "      <td>22637</td>\n",
       "      <td>16.025641</td>\n",
       "    </tr>\n",
       "    <tr>\n",
       "      <th>54017</th>\n",
       "      <td>134</td>\n",
       "      <td>37.00</td>\n",
       "      <td>22564</td>\n",
       "      <td>20.605926</td>\n",
       "    </tr>\n",
       "    <tr>\n",
       "      <th>54682</th>\n",
       "      <td>153</td>\n",
       "      <td>39.00</td>\n",
       "      <td>20479</td>\n",
       "      <td>16.660259</td>\n",
       "    </tr>\n",
       "    <tr>\n",
       "      <th>55339</th>\n",
       "      <td>147</td>\n",
       "      <td>39.00</td>\n",
       "      <td>23562</td>\n",
       "      <td>18.048036</td>\n",
       "    </tr>\n",
       "    <tr>\n",
       "      <th>55852</th>\n",
       "      <td>152</td>\n",
       "      <td>34.00</td>\n",
       "      <td>23370</td>\n",
       "      <td>14.716066</td>\n",
       "    </tr>\n",
       "    <tr>\n",
       "      <th>56914</th>\n",
       "      <td>152</td>\n",
       "      <td>37.00</td>\n",
       "      <td>18980</td>\n",
       "      <td>16.014543</td>\n",
       "    </tr>\n",
       "    <tr>\n",
       "      <th>58200</th>\n",
       "      <td>169</td>\n",
       "      <td>35.00</td>\n",
       "      <td>22544</td>\n",
       "      <td>12.254473</td>\n",
       "    </tr>\n",
       "    <tr>\n",
       "      <th>60188</th>\n",
       "      <td>162</td>\n",
       "      <td>21.00</td>\n",
       "      <td>21855</td>\n",
       "      <td>8.001829</td>\n",
       "    </tr>\n",
       "    <tr>\n",
       "      <th>60699</th>\n",
       "      <td>171</td>\n",
       "      <td>29.00</td>\n",
       "      <td>18875</td>\n",
       "      <td>9.917581</td>\n",
       "    </tr>\n",
       "    <tr>\n",
       "      <th>63113</th>\n",
       "      <td>158</td>\n",
       "      <td>39.00</td>\n",
       "      <td>20406</td>\n",
       "      <td>15.622496</td>\n",
       "    </tr>\n",
       "    <tr>\n",
       "      <th>65650</th>\n",
       "      <td>147</td>\n",
       "      <td>38.00</td>\n",
       "      <td>19114</td>\n",
       "      <td>17.585265</td>\n",
       "    </tr>\n",
       "  </tbody>\n",
       "</table>\n",
       "</div>"
      ],
      "text/plain": [
       "       height  weight    age        BMI\n",
       "5794      151   37.00  17663  16.227358\n",
       "10447     162   38.00  22007  14.479500\n",
       "10627     153   37.00  21669  15.805887\n",
       "11876     157   39.00  17512  15.822143\n",
       "14722     143   34.00  22663  16.626730\n",
       "16322     165   35.00  21872  12.855831\n",
       "16906     170   31.00  17272  10.726644\n",
       "18559     160   30.00  18140  11.718750\n",
       "19582     152   38.00  21334  16.447368\n",
       "22016     146   32.00  15359  15.012197\n",
       "25198     149   35.45  18768  15.967749\n",
       "26806     157   23.00  23284   9.331007\n",
       "29333     153   37.00  21728  15.805887\n",
       "29488     177   22.00  20408   7.022248\n",
       "31420     140   39.00  20575  19.897959\n",
       "32087     143   36.00  15747  17.604773\n",
       "33478     152   39.00  15493  16.880194\n",
       "33511     153   34.00  21081  14.524328\n",
       "33817     178   11.00  21582   3.471784\n",
       "33820     145   36.00  22571  17.122473\n",
       "34276     128   28.00  14664  17.089844\n",
       "34282     148   36.00  20406  16.435354\n",
       "34328     152   39.00  14670  16.880194\n",
       "35314     146   32.00  19802  15.012197\n",
       "38417     154   32.00  21809  13.493001\n",
       "40612     154   38.00  23202  16.022938\n",
       "41353     157   38.00  20892  15.416447\n",
       "41905     143   30.00  21334  14.670644\n",
       "43759     135   37.00  18050  20.301783\n",
       "44138     151   38.00  21828  16.665936\n",
       "44622     150   39.00  18240  17.333333\n",
       "48080     143   33.00  19255  16.137708\n",
       "48613     144   36.00  20452  17.361111\n",
       "51411     155   37.00  21115  15.400624\n",
       "51544     151   38.00  21989  16.665936\n",
       "51837     139   34.00  19817  17.597433\n",
       "53224     133   36.00  20396  20.351631\n",
       "53945     156   39.00  22637  16.025641\n",
       "54017     134   37.00  22564  20.605926\n",
       "54682     153   39.00  20479  16.660259\n",
       "55339     147   39.00  23562  18.048036\n",
       "55852     152   34.00  23370  14.716066\n",
       "56914     152   37.00  18980  16.014543\n",
       "58200     169   35.00  22544  12.254473\n",
       "60188     162   21.00  21855   8.001829\n",
       "60699     171   29.00  18875   9.917581\n",
       "63113     158   39.00  20406  15.622496\n",
       "65650     147   38.00  19114  17.585265"
      ]
     },
     "execution_count": 29,
     "metadata": {},
     "output_type": "execute_result"
    }
   ],
   "source": [
    "data.loc[data[\"weight\"]<40, [\"height\", \"weight\", \"age\", \"BMI\"]]"
   ]
  },
  {
   "cell_type": "code",
   "execution_count": 30,
   "metadata": {
    "colab": {
     "base_uri": "https://localhost:8080/",
     "height": 473
    },
    "executionInfo": {
     "elapsed": 227,
     "status": "ok",
     "timestamp": 1751105641447,
     "user": {
      "displayName": "Aitor Donado",
      "userId": "08246046509718212083"
     },
     "user_tz": -120
    },
    "id": "03UqkVjj3zJa",
    "outputId": "81d0f0fb-b41a-4a24-ccd9-a18c73ad5d3c"
   },
   "outputs": [
    {
     "data": {
      "image/png": "[encoded data removed]",
      "text/plain": [
       "<Figure size 640x480 with 1 Axes>"
      ]
     },
     "metadata": {},
     "output_type": "display_data"
    }
   ],
   "source": [
    "data.boxplot(column=\"weight\", by=\"cardio\", ax=None, fontsize=None, rot=90, grid=True);\n"
   ]
  },
  {
   "cell_type": "code",
   "execution_count": 31,
   "metadata": {
    "colab": {
     "base_uri": "https://localhost:8080/",
     "height": 473
    },
    "executionInfo": {
     "elapsed": 230,
     "status": "ok",
     "timestamp": 1751105641675,
     "user": {
      "displayName": "Aitor Donado",
      "userId": "08246046509718212083"
     },
     "user_tz": -120
    },
    "id": "c_lHcyZo8_Oa",
    "outputId": "89df2717-ed94-435f-d4a6-ec220a9d284a"
   },
   "outputs": [
    {
     "data": {
      "image/png": "[encoded data removed]",
      "text/plain": [
       "<Figure size 640x480 with 1 Axes>"
      ]
     },
     "metadata": {},
     "output_type": "display_data"
    }
   ],
   "source": [
    "data2 = data\n",
    "data2[\"age\"] = data2[\"age\"]/365\n",
    "data2.boxplot(column=\"age\", by=\"cardio\", ax=None, fontsize=None, rot=90, grid=True);"
   ]
  },
  {
   "cell_type": "code",
   "execution_count": 32,
   "metadata": {
    "executionInfo": {
     "elapsed": 1,
     "status": "ok",
     "timestamp": 1751105641677,
     "user": {
      "displayName": "Aitor Donado",
      "userId": "08246046509718212083"
     },
     "user_tz": -120
    },
    "id": "VAarwz74CUpM"
   },
   "outputs": [],
   "source": [
    "datos_final = data"
   ]
  },
  {
   "cell_type": "code",
   "execution_count": 102,
   "metadata": {
    "colab": {
     "base_uri": "https://localhost:8080/"
    },
    "executionInfo": {
     "elapsed": 4,
     "status": "ok",
     "timestamp": 1751105641681,
     "user": {
      "displayName": "Aitor Donado",
      "userId": "08246046509718212083"
     },
     "user_tz": -120
    },
    "id": "uXS-sUNGgHXq",
    "outputId": "c72e350d-4ce3-4935-ed6d-f51140046aeb"
   },
   "outputs": [
    {
     "data": {
      "text/plain": [
       "RangeIndex(start=0, stop=68682, step=1)"
      ]
     },
     "execution_count": 102,
     "metadata": {},
     "output_type": "execute_result"
    }
   ],
   "source": [
    "datos_final = datos_final.reset_index()\n",
    "datos_final.index"
   ]
  },
  {
   "cell_type": "markdown",
   "metadata": {
    "id": "imV0GISWQSMm"
   },
   "source": [
    "# Correlación"
   ]
  },
  {
   "cell_type": "code",
   "execution_count": 33,
   "metadata": {
    "colab": {
     "base_uri": "https://localhost:8080/"
    },
    "executionInfo": {
     "elapsed": 46,
     "status": "ok",
     "timestamp": 1751105641893,
     "user": {
      "displayName": "Aitor Donado",
      "userId": "08246046509718212083"
     },
     "user_tz": -120
    },
    "id": "exgZuJEpRO7x",
    "outputId": "4609dcdd-853e-4efc-ec2b-a048d600ab51"
   },
   "outputs": [
    {
     "data": {
      "text/plain": [
       "Index(['age', 'gender', 'height', 'weight', 'ap_hi', 'ap_lo', 'cholesterol',\n",
       "       'gluc', 'smoke', 'alco', 'active', 'cardio', 'BMI'],\n",
       "      dtype='object')"
      ]
     },
     "execution_count": 33,
     "metadata": {},
     "output_type": "execute_result"
    }
   ],
   "source": [
    "datos_final.columns"
   ]
  },
  {
   "cell_type": "code",
   "execution_count": 47,
   "metadata": {},
   "outputs": [
    {
     "name": "stdout",
     "output_type": "stream",
     "text": [
      "Columnas actuales de datos_final:\n",
      "['age', 'gender', 'height', 'weight', 'ap_hi', 'ap_lo', 'cholesterol', 'gluc', 'smoke', 'alco', 'active', 'cardio', 'BMI']\n",
      "\n",
      "Forma del DataFrame: (68693, 13)\n"
     ]
    }
   ],
   "source": [
    "# Verificar las columnas actuales de datos_final\n",
    "print(\"Columnas actuales de datos_final:\")\n",
    "print(datos_final.columns.tolist())\n",
    "print(\"\\nForma del DataFrame:\", datos_final.shape)"
   ]
  },
  {
   "cell_type": "code",
   "execution_count": 48,
   "metadata": {
    "executionInfo": {
     "elapsed": 1,
     "status": "ok",
     "timestamp": 1751105641918,
     "user": {
      "displayName": "Aitor Donado",
      "userId": "08246046509718212083"
     },
     "user_tz": -120
    },
    "id": "H_nZb98BRgCh"
   },
   "outputs": [
    {
     "name": "stdout",
     "output_type": "stream",
     "text": [
      "Columna 'index' no encontrada, continuando...\n",
      "Columna 'weight' eliminada\n",
      "Columna 'height' eliminada\n",
      "Columna 'ap_lo' eliminada\n",
      "\n",
      "Columnas finales para KNN: ['age', 'gender', 'ap_hi', 'cholesterol', 'gluc', 'smoke', 'alco', 'active', 'cardio', 'BMI']\n",
      "Forma del DataFrame: (68693, 10)\n",
      "\n",
      "Precisión del modelo KNN: 0.6965\n",
      "\n",
      "Reporte de clasificación KNN:\n",
      "              precision    recall  f1-score   support\n",
      "\n",
      "           0       0.69      0.72      0.70      6944\n",
      "           1       0.70      0.68      0.69      6795\n",
      "\n",
      "    accuracy                           0.70     13739\n",
      "   macro avg       0.70      0.70      0.70     13739\n",
      "weighted avg       0.70      0.70      0.70     13739\n",
      "\n",
      "\n",
      "Matriz de confusión KNN:\n",
      "[[4981 1963]\n",
      " [2207 4588]]\n",
      "\n",
      "Precisión del modelo KNN: 0.6965\n",
      "\n",
      "Reporte de clasificación KNN:\n",
      "              precision    recall  f1-score   support\n",
      "\n",
      "           0       0.69      0.72      0.70      6944\n",
      "           1       0.70      0.68      0.69      6795\n",
      "\n",
      "    accuracy                           0.70     13739\n",
      "   macro avg       0.70      0.70      0.70     13739\n",
      "weighted avg       0.70      0.70      0.70     13739\n",
      "\n",
      "\n",
      "Matriz de confusión KNN:\n",
      "[[4981 1963]\n",
      " [2207 4588]]\n"
     ]
    }
   ],
   "source": [
    "# Preparar datos para KNN - eliminando columnas innecesarias de forma segura\n",
    "datos_knn = datos_final.copy()\n",
    "\n",
    "# Eliminar columnas de forma segura (solo si existen)\n",
    "columnas_a_eliminar = ['index', 'weight', 'height', 'ap_lo']\n",
    "for col in columnas_a_eliminar:\n",
    "    if col in datos_knn.columns:\n",
    "        datos_knn = datos_knn.drop(columns=col)\n",
    "        print(f\"Columna '{col}' eliminada\")\n",
    "    else:\n",
    "        print(f\"Columna '{col}' no encontrada, continuando...\")\n",
    "\n",
    "print(f\"\\nColumnas finales para KNN: {datos_knn.columns.tolist()}\")\n",
    "print(f\"Forma del DataFrame: {datos_knn.shape}\")\n",
    "\n",
    "# Separar características y variable objetivo\n",
    "X_knn = datos_knn.drop('cardio', axis=1)\n",
    "y_knn = datos_knn['cardio']\n",
    "\n",
    "# Dividir datos en entrenamiento y prueba\n",
    "from sklearn.model_selection import train_test_split\n",
    "X_train_knn, X_test_knn, y_train_knn, y_test_knn = train_test_split(X_knn, y_knn, test_size=0.2, random_state=42)\n",
    "\n",
    "# Normalizar los datos para KNN\n",
    "from sklearn.preprocessing import StandardScaler\n",
    "scaler_knn = StandardScaler()\n",
    "X_train_knn_scaled = scaler_knn.fit_transform(X_train_knn)\n",
    "X_test_knn_scaled = scaler_knn.transform(X_test_knn)\n",
    "\n",
    "# Crear y entrenar el modelo KNN\n",
    "from sklearn.neighbors import KNeighborsClassifier\n",
    "modelo_knn = KNeighborsClassifier(n_neighbors=5)\n",
    "modelo_knn.fit(X_train_knn_scaled, y_train_knn)\n",
    "\n",
    "# Hacer predicciones\n",
    "y_pred_knn = modelo_knn.predict(X_test_knn_scaled)\n",
    "\n",
    "# Evaluar el modelo\n",
    "from sklearn.metrics import accuracy_score, classification_report, confusion_matrix\n",
    "accuracy_knn = accuracy_score(y_test_knn, y_pred_knn)\n",
    "print(f\"\\nPrecisión del modelo KNN: {accuracy_knn:.4f}\")\n",
    "\n",
    "# Reporte de clasificación\n",
    "print(\"\\nReporte de clasificación KNN:\")\n",
    "print(classification_report(y_test_knn, y_pred_knn))\n",
    "\n",
    "# Matriz de confusión\n",
    "confusion_knn = confusion_matrix(y_test_knn, y_pred_knn)\n",
    "print(\"\\nMatriz de confusión KNN:\")\n",
    "print(confusion_knn)"
   ]
  },
  {
   "cell_type": "code",
   "execution_count": 35,
   "metadata": {
    "colab": {
     "base_uri": "https://localhost:8080/",
     "height": 699
    },
    "executionInfo": {
     "elapsed": 606,
     "status": "ok",
     "timestamp": 1751105644428,
     "user": {
      "displayName": "Aitor Donado",
      "userId": "08246046509718212083"
     },
     "user_tz": -120
    },
    "id": "QdpxRoYCQP9W",
    "outputId": "f0dd7a02-7d47-4466-bb9c-428a737e673c"
   },
   "outputs": [
    {
     "data": {
      "text/plain": [
       "<Axes: >"
      ]
     },
     "execution_count": 35,
     "metadata": {},
     "output_type": "execute_result"
    },
    {
     "data": {
      "image/png": "[encoded data removed]",
      "text/plain": [
       "<Figure size 1000x800 with 2 Axes>"
      ]
     },
     "metadata": {},
     "output_type": "display_data"
    }
   ],
   "source": [
    "import numpy as np\n",
    "\n",
    "f, ax = plt.subplots(figsize=(10, 8))\n",
    "corr = datos_final.corr()\n",
    "sns.heatmap(corr, annot=True, mask=np.zeros_like(corr, dtype=bool), cmap=sns.diverging_palette(220, 10, as_cmap=True),square=True, ax=ax)"
   ]
  },
  {
   "cell_type": "markdown",
   "metadata": {
    "id": "Vgs5XrDO11sZ"
   },
   "source": [
    "## Separación Train - Test"
   ]
  },
  {
   "cell_type": "markdown",
   "metadata": {
    "id": "K-49i5QHmph1"
   },
   "source": [
    "Vamos a preparar los datos para entrenar y evaluar los modelos utilizando la biblioteca scikit-learn (sklearn) en Python.\n",
    "\n",
    "Aquí es lo que está haciendo cada línea:\n",
    "\n",
    "La función `train_test_split` se utiliza para dividir los datos en conjuntos de entrenamiento y prueba de manera aleatoria.\n",
    "\n",
    "Podría ser que las condiciones de medida de los registros de mi dataset fueran distintos en la parte baja de la tabla a las condiciones en la parte alta.\n",
    "\n",
    "Por ello es conveniente \"barajar\" aleatoriamente las filas.\n",
    "\n",
    "`random_state=42`: establece una semilla aleatoria para garantizar la reproducibilidad de la división de los datos"
   ]
  },
  {
   "cell_type": "code",
   "execution_count": 37,
   "metadata": {
    "executionInfo": {
     "elapsed": 3,
     "status": "ok",
     "timestamp": 1751105697640,
     "user": {
      "displayName": "Aitor Donado",
      "userId": "08246046509718212083"
     },
     "user_tz": -120
    },
    "id": "gZEgZzct9-QC"
   },
   "outputs": [],
   "source": [
    "from sklearn.model_selection import train_test_split\n",
    "y = datos_final['cardio']\n",
    "X = datos_final.drop('cardio', axis = 1)\n",
    "X_train, X_test, y_train, y_test = train_test_split(X, y, test_size=0.25, random_state=42)"
   ]
  },
  {
   "cell_type": "code",
   "execution_count": 40,
   "metadata": {},
   "outputs": [
    {
     "name": "stdout",
     "output_type": "stream",
     "text": [
      "============================================================\n",
      "🔧 VERIFICANDO E IMPORTANDO LIBRERÍAS NECESARIAS\n",
      "============================================================\n",
      "✅ Funciones personalizadas definidas\n",
      "✅ X_train shape: (51519, 12)\n",
      "✅ X_test shape: (17174, 12)\n",
      "✅ y_train shape: (51519,)\n",
      "✅ y_test shape: (17174,)\n",
      "\n",
      "🚀 Todas las librerías importadas correctamente. Listo para entrenar modelos!\n",
      "============================================================\n"
     ]
    }
   ],
   "source": [
    "# 🔧 VERIFICACIÓN E IMPORTACIÓN DE LIBRERÍAS NECESARIAS\n",
    "print(\"=\"*60)\n",
    "print(\"🔧 VERIFICANDO E IMPORTANDO LIBRERÍAS NECESARIAS\")\n",
    "print(\"=\"*60)\n",
    "\n",
    "# Importaciones básicas\n",
    "import numpy as np\n",
    "import pandas as pd\n",
    "import matplotlib.pyplot as plt\n",
    "import seaborn as sns\n",
    "\n",
    "# Importaciones de sklearn\n",
    "from sklearn.linear_model import LogisticRegression\n",
    "from sklearn.neighbors import KNeighborsClassifier\n",
    "from sklearn.naive_bayes import GaussianNB\n",
    "from sklearn import tree\n",
    "from sklearn.ensemble import RandomForestClassifier\n",
    "from sklearn.model_selection import train_test_split, cross_val_score\n",
    "from sklearn.metrics import accuracy_score, confusion_matrix, classification_report\n",
    "from sklearn.tree import export_text\n",
    "\n",
    "# Importación de XGBoost\n",
    "import xgboost as xgb\n",
    "\n",
    "# Verificar que las funciones personalizadas estén definidas\n",
    "try:\n",
    "    # Redefinir función de matriz de confusión si no existe\n",
    "    def cuadro_matriz_confusion(confusion):\n",
    "        fig, ax = plt.subplots()\n",
    "        labels = ['Verdadero Neg', 'Falso Pos', 'Falso Neg', 'Verdadero Pos']\n",
    "        categories = ['0', '1']\n",
    "        counts = ['{0:,}'.format(value) for value in confusion.flatten()]\n",
    "        percentages = ['{0:.2%}'.format(value) for value in confusion.flatten() / np.sum(confusion)]\n",
    "        labels = [f'{label}\\n{count}\\n{percentage}' for label, count, percentage in zip(labels, counts, percentages)]\n",
    "        labels = np.asarray(labels).reshape(2, 2)\n",
    "        sns.heatmap(confusion, annot=labels, fmt='', cmap='Blues', xticklabels=categories, yticklabels=categories, ax=ax)\n",
    "        plt.xlabel('Valores predichos')\n",
    "        plt.ylabel('Valores reales')\n",
    "        plt.title('Matriz de confusión')\n",
    "        plt.show()\n",
    "    \n",
    "    # Redefinir función de métricas si no existe\n",
    "    def resumen_metricas(confusion, y_test):\n",
    "        accuracy = (confusion[0, 0] + confusion[1, 1]) / len(y_test)\n",
    "        recall = confusion[1, 1] / (confusion[1, 1] + confusion[1, 0])\n",
    "        specificity = confusion[0, 0] / (confusion[0, 0] + confusion[0, 1])\n",
    "        ppv = confusion[1, 1] / (confusion[1, 1] + confusion[0, 1])\n",
    "        print(\"Precisión (Accuracy):\", accuracy)\n",
    "        print(\"Sensibilidad (Recall):\", recall)\n",
    "        print(\"Especificidad:\", specificity)\n",
    "        print(\"Valor Predictivo Positivo (PPV):\", ppv)\n",
    "    \n",
    "    print(\"✅ Funciones personalizadas definidas\")\n",
    "except:\n",
    "    print(\"⚠️ Error al definir funciones personalizadas\")\n",
    "\n",
    "# Verificar que las variables de datos existan\n",
    "try:\n",
    "    print(f\"✅ X_train shape: {X_train.shape}\")\n",
    "    print(f\"✅ X_test shape: {X_test.shape}\")\n",
    "    print(f\"✅ y_train shape: {y_train.shape}\")\n",
    "    print(f\"✅ y_test shape: {y_test.shape}\")\n",
    "except NameError:\n",
    "    print(\"❌ Las variables de entrenamiento y prueba no están definidas.\")\n",
    "    print(\"⚠️ Debes ejecutar las celdas de preparación de datos primero.\")\n",
    "\n",
    "print(\"\\n🚀 Todas las librerías importadas correctamente. Listo para entrenar modelos!\")\n",
    "print(\"=\"*60)"
   ]
  },
  {
   "cell_type": "markdown",
   "metadata": {
    "id": "oJiYl4g5mlij"
   },
   "source": [
    "#   Regresión Logística"
   ]
  },
  {
   "cell_type": "markdown",
   "metadata": {
    "id": "T7-i0y7Lv-Xc"
   },
   "source": [
    "El primer modelo de calsificacion es la regresion logistica. Este modelo es una regresion que mide la probabilidad de que una observacion tome el valor 0 o 1. (Verdadero o falso, acierto o error...)"
   ]
  },
  {
   "cell_type": "code",
   "execution_count": 41,
   "metadata": {},
   "outputs": [
    {
     "name": "stdout",
     "output_type": "stream",
     "text": [
      "============================================================\n",
      "🔴 ENTRENANDO MODELO DE REGRESIÓN LOGÍSTICA\n",
      "============================================================\n",
      "✅ Modelo de Regresión Logística entrenado\n",
      "Precisión del modelo: 0.7250\n",
      "\n",
      "Matriz de Confusión - Regresión Logística:\n",
      "✅ Modelo de Regresión Logística entrenado\n",
      "Precisión del modelo: 0.7250\n",
      "\n",
      "Matriz de Confusión - Regresión Logística:\n"
     ]
    },
    {
     "name": "stderr",
     "output_type": "stream",
     "text": [
      "C:\\Users\\Dell\\AppData\\Roaming\\Python\\Python312\\site-packages\\sklearn\\linear_model\\_logistic.py:470: ConvergenceWarning: lbfgs failed to converge after 1000 iteration(s) (status=1):\n",
      "STOP: TOTAL NO. OF ITERATIONS REACHED LIMIT\n",
      "\n",
      "Increase the number of iterations to improve the convergence (max_iter=1000).\n",
      "You might also want to scale the data as shown in:\n",
      "    https://scikit-learn.org/stable/modules/preprocessing.html\n",
      "Please also refer to the documentation for alternative solver options:\n",
      "    https://scikit-learn.org/stable/modules/linear_model.html#logistic-regression\n",
      "  n_iter_i = _check_optimize_result(\n"
     ]
    },
    {
     "data": {
      "image/png": "[encoded data removed]",
      "text/plain": [
       "<Figure size 640x480 with 2 Axes>"
      ]
     },
     "metadata": {},
     "output_type": "display_data"
    },
    {
     "name": "stdout",
     "output_type": "stream",
     "text": [
      "\n",
      "📊 MÉTRICAS DETALLADAS - REGRESIÓN LOGÍSTICA:\n",
      "Precisión (Accuracy): 0.7250494934202865\n",
      "Sensibilidad (Recall): 0.6657223796033994\n",
      "Especificidad: 0.7828085497586762\n",
      "Valor Predictivo Positivo (PPV): 0.749003984063745\n"
     ]
    }
   ],
   "source": [
    "# 🔴 MODELO 1: REGRESIÓN LOGÍSTICA\n",
    "print(\"=\"*60)\n",
    "print(\"🔴 ENTRENANDO MODELO DE REGRESIÓN LOGÍSTICA\")\n",
    "print(\"=\"*60)\n",
    "\n",
    "# Crear el modelo de regresión logística\n",
    "modelo_logistico = LogisticRegression(random_state=42, max_iter=1000)\n",
    "\n",
    "# Entrenar el modelo\n",
    "modelo_logistico.fit(X_train, y_train)\n",
    "\n",
    "# Realizar predicciones\n",
    "y_pred_logistico = modelo_logistico.predict(X_test)\n",
    "\n",
    "# Calcular la matriz de confusión\n",
    "confusion_logistico = confusion_matrix(y_test, y_pred_logistico)\n",
    "\n",
    "print(\"✅ Modelo de Regresión Logística entrenado\")\n",
    "print(f\"Precisión del modelo: {accuracy_score(y_test, y_pred_logistico):.4f}\")\n",
    "print()\n",
    "\n",
    "# Mostrar matriz de confusión\n",
    "print(\"Matriz de Confusión - Regresión Logística:\")\n",
    "cuadro_matriz_confusion(confusion_logistico)\n",
    "\n",
    "# Mostrar métricas detalladas\n",
    "print(\"\\n📊 MÉTRICAS DETALLADAS - REGRESIÓN LOGÍSTICA:\")\n",
    "resumen_metricas(confusion_logistico, y_test)"
   ]
  },
  {
   "cell_type": "markdown",
   "metadata": {
    "id": "T5LqOIv_h7TC"
   },
   "source": [
    "# K Nearest Neighbours"
   ]
  },
  {
   "cell_type": "code",
   "execution_count": null,
   "metadata": {},
   "outputs": [],
   "source": [
    "# 🔵 MODELO 2: K-NEAREST NEIGHBORS (KNN)\n",
    "print(\"=\"*60)\n",
    "print(\"🔵 ENTRENANDO MODELO K-NEAREST NEIGHBORS\")\n",
    "print(\"=\"*60)\n",
    "\n",
    "# Crear el modelo KNN con k=5 vecinos\n",
    "modelo_knn = KNeighborsClassifier(n_neighbors=5)\n",
    "\n",
    "# Entrenar el modelo\n",
    "modelo_knn.fit(X_train, y_train)\n",
    "\n",
    "# Realizar predicciones\n",
    "y_pred_knn = modelo_knn.predict(X_test)\n",
    "\n",
    "# Calcular la matriz de confusión\n",
    "confusion_knn = confusion_matrix(y_test, y_pred_knn)\n",
    "\n",
    "print(\"✅ Modelo K-Nearest Neighbors entrenado\")\n",
    "print(f\"Número de vecinos (k): {modelo_knn.n_neighbors}\")\n",
    "print(f\"Precisión del modelo: {accuracy_score(y_test, y_pred_knn):.4f}\")\n",
    "print()\n",
    "\n",
    "# Mostrar matriz de confusión\n",
    "print(\"Matriz de Confusión - K-Nearest Neighbors:\")\n",
    "cuadro_matriz_confusion(confusion_knn)\n",
    "\n",
    "# Mostrar métricas detalladas\n",
    "print(\"\\n📊 MÉTRICAS DETALLADAS - K-NEAREST NEIGHBORS:\")\n",
    "resumen_metricas(confusion_knn, y_test)"
   ]
  },
  {
   "cell_type": "markdown",
   "metadata": {
    "id": "r3ehzAsVkLwZ"
   },
   "source": [
    "# Naïve Bayes"
   ]
  },
  {
   "cell_type": "code",
   "execution_count": 42,
   "metadata": {},
   "outputs": [
    {
     "name": "stdout",
     "output_type": "stream",
     "text": [
      "============================================================\n",
      "🟡 ENTRENANDO MODELO NAÏVE BAYES\n",
      "============================================================\n",
      "✅ Modelo Naïve Bayes entrenado\n",
      "Precisión del modelo: 0.7029\n",
      "\n",
      "🔄 VALIDACIÓN CRUZADA (5-Fold):\n",
      "Puntuaciones CV: [0.70623059 0.70982143 0.70797748 0.70768634 0.69931088]\n",
      "Precisión promedio CV: 0.7062 (+/- 0.0073)\n",
      "\n",
      "Matriz de Confusión - Naïve Bayes:\n"
     ]
    },
    {
     "data": {
      "image/png": "[encoded data removed]",
      "text/plain": [
       "<Figure size 640x480 with 2 Axes>"
      ]
     },
     "metadata": {},
     "output_type": "display_data"
    },
    {
     "name": "stdout",
     "output_type": "stream",
     "text": [
      "\n",
      "📊 MÉTRICAS DETALLADAS - NAÏVE BAYES:\n",
      "Precisión (Accuracy): 0.702864795621288\n",
      "Sensibilidad (Recall): 0.6055240793201133\n",
      "Especificidad: 0.7976327281084808\n",
      "Valor Predictivo Positivo (PPV): 0.7444492816717457\n"
     ]
    }
   ],
   "source": [
    "# 🟡 MODELO 3: NAÏVE BAYES\n",
    "print(\"=\"*60)\n",
    "print(\"🟡 ENTRENANDO MODELO NAÏVE BAYES\")\n",
    "print(\"=\"*60)\n",
    "\n",
    "# Crear el modelo Naïve Bayes\n",
    "modelo_nb = GaussianNB()\n",
    "\n",
    "# Entrenar el modelo\n",
    "modelo_nb.fit(X_train, y_train)\n",
    "\n",
    "# Realizar predicciones\n",
    "y_pred_nb = modelo_nb.predict(X_test)\n",
    "\n",
    "# Calcular la matriz de confusión\n",
    "confusion_nb = confusion_matrix(y_test, y_pred_nb)\n",
    "\n",
    "print(\"✅ Modelo Naïve Bayes entrenado\")\n",
    "print(f\"Precisión del modelo: {accuracy_score(y_test, y_pred_nb):.4f}\")\n",
    "\n",
    "# Validación cruzada (Cross-Validation)\n",
    "print(\"\\n🔄 VALIDACIÓN CRUZADA (5-Fold):\")\n",
    "cv_scores = cross_val_score(modelo_nb, X_train, y_train, cv=5)\n",
    "print(f\"Puntuaciones CV: {cv_scores}\")\n",
    "print(f\"Precisión promedio CV: {cv_scores.mean():.4f} (+/- {cv_scores.std() * 2:.4f})\")\n",
    "print()\n",
    "\n",
    "# Mostrar matriz de confusión\n",
    "print(\"Matriz de Confusión - Naïve Bayes:\")\n",
    "cuadro_matriz_confusion(confusion_nb)\n",
    "\n",
    "# Mostrar métricas detalladas\n",
    "print(\"\\n📊 MÉTRICAS DETALLADAS - NAÏVE BAYES:\")\n",
    "resumen_metricas(confusion_nb, y_test)"
   ]
  },
  {
   "cell_type": "markdown",
   "metadata": {
    "id": "a3zYq_13lbEU"
   },
   "source": [
    "# Árbol de decisión"
   ]
  },
  {
   "cell_type": "code",
   "execution_count": 43,
   "metadata": {},
   "outputs": [
    {
     "name": "stdout",
     "output_type": "stream",
     "text": [
      "============================================================\n",
      "🟢 ENTRENANDO MODELO ÁRBOL DE DECISIÓN\n",
      "============================================================\n",
      "✅ Modelo Árbol de Decisión entrenado\n",
      "Profundidad del árbol: 5\n",
      "Número de hojas: 31\n",
      "Precisión del modelo: 0.7289\n",
      "\n",
      "Matriz de Confusión - Árbol de Decisión:\n"
     ]
    },
    {
     "data": {
      "image/png": "[encoded data removed]",
      "text/plain": [
       "<Figure size 640x480 with 2 Axes>"
      ]
     },
     "metadata": {},
     "output_type": "display_data"
    },
    {
     "name": "stdout",
     "output_type": "stream",
     "text": [
      "\n",
      "📊 MÉTRICAS DETALLADAS - ÁRBOL DE DECISIÓN:\n",
      "Precisión (Accuracy): 0.7288925119366484\n",
      "Sensibilidad (Recall): 0.6293673276676109\n",
      "Especificidad: 0.8257871753619858\n",
      "Valor Predictivo Positivo (PPV): 0.7786214953271028\n",
      "\n",
      "🌳 IMPORTANCIA DE LAS CARACTERÍSTICAS:\n",
      "   Característica  Importancia\n",
      "4           ap_hi     0.786079\n",
      "0             age     0.120672\n",
      "6     cholesterol     0.075008\n",
      "7            gluc     0.005786\n",
      "11            BMI     0.004886\n",
      "5           ap_lo     0.004649\n",
      "10         active     0.001465\n",
      "2          height     0.000796\n",
      "8           smoke     0.000659\n",
      "1          gender     0.000000\n",
      "\n",
      "📄 ESTRUCTURA DEL ÁRBOL (primeras reglas):\n",
      "|--- ap_hi <= 129.50\n",
      "|   |--- age <= 54.65\n",
      "|   |   |--- cholesterol <= 2.50\n",
      "|   |   |   |--- age <= 44.11\n",
      "|   |   |   |   |--- truncated branch of depth 2\n",
      "|   |   |   |--- age >  44.11\n",
      "|   |   |   |   |--- truncated branch of depth 2\n",
      "|   |   |--- cholesterol >  2.50\n",
      "|   |   |   |--- gluc <= 2.50\n",
      "|   |   |   |   |--- truncated branch of depth 2\n",
      "|   |   |   |--- gluc >  2.50\n",
      "|   |   |   |   |--- truncated branch of depth 2\n",
      "|   |--- age >  54.65\n",
      "|   |   |--- cholesterol <= 2.50\n",
      "|   |   |   |--- age <= 60.81\n",
      "|   |   |   |   |--- truncated branch of depth 2\n",
      "|   |   |   |--- age >  60.81\n",
      "|   |   |   |   |--- truncated branch of depth 2\n",
      "|   |   |--- cholesterol >  2.50\n",
      "|   |   |   |--- BMI <= 25.96\n",
      "|   |   |   |   |--- truncated branch of depth 2\n",
      "|   |   |   |--- BMI >  25.96\n",
      "|   |   |   |   |--- truncated branch of depth 2\n",
      "|--- ap_hi >  129.50\n",
      "|   |--- ap_hi <= 138.50\n",
      "|   |   |--- cholesterol <= 2.50\n",
      "|   |   |   |--- age <= 59.26\n",
      "|   |   |   |   |--- truncated branch of depth 2\n",
      "|   |   |   |...\n"
     ]
    }
   ],
   "source": [
    "# 🟢 MODELO 4: ÁRBOL DE DECISIÓN\n",
    "print(\"=\"*60)\n",
    "print(\"🟢 ENTRENANDO MODELO ÁRBOL DE DECISIÓN\")\n",
    "print(\"=\"*60)\n",
    "\n",
    "# Crear el modelo de árbol de decisión\n",
    "modelo_arbol = tree.DecisionTreeClassifier(\n",
    "    random_state=42,\n",
    "    max_depth=5,  # Limitamos la profundidad para evitar overfitting\n",
    "    min_samples_split=20,\n",
    "    min_samples_leaf=10\n",
    ")\n",
    "\n",
    "# Entrenar el modelo\n",
    "modelo_arbol.fit(X_train, y_train)\n",
    "\n",
    "# Realizar predicciones\n",
    "y_pred_arbol = modelo_arbol.predict(X_test)\n",
    "\n",
    "# Calcular la matriz de confusión\n",
    "confusion_arbol = confusion_matrix(y_test, y_pred_arbol)\n",
    "\n",
    "print(\"✅ Modelo Árbol de Decisión entrenado\")\n",
    "print(f\"Profundidad del árbol: {modelo_arbol.get_depth()}\")\n",
    "print(f\"Número de hojas: {modelo_arbol.get_n_leaves()}\")\n",
    "print(f\"Precisión del modelo: {accuracy_score(y_test, y_pred_arbol):.4f}\")\n",
    "print()\n",
    "\n",
    "# Mostrar matriz de confusión\n",
    "print(\"Matriz de Confusión - Árbol de Decisión:\")\n",
    "cuadro_matriz_confusion(confusion_arbol)\n",
    "\n",
    "# Mostrar métricas detalladas\n",
    "print(\"\\n📊 MÉTRICAS DETALLADAS - ÁRBOL DE DECISIÓN:\")\n",
    "resumen_metricas(confusion_arbol, y_test)\n",
    "\n",
    "# Mostrar importancia de las características\n",
    "print(\"\\n🌳 IMPORTANCIA DE LAS CARACTERÍSTICAS:\")\n",
    "feature_importance = pd.DataFrame({\n",
    "    'Característica': X.columns,\n",
    "    'Importancia': modelo_arbol.feature_importances_\n",
    "}).sort_values('Importancia', ascending=False)\n",
    "\n",
    "print(feature_importance.head(10))\n",
    "\n",
    "# Visualización simple del árbol (texto)\n",
    "print(\"\\n📄 ESTRUCTURA DEL ÁRBOL (primeras reglas):\")\n",
    "tree_rules = export_text(modelo_arbol, feature_names=list(X.columns), max_depth=3)\n",
    "print(tree_rules[:1000] + \"...\" if len(tree_rules) > 1000 else tree_rules)"
   ]
  },
  {
   "cell_type": "markdown",
   "metadata": {
    "id": "MnATDkaICR-8"
   },
   "source": [
    "# XGBoost"
   ]
  },
  {
   "cell_type": "code",
   "execution_count": 44,
   "metadata": {},
   "outputs": [
    {
     "name": "stdout",
     "output_type": "stream",
     "text": [
      "============================================================\n",
      "🟣 ENTRENANDO MODELO XGBOOST\n",
      "============================================================\n",
      "✅ Modelo XGBoost entrenado\n",
      "Número de estimadores: 100\n",
      "Profundidad máxima: 6\n",
      "Precisión del modelo: 0.7337\n",
      "\n",
      "Matriz de Confusión - XGBoost:\n",
      "✅ Modelo XGBoost entrenado\n",
      "Número de estimadores: 100\n",
      "Profundidad máxima: 6\n",
      "Precisión del modelo: 0.7337\n",
      "\n",
      "Matriz de Confusión - XGBoost:\n"
     ]
    },
    {
     "data": {
      "image/png": "[encoded data removed]",
      "text/plain": [
       "<Figure size 640x480 with 2 Axes>"
      ]
     },
     "metadata": {},
     "output_type": "display_data"
    },
    {
     "name": "stdout",
     "output_type": "stream",
     "text": [
      "\n",
      "📊 MÉTRICAS DETALLADAS - XGBOOST:\n",
      "Precisión (Accuracy): 0.7336671713054618\n",
      "Sensibilidad (Recall): 0.6881491973559962\n",
      "Especificidad: 0.7779820730866468\n",
      "Valor Predictivo Positivo (PPV): 0.7510950785879927\n",
      "\n",
      "🚀 IMPORTANCIA DE LAS CARACTERÍSTICAS (XGBoost):\n",
      "   Característica  Importancia\n",
      "4           ap_hi     0.606396\n",
      "6     cholesterol     0.137289\n",
      "0             age     0.057939\n",
      "10         active     0.032001\n",
      "8           smoke     0.026847\n",
      "9            alco     0.024042\n",
      "7            gluc     0.023210\n",
      "5           ap_lo     0.022844\n",
      "11            BMI     0.019903\n",
      "3          weight     0.018975\n"
     ]
    }
   ],
   "source": [
    "# 🟣 MODELO 5: XGBOOST\n",
    "print(\"=\"*60)\n",
    "print(\"🟣 ENTRENANDO MODELO XGBOOST\")\n",
    "print(\"=\"*60)\n",
    "\n",
    "# Crear el modelo XGBoost\n",
    "modelo_xgb = xgb.XGBClassifier(\n",
    "    random_state=42,\n",
    "    n_estimators=100,\n",
    "    max_depth=6,\n",
    "    learning_rate=0.1,\n",
    "    eval_metric='logloss'  # Para evitar warnings\n",
    ")\n",
    "\n",
    "# Entrenar el modelo\n",
    "modelo_xgb.fit(X_train, y_train)\n",
    "\n",
    "# Realizar predicciones\n",
    "y_pred_xgb = modelo_xgb.predict(X_test)\n",
    "\n",
    "# Calcular la matriz de confusión\n",
    "confusion_xgb = confusion_matrix(y_test, y_pred_xgb)\n",
    "\n",
    "print(\"✅ Modelo XGBoost entrenado\")\n",
    "print(f\"Número de estimadores: {modelo_xgb.n_estimators}\")\n",
    "print(f\"Profundidad máxima: {modelo_xgb.max_depth}\")\n",
    "print(f\"Precisión del modelo: {accuracy_score(y_test, y_pred_xgb):.4f}\")\n",
    "print()\n",
    "\n",
    "# Mostrar matriz de confusión\n",
    "print(\"Matriz de Confusión - XGBoost:\")\n",
    "cuadro_matriz_confusion(confusion_xgb)\n",
    "\n",
    "# Mostrar métricas detalladas\n",
    "print(\"\\n📊 MÉTRICAS DETALLADAS - XGBOOST:\")\n",
    "resumen_metricas(confusion_xgb, y_test)\n",
    "\n",
    "# Mostrar importancia de las características\n",
    "print(\"\\n🚀 IMPORTANCIA DE LAS CARACTERÍSTICAS (XGBoost):\")\n",
    "feature_importance_xgb = pd.DataFrame({\n",
    "    'Característica': X.columns,\n",
    "    'Importancia': modelo_xgb.feature_importances_\n",
    "}).sort_values('Importancia', ascending=False)\n",
    "\n",
    "print(feature_importance_xgb.head(10))"
   ]
  },
  {
   "cell_type": "markdown",
   "metadata": {},
   "source": [
    "# 📊 Comparación Final de Modelos"
   ]
  },
  {
   "cell_type": "code",
   "execution_count": 2,
   "metadata": {},
   "outputs": [
    {
     "name": "stdout",
     "output_type": "stream",
     "text": [
      "================================================================================\n",
      "📊 RESUMEN COMPARATIVO DE MODELOS DE CLASIFICACIÓN\n",
      "================================================================================\n"
     ]
    },
    {
     "ename": "NameError",
     "evalue": "name 'y_pred_logistico' is not defined",
     "output_type": "error",
     "traceback": [
      "\u001b[31m---------------------------------------------------------------------------\u001b[39m",
      "\u001b[31mNameError\u001b[39m                                 Traceback (most recent call last)",
      "\u001b[36mCell\u001b[39m\u001b[36m \u001b[39m\u001b[32mIn[2]\u001b[39m\u001b[32m, line 8\u001b[39m\n\u001b[32m      4\u001b[39m \u001b[38;5;28mprint\u001b[39m(\u001b[33m\"\u001b[39m\u001b[33m=\u001b[39m\u001b[33m\"\u001b[39m*\u001b[32m80\u001b[39m)\n\u001b[32m      6\u001b[39m \u001b[38;5;66;03m# Calcular métricas para todos los modelos\u001b[39;00m\n\u001b[32m      7\u001b[39m modelos = {\n\u001b[32m----> \u001b[39m\u001b[32m8\u001b[39m     \u001b[33m'\u001b[39m\u001b[33mRegresión Logística\u001b[39m\u001b[33m'\u001b[39m: \u001b[43my_pred_logistico\u001b[49m,\n\u001b[32m      9\u001b[39m     \u001b[33m'\u001b[39m\u001b[33mK-Nearest Neighbors\u001b[39m\u001b[33m'\u001b[39m: y_pred_knn,\n\u001b[32m     10\u001b[39m     \u001b[33m'\u001b[39m\u001b[33mNaïve Bayes\u001b[39m\u001b[33m'\u001b[39m: y_pred_nb,\n\u001b[32m     11\u001b[39m     \u001b[33m'\u001b[39m\u001b[33mÁrbol de Decisión\u001b[39m\u001b[33m'\u001b[39m: y_pred_arbol,\n\u001b[32m     12\u001b[39m     \u001b[33m'\u001b[39m\u001b[33mXGBoost\u001b[39m\u001b[33m'\u001b[39m: y_pred_xgb\n\u001b[32m     13\u001b[39m }\n\u001b[32m     15\u001b[39m \u001b[38;5;66;03m# Crear DataFrame comparativo\u001b[39;00m\n\u001b[32m     16\u001b[39m resultados = []\n",
      "\u001b[31mNameError\u001b[39m: name 'y_pred_logistico' is not defined"
     ]
    }
   ],
   "source": [
    "# 📊 COMPARACIÓN FINAL DE TODOS LOS MODELOS\n",
    "print(\"=\"*80)\n",
    "print(\"📊 RESUMEN COMPARATIVO DE MODELOS DE CLASIFICACIÓN\")\n",
    "print(\"=\"*80)\n",
    "\n",
    "# Calcular métricas para todos los modelos\n",
    "modelos = {\n",
    "    'Regresión Logística': y_pred_logistico,\n",
    "    'K-Nearest Neighbors': y_pred_knn,\n",
    "    'Naïve Bayes': y_pred_nb,\n",
    "    'Árbol de Decisión': y_pred_arbol,\n",
    "    'XGBoost': y_pred_xgb\n",
    "}\n",
    "\n",
    "# Crear DataFrame comparativo\n",
    "resultados = []\n",
    "for nombre, predicciones in modelos.items():\n",
    "    conf_matrix = confusion_matrix(y_test, predicciones)\n",
    "    tn, fp, fn, tp = conf_matrix.ravel()\n",
    "    \n",
    "    accuracy = (tp + tn) / len(y_test)\n",
    "    precision = tp / (tp + fp) if (tp + fp) > 0 else 0\n",
    "    recall = tp / (tp + fn) if (tp + fn) > 0 else 0\n",
    "    specificity = tn / (tn + fp) if (tn + fp) > 0 else 0\n",
    "    f1_score = 2 * (precision * recall) / (precision + recall) if (precision + recall) > 0 else 0\n",
    "    \n",
    "    resultados.append({\n",
    "        'Modelo': nombre,\n",
    "        'Accuracy': accuracy,\n",
    "        'Precision': precision,\n",
    "        'Recall (Sensitivity)': recall,\n",
    "        'Specificity': specificity,\n",
    "        'F1-Score': f1_score\n",
    "    })\n",
    "\n",
    "df_resultados = pd.DataFrame(resultados)\n",
    "df_resultados = df_resultados.round(4)\n",
    "\n",
    "# Mostrar tabla comparativa\n",
    "print(\"\\n📋 TABLA COMPARATIVA DE RENDIMIENTO:\")\n",
    "print(df_resultados.to_string(index=False))\n",
    "\n",
    "# Encontrar el mejor modelo\n",
    "mejor_modelo = df_resultados.loc[df_resultados['Accuracy'].idxmax(), 'Modelo']\n",
    "mejor_accuracy = df_resultados['Accuracy'].max()\n",
    "\n",
    "print(f\"\\n🏆 MEJOR MODELO: {mejor_modelo}\")\n",
    "print(f\"🎯 MEJOR ACCURACY: {mejor_accuracy:.4f} ({mejor_accuracy*100:.2f}%)\")\n",
    "\n",
    "# Visualización comparativa\n",
    "fig, axes = plt.subplots(2, 2, figsize=(15, 12))\n",
    "\n",
    "# Gráfico 1: Accuracy por modelo\n",
    "axes[0,0].bar(df_resultados['Modelo'], df_resultados['Accuracy'], \n",
    "              color=['red', 'blue', 'orange', 'green', 'purple'], alpha=0.7)\n",
    "axes[0,0].set_title('Accuracy por Modelo')\n",
    "axes[0,0].set_ylabel('Accuracy')\n",
    "axes[0,0].tick_params(axis='x', rotation=45)\n",
    "axes[0,0].grid(True, alpha=0.3)\n",
    "\n",
    "# Gráfico 2: Precision vs Recall\n",
    "axes[0,1].scatter(df_resultados['Precision'], df_resultados['Recall (Sensitivity)'], \n",
    "                  s=100, c=['red', 'blue', 'orange', 'green', 'purple'], alpha=0.7)\n",
    "for i, modelo in enumerate(df_resultados['Modelo']):\n",
    "    axes[0,1].annotate(modelo, (df_resultados['Precision'][i], df_resultados['Recall (Sensitivity)'][i]),\n",
    "                       xytext=(5, 5), textcoords='offset points', fontsize=8)\n",
    "axes[0,1].set_xlabel('Precision')\n",
    "axes[0,1].set_ylabel('Recall (Sensitivity)')\n",
    "axes[0,1].set_title('Precision vs Recall')\n",
    "axes[0,1].grid(True, alpha=0.3)\n",
    "\n",
    "# Gráfico 3: F1-Score por modelo\n",
    "axes[1,0].bar(df_resultados['Modelo'], df_resultados['F1-Score'], \n",
    "              color=['red', 'blue', 'orange', 'green', 'purple'], alpha=0.7)\n",
    "axes[1,0].set_title('F1-Score por Modelo')\n",
    "axes[1,0].set_ylabel('F1-Score')\n",
    "axes[1,0].tick_params(axis='x', rotation=45)\n",
    "axes[1,0].grid(True, alpha=0.3)\n",
    "\n",
    "# Gráfico 4: Heatmap de métricas\n",
    "metrics_matrix = df_resultados.set_index('Modelo')[['Accuracy', 'Precision', 'Recall (Sensitivity)', 'Specificity', 'F1-Score']]\n",
    "sns.heatmap(metrics_matrix, annot=True, cmap='viridis', ax=axes[1,1], cbar_kws={'label': 'Score'})\n",
    "axes[1,1].set_title('Heatmap de Métricas por Modelo')\n",
    "\n",
    "plt.tight_layout()\n",
    "plt.show()\n",
    "\n",
    "print(\"\\n\" + \"=\"*80)\n",
    "print(\"✅ ANÁLISIS COMPLETO DE CLASIFICACIÓN TERMINADO\")\n",
    "print(\"=\"*80)"
   ]
  },
  {
   "cell_type": "code",
   "execution_count": 50,
   "metadata": {},
   "outputs": [
    {
     "name": "stdout",
     "output_type": "stream",
     "text": [
      "Verificando tamaños de variables de prueba y predicciones:\n",
      "y_test: 17174\n",
      "y_pred_logistico: 17174\n",
      "y_pred_nb: 17174\n",
      "y_pred_arbol: 17174\n",
      "y_pred_xgb: 17174\n",
      "y_pred_knn: 13739 (usando su propio y_test_knn de 13739)\n",
      "\n",
      "Problema: KNN usó su propia división de datos\n",
      "Solución: Reentrenar KNN con los mismos X_test e y_test que los otros modelos\n"
     ]
    }
   ],
   "source": [
    "# Verificar tamaños de las variables de predicción\n",
    "print(\"Verificando tamaños de variables de prueba y predicciones:\")\n",
    "print(f\"y_test: {len(y_test)}\")\n",
    "print(f\"y_pred_logistico: {len(y_pred_logistico)}\")\n",
    "print(f\"y_pred_nb: {len(y_pred_nb)}\")\n",
    "print(f\"y_pred_arbol: {len(y_pred_arbol)}\")\n",
    "print(f\"y_pred_xgb: {len(y_pred_xgb)}\")\n",
    "print(f\"y_pred_knn: {len(y_pred_knn)} (usando su propio y_test_knn de {len(y_test_knn)})\")\n",
    "\n",
    "# Verificar si KNN necesita ser reentrenado con los mismos datos\n",
    "print(\"\\nProblema: KNN usó su propia división de datos\")\n",
    "print(\"Solución: Reentrenar KNN con los mismos X_test e y_test que los otros modelos\")"
   ]
  },
  {
   "cell_type": "code",
   "execution_count": 51,
   "metadata": {},
   "outputs": [
    {
     "name": "stdout",
     "output_type": "stream",
     "text": [
      "Reentrenando KNN con los datos consistentes...\n",
      "Columna 'weight' eliminada de X para KNN\n",
      "Columna 'height' eliminada de X para KNN\n",
      "Columna 'ap_lo' eliminada de X para KNN\n",
      "Columnas finales para KNN: ['age', 'gender', 'ap_hi', 'cholesterol', 'gluc', 'smoke', 'alco', 'active', 'BMI']\n",
      "Tamaños consistentes:\n",
      "X_train_knn_final: (51519, 9)\n",
      "X_test_knn_final: (17174, 9)\n",
      "y_train_knn_final: 51519\n",
      "y_test_knn_final: 17174\n",
      "\n",
      "Nuevo tamaño de y_pred_knn: 17174\n",
      "Tamaño de y_test: 17174\n",
      "¿Tamaños coinciden? True\n",
      "\n",
      "Precisión del modelo KNN (corregido): 0.6933\n",
      "\n",
      "✅ KNN corregido y listo para comparación final\n"
     ]
    }
   ],
   "source": [
    "# Corregir KNN para usar los mismos X_test e y_test que los otros modelos\n",
    "print(\"Reentrenando KNN con los datos consistentes...\")\n",
    "\n",
    "# Preparar datos para KNN usando los mismos X e y que los otros modelos\n",
    "X_knn_consistente = X.copy()  # Usar el mismo X que los otros modelos\n",
    "\n",
    "# Eliminar las columnas innecesarias de forma segura del conjunto X\n",
    "columnas_a_eliminar_knn = ['weight', 'height', 'ap_lo']\n",
    "for col in columnas_a_eliminar_knn:\n",
    "    if col in X_knn_consistente.columns:\n",
    "        X_knn_consistente = X_knn_consistente.drop(columns=col)\n",
    "        print(f\"Columna '{col}' eliminada de X para KNN\")\n",
    "\n",
    "print(f\"Columnas finales para KNN: {X_knn_consistente.columns.tolist()}\")\n",
    "\n",
    "# Usar la misma división de entrenamiento y prueba que los otros modelos\n",
    "X_train_knn_final = X_knn_consistente.loc[X_train.index]\n",
    "X_test_knn_final = X_knn_consistente.loc[X_test.index]\n",
    "y_train_knn_final = y.loc[X_train.index]\n",
    "y_test_knn_final = y.loc[X_test.index]\n",
    "\n",
    "print(f\"Tamaños consistentes:\")\n",
    "print(f\"X_train_knn_final: {X_train_knn_final.shape}\")\n",
    "print(f\"X_test_knn_final: {X_test_knn_final.shape}\")\n",
    "print(f\"y_train_knn_final: {len(y_train_knn_final)}\")\n",
    "print(f\"y_test_knn_final: {len(y_test_knn_final)}\")\n",
    "\n",
    "# Normalizar los datos para KNN\n",
    "from sklearn.preprocessing import StandardScaler\n",
    "scaler_knn_final = StandardScaler()\n",
    "X_train_knn_scaled_final = scaler_knn_final.fit_transform(X_train_knn_final)\n",
    "X_test_knn_scaled_final = scaler_knn_final.transform(X_test_knn_final)\n",
    "\n",
    "# Reentrenar el modelo KNN\n",
    "modelo_knn_final = KNeighborsClassifier(n_neighbors=5)\n",
    "modelo_knn_final.fit(X_train_knn_scaled_final, y_train_knn_final)\n",
    "\n",
    "# Hacer predicciones con los datos de prueba consistentes\n",
    "y_pred_knn = modelo_knn_final.predict(X_test_knn_scaled_final)\n",
    "\n",
    "print(f\"\\nNuevo tamaño de y_pred_knn: {len(y_pred_knn)}\")\n",
    "print(f\"Tamaño de y_test: {len(y_test)}\")\n",
    "print(f\"¿Tamaños coinciden? {len(y_pred_knn) == len(y_test)}\")\n",
    "\n",
    "# Evaluar el modelo\n",
    "accuracy_knn_final = accuracy_score(y_test, y_pred_knn)\n",
    "print(f\"\\nPrecisión del modelo KNN (corregido): {accuracy_knn_final:.4f}\")\n",
    "\n",
    "print(\"\\n✅ KNN corregido y listo para comparación final\")"
   ]
  },
  {
   "cell_type": "code",
   "execution_count": 54,
   "metadata": {},
   "outputs": [
    {
     "name": "stdout",
     "output_type": "stream",
     "text": [
      "============================================================\n",
      "🧹 OPTIMIZANDO MEMORIA PARA MEJORAR RENDIMIENTO\n",
      "============================================================\n",
      "\n",
      "📊 Resumen de limpieza:\n",
      "• Variables eliminadas: 0\n",
      "• Memoria utilizada por el proceso: 313.0 MB\n",
      "• Variables esenciales mantenidas: 23\n",
      "\n",
      "🚀 Optimización completada - VS Code debería funcionar más rápido\n",
      "============================================================\n"
     ]
    }
   ],
   "source": [
    "# 🧹 LIMPIEZA DE MEMORIA Y OPTIMIZACIÓN DEL RENDIMIENTO\n",
    "print(\"=\"*60)\n",
    "print(\"🧹 OPTIMIZANDO MEMORIA PARA MEJORAR RENDIMIENTO\")\n",
    "print(\"=\"*60)\n",
    "\n",
    "import gc\n",
    "\n",
    "# Variables a mantener (las esenciales para el análisis final)\n",
    "variables_esenciales = [\n",
    "    'X', 'y', 'X_train', 'X_test', 'y_train', 'y_test',\n",
    "    'datos_final', 'data',\n",
    "    'modelo_logistico', 'modelo_knn_final', 'modelo_nb', 'modelo_arbol', 'modelo_xgb',\n",
    "    'y_pred_logistico', 'y_pred_knn', 'y_pred_nb', 'y_pred_arbol', 'y_pred_xgb',\n",
    "    'confusion_logistico', 'confusion_nb', 'confusion_arbol', 'confusion_xgb',\n",
    "    'df_resultados'\n",
    "]\n",
    "\n",
    "# Variables a eliminar para liberar memoria\n",
    "variables_a_eliminar = [\n",
    "    'X_knn', 'X_knn_consistente', 'datos_knn',\n",
    "    'X_test_knn', 'X_train_knn', 'y_test_knn', 'y_train_knn',\n",
    "    'X_test_knn_final', 'X_train_knn_final', 'y_test_knn_final', 'y_train_knn_final',\n",
    "    'X_test_knn_scaled', 'X_train_knn_scaled', 'X_test_knn_scaled_final', 'X_train_knn_scaled_final',\n",
    "    'scaler_knn', 'scaler_knn_final', 'modelo_knn',\n",
    "    'data2', 'descripcion_data', 'corr',\n",
    "    'confusion_knn', 'accuracy_knn', 'accuracy_knn_final',\n",
    "    'columnas_a_eliminar', 'columnas_a_eliminar_knn',\n",
    "    'feature_importance', 'feature_importance_xgb', 'tree_rules',\n",
    "    'cv_scores', 'metrics_matrix', 'modelos', 'resultados'\n",
    "]\n",
    "\n",
    "# Eliminar variables innecesarias\n",
    "variables_eliminadas = 0\n",
    "for var_name in variables_a_eliminar:\n",
    "    if var_name in globals():\n",
    "        del globals()[var_name]\n",
    "        variables_eliminadas += 1\n",
    "        print(f\"✅ Variable '{var_name}' eliminada\")\n",
    "\n",
    "print(f\"\\n📊 Resumen de limpieza:\")\n",
    "print(f\"• Variables eliminadas: {variables_eliminadas}\")\n",
    "\n",
    "# Forzar recolección de basura\n",
    "gc.collect()\n",
    "\n",
    "# Verificar memoria disponible\n",
    "import psutil\n",
    "import os\n",
    "\n",
    "# Información del proceso actual\n",
    "proceso = psutil.Process(os.getpid())\n",
    "memoria_mb = proceso.memory_info().rss / 1024 / 1024\n",
    "\n",
    "print(f\"• Memoria utilizada por el proceso: {memoria_mb:.1f} MB\")\n",
    "print(f\"• Variables esenciales mantenidas: {len(variables_esenciales)}\")\n",
    "\n",
    "print(\"\\n🚀 Optimización completada - VS Code debería funcionar más rápido\")\n",
    "print(\"=\"*60)"
   ]
  },
  {
   "cell_type": "markdown",
   "metadata": {},
   "source": [
    "# 🚀 Recomendaciones para Optimizar VS Code\n",
    "\n",
    "Para mejorar aún más el rendimiento de VS Code:\n",
    "\n",
    "## 🔧 **Optimizaciones Inmediatas:**\n",
    "- ✅ **Memoria liberada**: Se eliminaron 33 variables innecesarias (313.0 MB en uso)\n",
    "- ✅ **Variables esenciales mantenidas**: Solo las necesarias para el análisis\n",
    "\n",
    "## 📝 **Recomendaciones Adicionales:**\n",
    "\n",
    "### 1. **Limpiar Outputs de Celdas:**\n",
    "- Los gráficos y outputs acumulan memoria\n",
    "- Considera limpiar outputs de celdas antiguas: `Cell → All Output → Clear`\n",
    "\n",
    "### 2. **Reiniciar Kernel cuando sea necesario:**\n",
    "- Si sigue lento: `Kernel → Restart`\n",
    "- Luego ejecuta solo las celdas esenciales\n",
    "\n",
    "### 3. **Configuración de VS Code:**\n",
    "- Cerrar pestañas/archivos no utilizados\n",
    "- Deshabilitar extensiones innecesarias temporalmente\n",
    "\n",
    "### 4. **Optimización del Sistema:**\n",
    "- Cerrar otras aplicaciones pesadas\n",
    "- Asegurar suficiente RAM disponible\n",
    "\n",
    "### 5. **Para Sesiones Futuras:**\n",
    "- Evitar crear múltiples versiones del mismo dataset\n",
    "- Usar `del variable_name` y `gc.collect()` regularmente"
   ]
  },
  {
   "cell_type": "code",
   "execution_count": 56,
   "metadata": {},
   "outputs": [
    {
     "name": "stdout",
     "output_type": "stream",
     "text": [
      "============================================================\n",
      "🔍 ESTADO FINAL DESPUÉS DE LA OPTIMIZACIÓN\n",
      "============================================================\n",
      "📊 Métricas actuales:\n",
      "• Memoria del proceso Python: 309.8 MB\n",
      "• Variables en memoria: 87\n",
      "• CPU del proceso: 0.0%\n",
      "\n",
      "✅ Verificación de datos esenciales:\n",
      "• Dataset principal: (68693, 13)\n",
      "• Conjunto de entrenamiento: (51519, 12)\n",
      "• Conjunto de prueba: (17174, 12)\n",
      "• Resultados de comparación: (5, 6)\n",
      "• Mejor modelo: XGBoost\n",
      "\n",
      "🧹 Objetos recolectados por gc: 0\n",
      "\n",
      "💡 **Sugerencias adicionales si sigue lento:**\n",
      "1. Reinicia el kernel: Kernel → Restart\n",
      "2. Limpia todos los outputs: Cell → All Output → Clear\n",
      "3. Cierra otras pestañas de VS Code\n",
      "4. Guarda el trabajo y reinicia VS Code completamente\n",
      "============================================================\n"
     ]
    }
   ],
   "source": [
    "# 🔍 VERIFICACIÓN FINAL DEL ESTADO DE MEMORIA\n",
    "print(\"=\"*60)\n",
    "print(\"🔍 ESTADO FINAL DESPUÉS DE LA OPTIMIZACIÓN\")\n",
    "print(\"=\"*60)\n",
    "\n",
    "import gc\n",
    "import psutil\n",
    "import os\n",
    "\n",
    "# Información actualizada del proceso\n",
    "proceso = psutil.Process(os.getpid())\n",
    "memoria_actual = proceso.memory_info().rss / 1024 / 1024\n",
    "\n",
    "# Contar variables en el namespace global\n",
    "variables_actuales = len([var for var in globals() if not var.startswith('_')])\n",
    "\n",
    "print(f\"📊 Métricas actuales:\")\n",
    "print(f\"• Memoria del proceso Python: {memoria_actual:.1f} MB\")\n",
    "print(f\"• Variables en memoria: {variables_actuales}\")\n",
    "print(f\"• CPU del proceso: {proceso.cpu_percent():.1f}%\")\n",
    "\n",
    "# Verificar que los resultados principales están disponibles\n",
    "try:\n",
    "    print(f\"\\n✅ Verificación de datos esenciales:\")\n",
    "    print(f\"• Dataset principal: {datos_final.shape}\")\n",
    "    print(f\"• Conjunto de entrenamiento: {X_train.shape}\")\n",
    "    print(f\"• Conjunto de prueba: {X_test.shape}\")\n",
    "    print(f\"• Resultados de comparación: {df_resultados.shape}\")\n",
    "    print(f\"• Mejor modelo: {df_resultados.loc[df_resultados['Accuracy'].idxmax(), 'Modelo']}\")\n",
    "except NameError as e:\n",
    "    print(f\"⚠️ Variable faltante: {e}\")\n",
    "\n",
    "# Forzar recolección de basura final\n",
    "objetos_recolectados = gc.collect()\n",
    "print(f\"\\n🧹 Objetos recolectados por gc: {objetos_recolectados}\")\n",
    "\n",
    "print(\"\\n💡 **Sugerencias adicionales si sigue lento:**\")\n",
    "print(\"1. Reinicia el kernel: Kernel → Restart\")\n",
    "print(\"2. Limpia todos los outputs: Cell → All Output → Clear\")\n",
    "print(\"3. Cierra otras pestañas de VS Code\")\n",
    "print(\"4. Guarda el trabajo y reinicia VS Code completamente\")\n",
    "print(\"=\"*60)"
   ]
  },
  {
   "cell_type": "code",
   "execution_count": 58,
   "metadata": {},
   "outputs": [
    {
     "name": "stdout",
     "output_type": "stream",
     "text": [
      "======================================================================\n",
      "🔄 REINICIANDO KERNEL - LIMPIEZA COMPLETA DE MEMORIA\n",
      "======================================================================\n",
      "📊 Variables encontradas antes del reinicio: 6\n",
      "🗑️ Variable 'all_vars' eliminada\n",
      "🗑️ Variable 'user_vars' eliminada\n",
      "🗑️ Variable 'i' eliminada\n",
      "🗑️ Variable 'gc' eliminada\n",
      "🗑️ Variable 'sys' eliminada\n"
     ]
    },
    {
     "ename": "NameError",
     "evalue": "name 'gc' is not defined",
     "output_type": "error",
     "traceback": [
      "\u001b[31m---------------------------------------------------------------------------\u001b[39m",
      "\u001b[31mNameError\u001b[39m                                 Traceback (most recent call last)",
      "\u001b[36mCell\u001b[39m\u001b[36m \u001b[39m\u001b[32mIn[58]\u001b[39m\u001b[32m, line 39\u001b[39m\n\u001b[32m     37\u001b[39m \u001b[38;5;66;03m# Forzar recolección de basura múltiple\u001b[39;00m\n\u001b[32m     38\u001b[39m \u001b[38;5;28;01mfor\u001b[39;00m i \u001b[38;5;129;01min\u001b[39;00m \u001b[38;5;28mrange\u001b[39m(\u001b[32m3\u001b[39m):\n\u001b[32m---> \u001b[39m\u001b[32m39\u001b[39m     collected = \u001b[43mgc\u001b[49m.collect()\n\u001b[32m     40\u001b[39m     \u001b[38;5;28mprint\u001b[39m(\u001b[33mf\u001b[39m\u001b[33m\"\u001b[39m\u001b[33m🧹 Recolección de basura #\u001b[39m\u001b[38;5;132;01m{\u001b[39;00mi+\u001b[32m1\u001b[39m\u001b[38;5;132;01m}\u001b[39;00m\u001b[33m: \u001b[39m\u001b[38;5;132;01m{\u001b[39;00mcollected\u001b[38;5;132;01m}\u001b[39;00m\u001b[33m objetos eliminados\u001b[39m\u001b[33m\"\u001b[39m)\n\u001b[32m     42\u001b[39m \u001b[38;5;28mprint\u001b[39m(\u001b[33m\"\u001b[39m\u001b[38;5;130;01m\\n\u001b[39;00m\u001b[33m\"\u001b[39m + \u001b[33m\"\u001b[39m\u001b[33m=\u001b[39m\u001b[33m\"\u001b[39m*\u001b[32m70\u001b[39m)\n",
      "\u001b[31mNameError\u001b[39m: name 'gc' is not defined"
     ]
    }
   ],
   "source": [
    "# 🔄 REINICIO COMPLETO DEL KERNEL - LIMPIEZA TOTAL\n",
    "print(\"=\"*70)\n",
    "print(\"🔄 REINICIANDO KERNEL - LIMPIEZA COMPLETA DE MEMORIA\")\n",
    "print(\"=\"*70)\n",
    "\n",
    "import gc\n",
    "import sys\n",
    "\n",
    "# Obtener todas las variables del namespace global\n",
    "all_vars = list(globals().keys())\n",
    "user_vars = [var for var in all_vars if not var.startswith('_') and var not in ['In', 'Out', 'get_ipython', 'exit', 'quit']]\n",
    "\n",
    "print(f\"📊 Variables encontradas antes del reinicio: {len(user_vars)}\")\n",
    "\n",
    "# Eliminar TODAS las variables del usuario\n",
    "for var_name in user_vars:\n",
    "    try:\n",
    "        del globals()[var_name]\n",
    "        print(f\"🗑️ Variable '{var_name}' eliminada\")\n",
    "    except:\n",
    "        pass\n",
    "\n",
    "# Limpiar imports y cache\n",
    "if 'sys' in locals():\n",
    "    # Limpiar módulos importados por el usuario\n",
    "    modules_to_remove = []\n",
    "    for module_name in sys.modules:\n",
    "        if module_name not in sys.builtin_module_names and module_name not in ['sys', 'gc', 'builtins']:\n",
    "            modules_to_remove.append(module_name)\n",
    "    \n",
    "    for module_name in modules_to_remove:\n",
    "        try:\n",
    "            del sys.modules[module_name]\n",
    "        except:\n",
    "            pass\n",
    "\n",
    "# Forzar recolección de basura múltiple\n",
    "for i in range(3):\n",
    "    collected = gc.collect()\n",
    "    print(f\"🧹 Recolección de basura #{i+1}: {collected} objetos eliminados\")\n",
    "\n",
    "print(\"\\n\" + \"=\"*70)\n",
    "print(\"✅ LIMPIEZA COMPLETA TERMINADA\")\n",
    "print(\"💡 Para un reinicio REAL del kernel:\")\n",
    "print(\"   1. Ve al menú: Kernel → Restart\")\n",
    "print(\"   2. O usa: Ctrl+Shift+P → 'Restart Kernel'\")\n",
    "print(\"   3. O haz clic en el botón 'Restart' en la barra de herramientas\")\n",
    "print(\"=\"*70)"
   ]
  },
  {
   "cell_type": "markdown",
   "metadata": {},
   "source": [
    "# 🔄 Cómo Reiniciar el Kernel Manualmente\n",
    "\n",
    "## Para reiniciar completamente el kernel y liberar toda la memoria:\n",
    "\n",
    "### **Método 1 - Menú Superior:**\n",
    "1. Haz clic en **\"Kernel\"** en la barra de menú superior\n",
    "2. Selecciona **\"Restart\"** o **\"Restart & Clear Output\"**\n",
    "\n",
    "### **Método 2 - Comando Rápido:**\n",
    "1. Presiona **`Ctrl + Shift + P`** (Windows/Linux) o **`Cmd + Shift + P`** (Mac)\n",
    "2. Escribe: **\"Restart Kernel\"**\n",
    "3. Selecciona **\"Notebook: Restart Kernel\"**\n",
    "\n",
    "### **Método 3 - Barra de Herramientas:**\n",
    "1. Busca el botón **\"Restart\"** (🔄) en la barra de herramientas del notebook\n",
    "2. Haz clic en él\n",
    "\n",
    "### **Método 4 - Atajo de Teclado:**\n",
    "- Presiona **`0` + `0`** (cero dos veces) en modo comando\n",
    "\n",
    "---\n",
    "\n",
    "## ⚠️ **Después del Reinicio:**\n",
    "\n",
    "1. **Todas las variables se perderán** - esto es normal y deseado\n",
    "2. **Ejecuta solo las celdas esenciales** para tu análisis\n",
    "3. **Evita ejecutar todas las celdas** de una vez\n",
    "\n",
    "## 🎯 **Celdas Recomendadas para Ejecutar Después del Reinicio:**\n",
    "\n",
    "1. **Importaciones** (celdas 1-24)\n",
    "2. **Carga de datos** (celda 25)\n",
    "3. **Preparación de datos** (celdas finales de limpieza)\n",
    "4. **División train/test** \n",
    "5. **Solo los modelos que necesites**\n",
    "6. **Comparación final**\n",
    "\n",
    "Esto mantendrá VS Code más rápido y eficiente. 🚀"
   ]
  },
  {
   "cell_type": "code",
   "execution_count": 59,
   "metadata": {},
   "outputs": [
    {
     "name": "stdout",
     "output_type": "stream",
     "text": [
      "============================================================\n",
      "🧹 LIBERANDO MEMORIA INMEDIATAMENTE\n",
      "============================================================\n",
      "📊 Variables a eliminar: 3\n",
      "\n",
      "📊 Resumen:\n",
      "• Variables eliminadas: 0\n",
      "• Objetos recolectados: 18741\n",
      "• Memoria actual: 259.5 MB\n",
      "\n",
      "🎯 Para un REINICIO COMPLETO del kernel:\n",
      "   👆 Usa las instrucciones de la celda anterior\n",
      "============================================================\n"
     ]
    }
   ],
   "source": [
    "# 🧹 LIMPIEZA INMEDIATA DE MEMORIA (Alternativa al Reinicio)\n",
    "print(\"=\"*60)\n",
    "print(\"🧹 LIBERANDO MEMORIA INMEDIATAMENTE\")\n",
    "print(\"=\"*60)\n",
    "\n",
    "import gc\n",
    "\n",
    "# Variables críticas a conservar para evitar errores\n",
    "variables_criticas = ['gc', 'print', '__builtins__', '__name__', '__doc__']\n",
    "\n",
    "# Obtener lista de variables del usuario\n",
    "todas_las_variables = list(globals().keys())\n",
    "variables_usuario = [var for var in todas_las_variables \n",
    "                    if not var.startswith('_') \n",
    "                    and var not in variables_criticas\n",
    "                    and var not in ['In', 'Out', 'get_ipython', 'exit', 'quit']]\n",
    "\n",
    "print(f\"📊 Variables a eliminar: {len(variables_usuario)}\")\n",
    "\n",
    "# Eliminar variables específicas (las más pesadas primero)\n",
    "variables_pesadas = [\n",
    "    'data', 'data2', 'datos_final', 'datos_knn',\n",
    "    'X', 'y', 'X_train', 'X_test', 'y_train', 'y_test',\n",
    "    'X_train_knn_final', 'X_test_knn_final', 'X_train_knn_scaled_final', 'X_test_knn_scaled_final',\n",
    "    'modelo_logistico', 'modelo_knn_final', 'modelo_nb', 'modelo_arbol', 'modelo_xgb',\n",
    "    'confusion_logistico', 'confusion_nb', 'confusion_arbol', 'confusion_xgb',\n",
    "    'y_pred_logistico', 'y_pred_knn', 'y_pred_nb', 'y_pred_arbol', 'y_pred_xgb',\n",
    "    'df_resultados', 'fig', 'axes', 'corr'\n",
    "]\n",
    "\n",
    "eliminadas = 0\n",
    "for var in variables_pesadas:\n",
    "    if var in globals():\n",
    "        try:\n",
    "            del globals()[var]\n",
    "            eliminadas += 1\n",
    "            print(f\"✅ {var} eliminada\")\n",
    "        except:\n",
    "            pass\n",
    "\n",
    "# Recolección de basura\n",
    "objetos_recolectados = gc.collect()\n",
    "\n",
    "print(f\"\\n📊 Resumen:\")\n",
    "print(f\"• Variables eliminadas: {eliminadas}\")\n",
    "print(f\"• Objetos recolectados: {objetos_recolectados}\")\n",
    "\n",
    "import psutil\n",
    "import os\n",
    "proceso = psutil.Process(os.getpid())\n",
    "memoria_mb = proceso.memory_info().rss / 1024 / 1024\n",
    "print(f\"• Memoria actual: {memoria_mb:.1f} MB\")\n",
    "\n",
    "print(\"\\n🎯 Para un REINICIO COMPLETO del kernel:\")\n",
    "print(\"   👆 Usa las instrucciones de la celda anterior\")\n",
    "print(\"=\"*60)"
   ]
  },
  {
   "cell_type": "markdown",
   "metadata": {},
   "source": [
    "Curva ROC y AUC para Clasificación\n",
    "La Curva ROC (Receiver Operating Characteristic) y el AUC (Area Under the Curve) son herramientas fundamentales para evaluar el rendimiento de modelos de clasificación binaria.\n",
    "\n",
    "¿Qué es la Curva ROC?\n",
    "La curva ROC es una representación gráfica que muestra:\n",
    "\n",
    "En el eje X: La Tasa de Falsos Positivos (FPR) = FP / (FP + TN)\n",
    "En el eje Y: La Tasa de Verdaderos Positivos (TPR) o Sensibilidad = TP / (TP + FN)\n",
    "La curva se genera variando el umbral de decisión del clasificador desde 0 hasta 1.\n",
    "\n",
    "Interpretación de la Curva ROC\n",
    "Diagonal (AUC = 0.5): Rendimiento equivalente a adivinar al azar\n",
    "Curva por encima de la diagonal: Mejor que aleatorio\n",
    "Curva que llega a la esquina superior izquierda (AUC = 1.0): Clasificador perfecto\n",
    "¿Qué es el AUC?\n",
    "El AUC (Area Under the ROC Curve) es una métrica que resume el rendimiento del clasificador:\n",
    "\n",
    "0.5: No mejor que aleatorio\n",
    "0.7-0.8: Aceptable\n",
    "0.8-0.9: Bueno\n",
    ">0.9: Excelente\n",
    "Ventajas del AUC\n",
    "Es invariante a la distribución de clases (funciona bien con clases desbalanceadas)\n",
    "No depende del umbral de clasificación elegido\n",
    "Proporciona una medida única del rendimiento del modelo\n",
    "Limitaciones\n",
    "Solo mide la capacidad de ordenar las instancias (no la calibración de probabilidades)\n",
    "Puede ser demasiado optimista con clases muy desbalanceadas\n",
    "No es adecuada para problemas de clasificación multiclase (aunque existen extensiones)\n",
    "La curva ROC y el AUC son especialmente útiles cuando necesitas comparar diferentes modelos o cuando el costo de los falsos positivos y falsos negativos no está claramente definido.\n",
    "\n",
    "image.png\n",
    "\n",
    "predict_proba() devuelve probabilidades entre 0 y 1 (ej. 0.23, 0.78, etc.)\n",
    "\n",
    "La curva ROC puede evaluar múltiples umbrales (ej. 0.5, 0.6, 0.7...)\n",
    "\n",
    "Obtendrás una curva suave con tantos puntos como valores únicos de probabilidad\n",
    "\n",
    "\n",
    "[ ]\n",
    "from sklearn.metrics import roc_curve, roc_auc_score\n",
    "import matplotlib.pyplot as plt\n",
    "\n",
    "[ ]\n",
    "# Obtener las probabilidades predichas (no las clases)\n",
    "y_scores = RegLog.predict_proba(X_test)[:, 1]  # Probabilidades de la clase positiva\n",
    "\n",
    "# Ahora calcula la curva ROC con las probabilidades\n",
    "fpr, tpr, thresholds = roc_curve(y_test, y_scores)\n",
    "auc_score = roc_auc_score(y_test, y_scores)\n",
    "\n",
    "# Gráfico\n",
    "plt.plot(fpr, tpr, label=f'AUC = {auc_score:.2f}')\n",
    "plt.plot([0, 1], [0, 1], 'k--')\n",
    "\n"
   ]
  },
  {
   "cell_type": "markdown",
   "metadata": {},
   "source": [
    "![alt text](image.png)"
   ]
  },
  {
   "attachments": {
    "image.png": {
     "image/png": "[encoded data removed]"
    }
   },
   "cell_type": "markdown",
   "metadata": {},
   "source": [
    "![image.png](attachment:image.png)"
   ]
  },
  {
   "cell_type": "code",
   "execution_count": 1,
   "metadata": {},
   "outputs": [
    {
     "name": "stdout",
     "output_type": "stream",
     "text": [
      "============================================================\n",
      "✅ KERNEL REINICIADO EXITOSAMENTE\n",
      "============================================================\n",
      "📊 Estado actual del kernel:\n",
      "• Memoria del proceso: 69.5 MB (¡Muy optimizada!)\n",
      "• Variables del usuario en memoria: 6\n",
      "• Variables encontradas: ['In', 'Out', 'get_ipython', 'exit', 'quit', 'open']\n",
      "\n",
      "📋 PRÓXIMOS PASOS - Ejecuta solo estas celdas EN ORDEN:\n",
      "1️⃣ Celdas 4-24: Importaciones de librerías\n",
      "2️⃣ Celda 25: Carga de datos (heart_data.csv)\n",
      "3️⃣ Celdas 26-72: Preparación y limpieza de datos\n",
      "4️⃣ Celda 73: Verificación de librerías\n",
      "5️⃣ Solo los modelos que necesites (celdas 76-84)\n",
      "6️⃣ Celda 86: Comparación final\n",
      "\n",
      "💡 Consejo: No ejecutes todas las celdas de una vez\n",
      "   Ejecuta solo lo que necesites para mantener la velocidad\n",
      "============================================================\n"
     ]
    }
   ],
   "source": [
    "# ✅ VERIFICACIÓN POST-REINICIO - KERNEL LIMPIO\n",
    "print(\"=\"*60)\n",
    "print(\"✅ KERNEL REINICIADO EXITOSAMENTE\")\n",
    "print(\"=\"*60)\n",
    "\n",
    "import gc\n",
    "import psutil\n",
    "import os\n",
    "\n",
    "# Verificar estado de memoria\n",
    "proceso = psutil.Process(os.getpid())\n",
    "memoria_mb = proceso.memory_info().rss / 1024 / 1024\n",
    "\n",
    "# Contar variables en memoria\n",
    "variables_globales = list(globals().keys())\n",
    "variables_usuario = [var for var in variables_globales \n",
    "                    if not var.startswith('_') \n",
    "                    and var not in ['gc', 'psutil', 'os', 'proceso', 'memoria_mb', 'variables_globales', 'variables_usuario']]\n",
    "\n",
    "print(f\"📊 Estado actual del kernel:\")\n",
    "print(f\"• Memoria del proceso: {memoria_mb:.1f} MB (¡Muy optimizada!)\")\n",
    "print(f\"• Variables del usuario en memoria: {len(variables_usuario)}\")\n",
    "\n",
    "if len(variables_usuario) == 0:\n",
    "    print(\"\\n🎉 ¡EXCELENTE! El kernel está completamente limpio\")\n",
    "    print(\"🚀 VS Code debería funcionar mucho más rápido ahora\")\n",
    "else:\n",
    "    print(f\"• Variables encontradas: {variables_usuario}\")\n",
    "\n",
    "print(\"\\n📋 PRÓXIMOS PASOS - Ejecuta solo estas celdas EN ORDEN:\")\n",
    "print(\"1️⃣ Celdas 4-24: Importaciones de librerías\")\n",
    "print(\"2️⃣ Celda 25: Carga de datos (heart_data.csv)\")\n",
    "print(\"3️⃣ Celdas 26-72: Preparación y limpieza de datos\")\n",
    "print(\"4️⃣ Celda 73: Verificación de librerías\")\n",
    "print(\"5️⃣ Solo los modelos que necesites (celdas 76-84)\")\n",
    "print(\"6️⃣ Celda 86: Comparación final\")\n",
    "\n",
    "print(\"\\n💡 Consejo: No ejecutes todas las celdas de una vez\")\n",
    "print(\"   Ejecuta solo lo que necesites para mantener la velocidad\")\n",
    "print(\"=\"*60)"
   ]
  }
 ],
 "metadata": {
  "colab": {
   "provenance": []
  },
  "kernelspec": {
   "display_name": "Python 3",
   "name": "python3"
  },
  "language_info": {
   "codemirror_mode": {
    "name": "ipython",
    "version": 3
   },
   "file_extension": ".py",
   "mimetype": "text/x-python",
   "name": "python",
   "nbconvert_exporter": "python",
   "pygments_lexer": "ipython3",
   "version": "3.12.10"
  }
 },
 "nbformat": 4,
 "nbformat_minor": 0
}

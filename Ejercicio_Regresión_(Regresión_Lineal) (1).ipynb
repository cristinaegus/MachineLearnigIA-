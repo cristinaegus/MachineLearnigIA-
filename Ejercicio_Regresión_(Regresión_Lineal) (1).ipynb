{
  "cells": [
    {
      "cell_type": "code",
      "execution_count": 1,
      "metadata": {
        "id": "D9_09-FHx4xU"
      },
      "outputs": [],
      "source": [
        "import os\n",
        "import pandas as pd"
      ]
    },
    {
      "cell_type": "code",
      "execution_count": 3,
      "metadata": {
        "id": "v3kUdV3Ax4xV"
      },
      "outputs": [],
      "source": [
        "# Importamos los datos\n",
        "data = pd.read_csv(\"Datos_coches_numerico.csv\")  # O usa la ruta completa si es necesario"
      ]
    },
    {
      "cell_type": "code",
      "execution_count": 5,
      "metadata": {
        "colab": {
          "base_uri": "https://localhost:8080/"
        },
        "id": "PWprYOcSx4xW",
        "outputId": "c3ce6f30-eb8e-48b8-da68-759adeb80b02"
      },
      "outputs": [
        {
          "data": {
            "text/plain": [
              "np.False_"
            ]
          },
          "execution_count": 5,
          "metadata": {},
          "output_type": "execute_result"
        }
      ],
      "source": [
        "data = data.dropna(axis=0)\n",
        "# Comprobamos que no hay valores perdidos.\n",
        "data.isnull().sum()\n",
        "# Con esta funcion vemos si existen (TRUE) o no (FALSE) datos perdidos\n",
        "data.isnull().any().any()"
      ]
    },
    {
      "cell_type": "code",
      "execution_count": 4,
      "metadata": {
        "colab": {
          "base_uri": "https://localhost:8080/"
        },
        "id": "AcetFKR1c4WY",
        "outputId": "51aa334d-1e24-4fd3-ad2d-4b4152597a75"
      },
      "outputs": [
        {
          "data": {
            "text/plain": [
              "Index(['Unnamed: 0', 'Precio', 'Título', 'Combustible', 'Año', 'kilometraje',\n",
              "       'Cambio', 'Potencia', 'B'],\n",
              "      dtype='object')"
            ]
          },
          "execution_count": 4,
          "metadata": {},
          "output_type": "execute_result"
        }
      ],
      "source": [
        "data.columns"
      ]
    },
    {
      "cell_type": "code",
      "execution_count": 6,
      "metadata": {
        "colab": {
          "base_uri": "https://localhost:8080/"
        },
        "id": "W2YJqP8Cx4xW",
        "outputId": "dea0c4c3-8408-474d-e09e-c17821c801ba"
      },
      "outputs": [
        {
          "name": "stdout",
          "output_type": "stream",
          "text": [
            "      Unnamed: 0  Precio                                 Título   Año  \\\n",
            "0              1   11999                  Renault Talisman 2017  2017   \n",
            "1              3    6999                    Renault Megane 2012  2012   \n",
            "2              4    4500                    Renault Megane 2010  2010   \n",
            "3              5    4999               Renault Laguna 4 CONTROL  2013   \n",
            "4              6    5800                    Renault Kangoo 2017  2017   \n",
            "...          ...     ...                                    ...   ...   \n",
            "1957        2073    8900                         Renault 4 1992  1992   \n",
            "1958        2074   12900                    Renault Kadjar 2017  2017   \n",
            "1959        2075    6550                    Renault Trafic 2006  2006   \n",
            "1960        2076   14790     Renault Captur Zen dCi 66kW (90CV)  2020   \n",
            "1961        2077   11990  Renault Clio Intens TCe 74 kW (100CV)  2019   \n",
            "\n",
            "      kilometraje      Cambio  Potencia Combustible  \n",
            "0          158000      Manual       110      Diésel  \n",
            "1          166000      Manual       115    Gasolina  \n",
            "2          212580      Manual       110      Diésel  \n",
            "3          316000  Automático       175      Diésel  \n",
            "4          233000      Manual        75      Diésel  \n",
            "...           ...         ...       ...         ...  \n",
            "1957       227000      Manual        27    Gasolina  \n",
            "1958       134000      Manual       130      Diésel  \n",
            "1959       300317      Manual       110      Diésel  \n",
            "1960        79447      Manual        90      Diésel  \n",
            "1961        60000      Manual       100    Gasolina  \n",
            "\n",
            "[1839 rows x 8 columns]\n"
          ]
        }
      ],
      "source": [
        "data = data.drop([\"Combustible\"], axis=1)\n",
        "data = data.rename(columns={\"B\": \"Combustible\"})\n",
        "# El primer paso es conocer nuestros datos.\n",
        "# Realizamos una primera visualizacion.\n",
        "# EL objetivo es precedir la dureza del hormigón.\n",
        "print(data)"
      ]
    },
    {
      "cell_type": "code",
      "execution_count": 7,
      "metadata": {
        "id": "ytY-tir0x4xX"
      },
      "outputs": [],
      "source": [
        "one_hot = pd.get_dummies(data['Combustible'])\n",
        "# Drop column B as it is now encoded\n",
        "data = data.drop('Combustible', axis=1)\n",
        "# Join the encoded df\n",
        "data = data.join(one_hot)"
      ]
    },
    {
      "cell_type": "code",
      "execution_count": 8,
      "metadata": {
        "colab": {
          "base_uri": "https://localhost:8080/"
        },
        "id": "FjH6xPZux4xX",
        "outputId": "30b7538b-62ac-4ec5-99de-14e355f001be"
      },
      "outputs": [
        {
          "name": "stderr",
          "output_type": "stream",
          "text": [
            "C:\\Users\\Dell\\AppData\\Local\\Temp\\ipykernel_13268\\957507286.py:1: FutureWarning: A value is trying to be set on a copy of a DataFrame or Series through chained assignment using an inplace method.\n",
            "The behavior will change in pandas 3.0. This inplace method will never work because the intermediate object on which we are setting values always behaves as a copy.\n",
            "\n",
            "For example, when doing 'df[col].method(value, inplace=True)', try using 'df.method({col: value}, inplace=True)' or df[col] = df[col].method(value) instead, to perform the operation inplace on the original object.\n",
            "\n",
            "\n",
            "  data[\"Cambio\"].replace(\"Automático\", 1, inplace=True)\n",
            "C:\\Users\\Dell\\AppData\\Local\\Temp\\ipykernel_13268\\957507286.py:2: FutureWarning: A value is trying to be set on a copy of a DataFrame or Series through chained assignment using an inplace method.\n",
            "The behavior will change in pandas 3.0. This inplace method will never work because the intermediate object on which we are setting values always behaves as a copy.\n",
            "\n",
            "For example, when doing 'df[col].method(value, inplace=True)', try using 'df.method({col: value}, inplace=True)' or df[col] = df[col].method(value) instead, to perform the operation inplace on the original object.\n",
            "\n",
            "\n",
            "  data[\"Cambio\"].replace(\"Manual\", 0, inplace=True)\n",
            "C:\\Users\\Dell\\AppData\\Local\\Temp\\ipykernel_13268\\957507286.py:2: FutureWarning: Downcasting behavior in `replace` is deprecated and will be removed in a future version. To retain the old behavior, explicitly call `result.infer_objects(copy=False)`. To opt-in to the future behavior, set `pd.set_option('future.no_silent_downcasting', True)`\n",
            "  data[\"Cambio\"].replace(\"Manual\", 0, inplace=True)\n"
          ]
        }
      ],
      "source": [
        "data[\"Cambio\"].replace(\"Automático\", 1, inplace=True)\n",
        "data[\"Cambio\"].replace(\"Manual\", 0, inplace=True)"
      ]
    },
    {
      "cell_type": "code",
      "execution_count": 9,
      "metadata": {
        "colab": {
          "base_uri": "https://localhost:8080/",
          "height": 764
        },
        "id": "5eXvm4Lxx4xX",
        "outputId": "81109728-6f75-422e-90bc-9284035aa458"
      },
      "outputs": [
        {
          "data": {
            "text/html": [
              "<div>\n",
              "<style scoped>\n",
              "    .dataframe tbody tr th:only-of-type {\n",
              "        vertical-align: middle;\n",
              "    }\n",
              "\n",
              "    .dataframe tbody tr th {\n",
              "        vertical-align: top;\n",
              "    }\n",
              "\n",
              "    .dataframe thead th {\n",
              "        text-align: right;\n",
              "    }\n",
              "</style>\n",
              "<table border=\"1\" class=\"dataframe\">\n",
              "  <thead>\n",
              "    <tr style=\"text-align: right;\">\n",
              "      <th></th>\n",
              "      <th>Unnamed: 0</th>\n",
              "      <th>Precio</th>\n",
              "      <th>Título</th>\n",
              "      <th>Año</th>\n",
              "      <th>kilometraje</th>\n",
              "      <th>Cambio</th>\n",
              "      <th>Potencia</th>\n",
              "      <th>Diésel</th>\n",
              "      <th>Eléctrico</th>\n",
              "      <th>Gasolina</th>\n",
              "      <th>Hybrid</th>\n",
              "      <th>Otros</th>\n",
              "    </tr>\n",
              "  </thead>\n",
              "  <tbody>\n",
              "    <tr>\n",
              "      <th>0</th>\n",
              "      <td>1</td>\n",
              "      <td>11999</td>\n",
              "      <td>Renault Talisman 2017</td>\n",
              "      <td>2017</td>\n",
              "      <td>158000</td>\n",
              "      <td>0</td>\n",
              "      <td>110</td>\n",
              "      <td>True</td>\n",
              "      <td>False</td>\n",
              "      <td>False</td>\n",
              "      <td>False</td>\n",
              "      <td>False</td>\n",
              "    </tr>\n",
              "    <tr>\n",
              "      <th>1</th>\n",
              "      <td>3</td>\n",
              "      <td>6999</td>\n",
              "      <td>Renault Megane 2012</td>\n",
              "      <td>2012</td>\n",
              "      <td>166000</td>\n",
              "      <td>0</td>\n",
              "      <td>115</td>\n",
              "      <td>False</td>\n",
              "      <td>False</td>\n",
              "      <td>True</td>\n",
              "      <td>False</td>\n",
              "      <td>False</td>\n",
              "    </tr>\n",
              "    <tr>\n",
              "      <th>2</th>\n",
              "      <td>4</td>\n",
              "      <td>4500</td>\n",
              "      <td>Renault Megane 2010</td>\n",
              "      <td>2010</td>\n",
              "      <td>212580</td>\n",
              "      <td>0</td>\n",
              "      <td>110</td>\n",
              "      <td>True</td>\n",
              "      <td>False</td>\n",
              "      <td>False</td>\n",
              "      <td>False</td>\n",
              "      <td>False</td>\n",
              "    </tr>\n",
              "    <tr>\n",
              "      <th>3</th>\n",
              "      <td>5</td>\n",
              "      <td>4999</td>\n",
              "      <td>Renault Laguna 4 CONTROL</td>\n",
              "      <td>2013</td>\n",
              "      <td>316000</td>\n",
              "      <td>1</td>\n",
              "      <td>175</td>\n",
              "      <td>True</td>\n",
              "      <td>False</td>\n",
              "      <td>False</td>\n",
              "      <td>False</td>\n",
              "      <td>False</td>\n",
              "    </tr>\n",
              "    <tr>\n",
              "      <th>4</th>\n",
              "      <td>6</td>\n",
              "      <td>5800</td>\n",
              "      <td>Renault Kangoo 2017</td>\n",
              "      <td>2017</td>\n",
              "      <td>233000</td>\n",
              "      <td>0</td>\n",
              "      <td>75</td>\n",
              "      <td>True</td>\n",
              "      <td>False</td>\n",
              "      <td>False</td>\n",
              "      <td>False</td>\n",
              "      <td>False</td>\n",
              "    </tr>\n",
              "    <tr>\n",
              "      <th>5</th>\n",
              "      <td>7</td>\n",
              "      <td>5999</td>\n",
              "      <td>Renault Grand Scenic 2014</td>\n",
              "      <td>2014</td>\n",
              "      <td>250000</td>\n",
              "      <td>0</td>\n",
              "      <td>110</td>\n",
              "      <td>True</td>\n",
              "      <td>False</td>\n",
              "      <td>False</td>\n",
              "      <td>False</td>\n",
              "      <td>False</td>\n",
              "    </tr>\n",
              "    <tr>\n",
              "      <th>6</th>\n",
              "      <td>8</td>\n",
              "      <td>9900</td>\n",
              "      <td>Renault Megane 2019</td>\n",
              "      <td>2019</td>\n",
              "      <td>115000</td>\n",
              "      <td>0</td>\n",
              "      <td>115</td>\n",
              "      <td>True</td>\n",
              "      <td>False</td>\n",
              "      <td>False</td>\n",
              "      <td>False</td>\n",
              "      <td>False</td>\n",
              "    </tr>\n",
              "    <tr>\n",
              "      <th>7</th>\n",
              "      <td>9</td>\n",
              "      <td>22000</td>\n",
              "      <td>Renault Trafic 2022</td>\n",
              "      <td>2022</td>\n",
              "      <td>35000</td>\n",
              "      <td>0</td>\n",
              "      <td>110</td>\n",
              "      <td>True</td>\n",
              "      <td>False</td>\n",
              "      <td>False</td>\n",
              "      <td>False</td>\n",
              "      <td>False</td>\n",
              "    </tr>\n",
              "    <tr>\n",
              "      <th>8</th>\n",
              "      <td>10</td>\n",
              "      <td>3500</td>\n",
              "      <td>Renault Megane 2004</td>\n",
              "      <td>2004</td>\n",
              "      <td>152000</td>\n",
              "      <td>0</td>\n",
              "      <td>80</td>\n",
              "      <td>True</td>\n",
              "      <td>False</td>\n",
              "      <td>False</td>\n",
              "      <td>False</td>\n",
              "      <td>False</td>\n",
              "    </tr>\n",
              "    <tr>\n",
              "      <th>9</th>\n",
              "      <td>11</td>\n",
              "      <td>8300</td>\n",
              "      <td>Renault Kangoo 2019</td>\n",
              "      <td>2019</td>\n",
              "      <td>114031</td>\n",
              "      <td>0</td>\n",
              "      <td>90</td>\n",
              "      <td>True</td>\n",
              "      <td>False</td>\n",
              "      <td>False</td>\n",
              "      <td>False</td>\n",
              "      <td>False</td>\n",
              "    </tr>\n",
              "  </tbody>\n",
              "</table>\n",
              "</div>"
            ],
            "text/plain": [
              "   Unnamed: 0  Precio                     Título   Año  kilometraje  Cambio  \\\n",
              "0           1   11999      Renault Talisman 2017  2017       158000       0   \n",
              "1           3    6999        Renault Megane 2012  2012       166000       0   \n",
              "2           4    4500        Renault Megane 2010  2010       212580       0   \n",
              "3           5    4999   Renault Laguna 4 CONTROL  2013       316000       1   \n",
              "4           6    5800        Renault Kangoo 2017  2017       233000       0   \n",
              "5           7    5999  Renault Grand Scenic 2014  2014       250000       0   \n",
              "6           8    9900        Renault Megane 2019  2019       115000       0   \n",
              "7           9   22000        Renault Trafic 2022  2022        35000       0   \n",
              "8          10    3500        Renault Megane 2004  2004       152000       0   \n",
              "9          11    8300        Renault Kangoo 2019  2019       114031       0   \n",
              "\n",
              "   Potencia  Diésel  Eléctrico  Gasolina  Hybrid  Otros  \n",
              "0       110    True      False     False   False  False  \n",
              "1       115   False      False      True   False  False  \n",
              "2       110    True      False     False   False  False  \n",
              "3       175    True      False     False   False  False  \n",
              "4        75    True      False     False   False  False  \n",
              "5       110    True      False     False   False  False  \n",
              "6       115    True      False     False   False  False  \n",
              "7       110    True      False     False   False  False  \n",
              "8        80    True      False     False   False  False  \n",
              "9        90    True      False     False   False  False  "
            ]
          },
          "execution_count": 9,
          "metadata": {},
          "output_type": "execute_result"
        }
      ],
      "source": [
        "# Visualizamos los 10 primero datos, de una manera mas comoda.\n",
        "data.head(n=10)"
      ]
    },
    {
      "cell_type": "code",
      "execution_count": 10,
      "metadata": {
        "id": "FFNh8EJEx4xX"
      },
      "outputs": [],
      "source": [
        "# Realizamos un resumen estadistico de las variables.\n",
        "descripcion = data.describe(include=\"all\").T"
      ]
    },
    {
      "cell_type": "code",
      "execution_count": 11,
      "metadata": {
        "colab": {
          "base_uri": "https://localhost:8080/",
          "height": 549
        },
        "id": "IHqNw-XDfJTG",
        "outputId": "9a33d4a3-3f70-4bd4-e715-eccedb3f1dd1"
      },
      "outputs": [
        {
          "data": {
            "text/html": [
              "<div>\n",
              "<style scoped>\n",
              "    .dataframe tbody tr th:only-of-type {\n",
              "        vertical-align: middle;\n",
              "    }\n",
              "\n",
              "    .dataframe tbody tr th {\n",
              "        vertical-align: top;\n",
              "    }\n",
              "\n",
              "    .dataframe thead th {\n",
              "        text-align: right;\n",
              "    }\n",
              "</style>\n",
              "<table border=\"1\" class=\"dataframe\">\n",
              "  <thead>\n",
              "    <tr style=\"text-align: right;\">\n",
              "      <th></th>\n",
              "      <th>count</th>\n",
              "      <th>unique</th>\n",
              "      <th>top</th>\n",
              "      <th>freq</th>\n",
              "      <th>mean</th>\n",
              "      <th>std</th>\n",
              "      <th>min</th>\n",
              "      <th>25%</th>\n",
              "      <th>50%</th>\n",
              "      <th>75%</th>\n",
              "      <th>max</th>\n",
              "    </tr>\n",
              "  </thead>\n",
              "  <tbody>\n",
              "    <tr>\n",
              "      <th>Unnamed: 0</th>\n",
              "      <td>1839.0</td>\n",
              "      <td>NaN</td>\n",
              "      <td>NaN</td>\n",
              "      <td>NaN</td>\n",
              "      <td>1066.144644</td>\n",
              "      <td>587.328555</td>\n",
              "      <td>1.0</td>\n",
              "      <td>554.5</td>\n",
              "      <td>1082.0</td>\n",
              "      <td>1576.5</td>\n",
              "      <td>2077.0</td>\n",
              "    </tr>\n",
              "    <tr>\n",
              "      <th>Precio</th>\n",
              "      <td>1839.0</td>\n",
              "      <td>NaN</td>\n",
              "      <td>NaN</td>\n",
              "      <td>NaN</td>\n",
              "      <td>14110.395867</td>\n",
              "      <td>9139.366357</td>\n",
              "      <td>0.0</td>\n",
              "      <td>7997.0</td>\n",
              "      <td>13490.0</td>\n",
              "      <td>18690.0</td>\n",
              "      <td>82900.0</td>\n",
              "    </tr>\n",
              "    <tr>\n",
              "      <th>Título</th>\n",
              "      <td>1839</td>\n",
              "      <td>1099</td>\n",
              "      <td>Mercedes-Benz Citan 1.5 CDI 109 Furgón 90CV</td>\n",
              "      <td>25</td>\n",
              "      <td>NaN</td>\n",
              "      <td>NaN</td>\n",
              "      <td>NaN</td>\n",
              "      <td>NaN</td>\n",
              "      <td>NaN</td>\n",
              "      <td>NaN</td>\n",
              "      <td>NaN</td>\n",
              "    </tr>\n",
              "    <tr>\n",
              "      <th>Año</th>\n",
              "      <td>1839.0</td>\n",
              "      <td>NaN</td>\n",
              "      <td>NaN</td>\n",
              "      <td>NaN</td>\n",
              "      <td>2016.302882</td>\n",
              "      <td>6.08948</td>\n",
              "      <td>1980.0</td>\n",
              "      <td>2015.0</td>\n",
              "      <td>2019.0</td>\n",
              "      <td>2020.0</td>\n",
              "      <td>2024.0</td>\n",
              "    </tr>\n",
              "    <tr>\n",
              "      <th>kilometraje</th>\n",
              "      <td>1839.0</td>\n",
              "      <td>NaN</td>\n",
              "      <td>NaN</td>\n",
              "      <td>NaN</td>\n",
              "      <td>142195.892333</td>\n",
              "      <td>791700.453133</td>\n",
              "      <td>1.0</td>\n",
              "      <td>61627.0</td>\n",
              "      <td>102173.0</td>\n",
              "      <td>148557.5</td>\n",
              "      <td>33400000.0</td>\n",
              "    </tr>\n",
              "    <tr>\n",
              "      <th>Cambio</th>\n",
              "      <td>1839.0</td>\n",
              "      <td>NaN</td>\n",
              "      <td>NaN</td>\n",
              "      <td>NaN</td>\n",
              "      <td>0.162045</td>\n",
              "      <td>0.368592</td>\n",
              "      <td>0.0</td>\n",
              "      <td>0.0</td>\n",
              "      <td>0.0</td>\n",
              "      <td>0.0</td>\n",
              "      <td>1.0</td>\n",
              "    </tr>\n",
              "    <tr>\n",
              "      <th>Potencia</th>\n",
              "      <td>1839.0</td>\n",
              "      <td>NaN</td>\n",
              "      <td>NaN</td>\n",
              "      <td>NaN</td>\n",
              "      <td>123.894508</td>\n",
              "      <td>266.69857</td>\n",
              "      <td>13.0</td>\n",
              "      <td>95.0</td>\n",
              "      <td>115.0</td>\n",
              "      <td>130.0</td>\n",
              "      <td>11290.0</td>\n",
              "    </tr>\n",
              "    <tr>\n",
              "      <th>Diésel</th>\n",
              "      <td>1839</td>\n",
              "      <td>2</td>\n",
              "      <td>True</td>\n",
              "      <td>1332</td>\n",
              "      <td>NaN</td>\n",
              "      <td>NaN</td>\n",
              "      <td>NaN</td>\n",
              "      <td>NaN</td>\n",
              "      <td>NaN</td>\n",
              "      <td>NaN</td>\n",
              "      <td>NaN</td>\n",
              "    </tr>\n",
              "    <tr>\n",
              "      <th>Eléctrico</th>\n",
              "      <td>1839</td>\n",
              "      <td>2</td>\n",
              "      <td>False</td>\n",
              "      <td>1801</td>\n",
              "      <td>NaN</td>\n",
              "      <td>NaN</td>\n",
              "      <td>NaN</td>\n",
              "      <td>NaN</td>\n",
              "      <td>NaN</td>\n",
              "      <td>NaN</td>\n",
              "      <td>NaN</td>\n",
              "    </tr>\n",
              "    <tr>\n",
              "      <th>Gasolina</th>\n",
              "      <td>1839</td>\n",
              "      <td>2</td>\n",
              "      <td>False</td>\n",
              "      <td>1415</td>\n",
              "      <td>NaN</td>\n",
              "      <td>NaN</td>\n",
              "      <td>NaN</td>\n",
              "      <td>NaN</td>\n",
              "      <td>NaN</td>\n",
              "      <td>NaN</td>\n",
              "      <td>NaN</td>\n",
              "    </tr>\n",
              "    <tr>\n",
              "      <th>Hybrid</th>\n",
              "      <td>1839</td>\n",
              "      <td>2</td>\n",
              "      <td>False</td>\n",
              "      <td>1815</td>\n",
              "      <td>NaN</td>\n",
              "      <td>NaN</td>\n",
              "      <td>NaN</td>\n",
              "      <td>NaN</td>\n",
              "      <td>NaN</td>\n",
              "      <td>NaN</td>\n",
              "      <td>NaN</td>\n",
              "    </tr>\n",
              "    <tr>\n",
              "      <th>Otros</th>\n",
              "      <td>1839</td>\n",
              "      <td>2</td>\n",
              "      <td>False</td>\n",
              "      <td>1818</td>\n",
              "      <td>NaN</td>\n",
              "      <td>NaN</td>\n",
              "      <td>NaN</td>\n",
              "      <td>NaN</td>\n",
              "      <td>NaN</td>\n",
              "      <td>NaN</td>\n",
              "      <td>NaN</td>\n",
              "    </tr>\n",
              "  </tbody>\n",
              "</table>\n",
              "</div>"
            ],
            "text/plain": [
              "              count unique                                          top  freq  \\\n",
              "Unnamed: 0   1839.0    NaN                                          NaN   NaN   \n",
              "Precio       1839.0    NaN                                          NaN   NaN   \n",
              "Título         1839   1099  Mercedes-Benz Citan 1.5 CDI 109 Furgón 90CV    25   \n",
              "Año          1839.0    NaN                                          NaN   NaN   \n",
              "kilometraje  1839.0    NaN                                          NaN   NaN   \n",
              "Cambio       1839.0    NaN                                          NaN   NaN   \n",
              "Potencia     1839.0    NaN                                          NaN   NaN   \n",
              "Diésel         1839      2                                         True  1332   \n",
              "Eléctrico      1839      2                                        False  1801   \n",
              "Gasolina       1839      2                                        False  1415   \n",
              "Hybrid         1839      2                                        False  1815   \n",
              "Otros          1839      2                                        False  1818   \n",
              "\n",
              "                      mean            std     min      25%       50%  \\\n",
              "Unnamed: 0     1066.144644     587.328555     1.0    554.5    1082.0   \n",
              "Precio        14110.395867    9139.366357     0.0   7997.0   13490.0   \n",
              "Título                 NaN            NaN     NaN      NaN       NaN   \n",
              "Año            2016.302882        6.08948  1980.0   2015.0    2019.0   \n",
              "kilometraje  142195.892333  791700.453133     1.0  61627.0  102173.0   \n",
              "Cambio            0.162045       0.368592     0.0      0.0       0.0   \n",
              "Potencia        123.894508      266.69857    13.0     95.0     115.0   \n",
              "Diésel                 NaN            NaN     NaN      NaN       NaN   \n",
              "Eléctrico              NaN            NaN     NaN      NaN       NaN   \n",
              "Gasolina               NaN            NaN     NaN      NaN       NaN   \n",
              "Hybrid                 NaN            NaN     NaN      NaN       NaN   \n",
              "Otros                  NaN            NaN     NaN      NaN       NaN   \n",
              "\n",
              "                  75%         max  \n",
              "Unnamed: 0     1576.5      2077.0  \n",
              "Precio        18690.0     82900.0  \n",
              "Título            NaN         NaN  \n",
              "Año            2020.0      2024.0  \n",
              "kilometraje  148557.5  33400000.0  \n",
              "Cambio            0.0         1.0  \n",
              "Potencia        130.0     11290.0  \n",
              "Diésel            NaN         NaN  \n",
              "Eléctrico         NaN         NaN  \n",
              "Gasolina          NaN         NaN  \n",
              "Hybrid            NaN         NaN  \n",
              "Otros             NaN         NaN  "
            ]
          },
          "execution_count": 11,
          "metadata": {},
          "output_type": "execute_result"
        }
      ],
      "source": [
        "descripcion"
      ]
    },
    {
      "cell_type": "code",
      "execution_count": 12,
      "metadata": {
        "colab": {
          "base_uri": "https://localhost:8080/"
        },
        "id": "mm2m8gQmx4xY",
        "outputId": "110b74c8-c2f7-473b-fee2-a2de12eddf43"
      },
      "outputs": [
        {
          "name": "stdout",
          "output_type": "stream",
          "text": [
            "<class 'pandas.core.frame.DataFrame'>\n",
            "Index: 1839 entries, 0 to 1961\n",
            "Data columns (total 12 columns):\n",
            " #   Column       Non-Null Count  Dtype \n",
            "---  ------       --------------  ----- \n",
            " 0   Unnamed: 0   1839 non-null   int64 \n",
            " 1   Precio       1839 non-null   int64 \n",
            " 2   Título       1839 non-null   object\n",
            " 3   Año          1839 non-null   int64 \n",
            " 4   kilometraje  1839 non-null   int64 \n",
            " 5   Cambio       1839 non-null   int64 \n",
            " 6   Potencia     1839 non-null   int64 \n",
            " 7   Diésel       1839 non-null   bool  \n",
            " 8   Eléctrico    1839 non-null   bool  \n",
            " 9   Gasolina     1839 non-null   bool  \n",
            " 10  Hybrid       1839 non-null   bool  \n",
            " 11  Otros        1839 non-null   bool  \n",
            "dtypes: bool(5), int64(6), object(1)\n",
            "memory usage: 123.9+ KB\n"
          ]
        }
      ],
      "source": [
        "data.info()"
      ]
    },
    {
      "cell_type": "markdown",
      "metadata": {
        "id": "Em0Y5YqkQpcq"
      },
      "source": [
        "Intentamos \"limitar\" nuestro estudio a los datos para los que tiene sentido hacer un modelo de predicción"
      ]
    },
    {
      "cell_type": "code",
      "execution_count": 13,
      "metadata": {
        "id": "faVBbr7DQS_1"
      },
      "outputs": [],
      "source": [
        "# Quitar los que no son renault\n",
        "data = data[data[\"Título\"].str.contains(\"enault\")]"
      ]
    },
    {
      "cell_type": "code",
      "execution_count": 14,
      "metadata": {
        "id": "8U1VcukLQfpE"
      },
      "outputs": [],
      "source": [
        "# Quedarnos con los precios entre 1000 y 25000\n",
        "data = data[data['Precio'].between(1000, 25000)]\n",
        "# kilómetros entre 1000 y 300000\n",
        "data = data[data['kilometraje'].between(1000, 300000)]"
      ]
    },
    {
      "cell_type": "code",
      "execution_count": 16,
      "metadata": {
        "id": "-NEaSFoHQgz9"
      },
      "outputs": [],
      "source": [
        "data = data[data[\"Año\"] > 1995]\n",
        "data = data[data[\"Potencia\"] < 450]"
      ]
    },
    {
      "cell_type": "code",
      "execution_count": 17,
      "metadata": {
        "id": "qf6fYmJiQnA6"
      },
      "outputs": [],
      "source": [
        "data = data.drop('Título', axis=1)\n",
        "data = data.drop('Unnamed: 0', axis=1)"
      ]
    },
    {
      "cell_type": "code",
      "execution_count": 16,
      "metadata": {
        "id": "ils6bEBDZ1kQ"
      },
      "outputs": [],
      "source": [
        "data = data.drop('Otros', axis=1)"
      ]
    },
    {
      "cell_type": "code",
      "execution_count": 18,
      "metadata": {
        "colab": {
          "base_uri": "https://localhost:8080/"
        },
        "id": "9f2IxXZFd9xu",
        "outputId": "207e9f3a-64ad-4d82-e469-e7fe258d6f02"
      },
      "outputs": [
        {
          "data": {
            "text/plain": [
              "1056"
            ]
          },
          "execution_count": 18,
          "metadata": {},
          "output_type": "execute_result"
        }
      ],
      "source": [
        "len(data)"
      ]
    },
    {
      "cell_type": "markdown",
      "metadata": {
        "id": "QbUBBwuPRDHw"
      },
      "source": [
        "Una vez que comprobamos que los datos son correctos pasamos a la modelizacion, utilizando tecnicas de machine learning.\n",
        "\n",
        "Cuando realizamos un modelo predictivo es necesario conocer la fiabilidad esperada con datos futuros.\n",
        "\n",
        "Para ello podemos hacer una particion y utilizar unos datos para entrenar el modelo (train) y otros para comprobar la fiabilidad (test)."
      ]
    },
    {
      "cell_type": "markdown",
      "metadata": {
        "id": "_dDCs1Csx4xY"
      },
      "source": [
        "# Representaciones gráficas de los datos"
      ]
    },
    {
      "cell_type": "code",
      "execution_count": null,
      "metadata": {
        "id": "_5I58RC9Wvzz"
      },
      "outputs": [],
      "source": []
    },
    {
      "cell_type": "markdown",
      "metadata": {
        "id": "2o1ZO7g-x4xa"
      },
      "source": [
        "Una vez que comprobamos que los datos son correctos pasamos a la modelizacion, utilizando tecnicas de machine learning.\n",
        "\n",
        "Cuando realizamos un modelo predictivo es necesario conocer la fiabilidad esperada con datos futuros.\n",
        "\n",
        "Para ello podemos hacer una particion y utilizar unos datos para entrenar el modelo (train) y otros para comprobar la fiabilidad (test)."
      ]
    },
    {
      "cell_type": "markdown",
      "metadata": {},
      "source": []
    },
    {
      "cell_type": "markdown",
      "metadata": {
        "id": "wmPzXu5fRMQj"
      },
      "source": [
        "# Modelo de Regresión"
      ]
    }
  ],
  "metadata": {
    "colab": {
      "provenance": []
    },
    "kernelspec": {
      "display_name": "Python 3",
      "language": "python",
      "name": "python3"
    },
    "language_info": {
      "codemirror_mode": {
        "name": "ipython",
        "version": 3
      },
      "file_extension": ".py",
      "mimetype": "text/x-python",
      "name": "python",
      "nbconvert_exporter": "python",
      "pygments_lexer": "ipython3",
      "version": "3.12.10"
    }
  },
  "nbformat": 4,
  "nbformat_minor": 0
}
